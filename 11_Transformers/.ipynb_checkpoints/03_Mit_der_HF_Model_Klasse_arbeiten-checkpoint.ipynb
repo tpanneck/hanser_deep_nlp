{
 "cells": [
  {
   "cell_type": "markdown",
   "id": "11aa0dca",
   "metadata": {},
   "source": [
    "## 11.3.4\tMit der Model-Klasse arbeiten"
   ]
  },
  {
   "cell_type": "markdown",
   "id": "a6727df0",
   "metadata": {},
   "source": [
    "#### Laden eines Modells und des Tokenizers"
   ]
  },
  {
   "cell_type": "code",
   "execution_count": 1,
   "id": "5a8a702e",
   "metadata": {},
   "outputs": [
    {
     "name": "stderr",
     "output_type": "stream",
     "text": [
      "Some layers from the model checkpoint at bert-base-german-cased were not used when initializing TFBertModel: ['mlm___cls', 'nsp___cls']\n",
      "- This IS expected if you are initializing TFBertModel from the checkpoint of a model trained on another task or with another architecture (e.g. initializing a BertForSequenceClassification model from a BertForPreTraining model).\n",
      "- This IS NOT expected if you are initializing TFBertModel from the checkpoint of a model that you expect to be exactly identical (initializing a BertForSequenceClassification model from a BertForSequenceClassification model).\n",
      "All the layers of TFBertModel were initialized from the model checkpoint at bert-base-german-cased.\n",
      "If your task is similar to the task the model of the checkpoint was trained on, you can already use TFBertModel for predictions without further training.\n"
     ]
    }
   ],
   "source": [
    "from transformers import AutoTokenizer, TFAutoModel\n",
    "\n",
    "model = TFAutoModel.from_pretrained(\"bert-base-german-cased\")\n",
    "tokenizer = AutoTokenizer.from_pretrained(\"bert-base-german-cased\")"
   ]
  },
  {
   "cell_type": "markdown",
   "id": "b9181616",
   "metadata": {},
   "source": [
    "#### Tokenisierer und Modell verwenden"
   ]
  },
  {
   "cell_type": "code",
   "execution_count": 2,
   "id": "4746add0",
   "metadata": {},
   "outputs": [
    {
     "data": {
      "text/plain": [
       "TensorShape([1, 6, 768])"
      ]
     },
     "execution_count": 2,
     "metadata": {},
     "output_type": "execute_result"
    }
   ],
   "source": [
    "text = 'Die Erde ist rund'\n",
    "inputs = tokenizer(text, return_tensors='tf')\n",
    "output = model(**inputs)\n",
    "output[0].shape"
   ]
  }
 ],
 "metadata": {
  "kernelspec": {
   "display_name": "Python 3 (ipykernel)",
   "language": "python",
   "name": "python3"
  },
  "language_info": {
   "codemirror_mode": {
    "name": "ipython",
    "version": 3
   },
   "file_extension": ".py",
   "mimetype": "text/x-python",
   "name": "python",
   "nbconvert_exporter": "python",
   "pygments_lexer": "ipython3",
   "version": "3.7.6"
  }
 },
 "nbformat": 4,
 "nbformat_minor": 5
}
