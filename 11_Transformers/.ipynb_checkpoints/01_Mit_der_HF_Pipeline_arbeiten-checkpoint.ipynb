{
 "cells": [
  {
   "cell_type": "markdown",
   "id": "c1e3550c",
   "metadata": {},
   "source": [
    "## 11.3.2\tMit der Hugging Face-Pipeline arbeiten"
   ]
  },
  {
   "cell_type": "markdown",
   "id": "9c0dd7d2",
   "metadata": {},
   "source": [
    "### 01 - Einfachste Variante der Verwendung einer Pipeline"
   ]
  },
  {
   "cell_type": "code",
   "execution_count": 2,
   "id": "93d9591a",
   "metadata": {},
   "outputs": [
    {
     "name": "stderr",
     "output_type": "stream",
     "text": [
      "No model was supplied, defaulted to distilbert-base-uncased-finetuned-sst-2-english (https://huggingface.co/distilbert-base-uncased-finetuned-sst-2-english)\n"
     ]
    },
    {
     "data": {
      "text/plain": [
       "[{'label': 'NEGATIVE', 'score': 0.9998111128807068}]"
      ]
     },
     "execution_count": 2,
     "metadata": {},
     "output_type": "execute_result"
    }
   ],
   "source": [
    "from transformers import pipeline\n",
    "\n",
    "classifier = pipeline(\"sentiment-analysis\")\n",
    "classifier(\"What a waste of time\")"
   ]
  },
  {
   "cell_type": "code",
   "execution_count": 3,
   "id": "a1f64b4e",
   "metadata": {},
   "outputs": [
    {
     "data": {
      "text/plain": [
       "DistilBertConfig {\n",
       "  \"_name_or_path\": \"distilbert-base-uncased-finetuned-sst-2-english\",\n",
       "  \"activation\": \"gelu\",\n",
       "  \"architectures\": [\n",
       "    \"DistilBertForSequenceClassification\"\n",
       "  ],\n",
       "  \"attention_dropout\": 0.1,\n",
       "  \"dim\": 768,\n",
       "  \"dropout\": 0.1,\n",
       "  \"finetuning_task\": \"sst-2\",\n",
       "  \"hidden_dim\": 3072,\n",
       "  \"id2label\": {\n",
       "    \"0\": \"NEGATIVE\",\n",
       "    \"1\": \"POSITIVE\"\n",
       "  },\n",
       "  \"initializer_range\": 0.02,\n",
       "  \"label2id\": {\n",
       "    \"NEGATIVE\": 0,\n",
       "    \"POSITIVE\": 1\n",
       "  },\n",
       "  \"max_position_embeddings\": 512,\n",
       "  \"model_type\": \"distilbert\",\n",
       "  \"n_heads\": 12,\n",
       "  \"n_layers\": 6,\n",
       "  \"output_past\": true,\n",
       "  \"pad_token_id\": 0,\n",
       "  \"qa_dropout\": 0.1,\n",
       "  \"seq_classif_dropout\": 0.2,\n",
       "  \"sinusoidal_pos_embds\": false,\n",
       "  \"tie_weights_\": true,\n",
       "  \"transformers_version\": \"4.10.2\",\n",
       "  \"vocab_size\": 30522\n",
       "}"
      ]
     },
     "execution_count": 3,
     "metadata": {},
     "output_type": "execute_result"
    }
   ],
   "source": [
    "classifier.model.config"
   ]
  },
  {
   "cell_type": "markdown",
   "id": "0eeb56f2",
   "metadata": {},
   "source": [
    "### 02 - Spezifisches Modell laden"
   ]
  },
  {
   "cell_type": "markdown",
   "id": "f48d9444",
   "metadata": {},
   "source": [
    "from transformers import ( TFAutoModelForSequenceClassification, \n",
    "                            AutoTokenizer )\n",
    "from transformers import pipeline\n",
    "\n",
    "model = TFAutoModelForSequenceClassification.from_pretrained( \n",
    "          \"distilbert-base-uncased-finetuned-sst-2-english\" )\n",
    "tokenizer = AutoTokenizer.from_pretrained( \n",
    "            \"distilbert-base-uncased-finetuned-sst-2-english\" )\n",
    "\n",
    "pipe = pipeline( task='sentiment-analysis', \n",
    "                 model=model,\n",
    "                 tokenizer=tokenizer)\n",
    "pipe(\"What a waste of time\")"
   ]
  },
  {
   "cell_type": "markdown",
   "id": "6174e46d",
   "metadata": {},
   "source": [
    "### 03 - Deutsches Modell für Frage-Antwort-Aufgabe laden"
   ]
  },
  {
   "cell_type": "markdown",
   "id": "49210afb",
   "metadata": {},
   "source": [
    "#### Modell und Tokenizer laden"
   ]
  },
  {
   "cell_type": "code",
   "execution_count": 7,
   "id": "7c2cf042",
   "metadata": {},
   "outputs": [
    {
     "name": "stderr",
     "output_type": "stream",
     "text": [
      "All model checkpoint layers were used when initializing TFElectraForQuestionAnswering.\n",
      "\n",
      "All the layers of TFElectraForQuestionAnswering were initialized from the model checkpoint at deepset/gelectra-base-germanquad.\n",
      "If your task is similar to the task the model of the checkpoint was trained on, you can already use TFElectraForQuestionAnswering for predictions without further training.\n"
     ]
    }
   ],
   "source": [
    "from transformers import (AutoTokenizer, \n",
    "                         TFAutoModelForQuestionAnswering)\n",
    "\n",
    "tokenizer = AutoTokenizer.from_pretrained( \n",
    "                            \"deepset/gelectra-base-germanquad\" )\n",
    "model = TFAutoModelForQuestionAnswering.from_pretrained(\n",
    "                           \"deepset/gelectra-base-germanquad\" )"
   ]
  },
  {
   "cell_type": "markdown",
   "id": "9dd0a1a8",
   "metadata": {},
   "source": [
    "#### Schätzungen durchführen (Antwort generieren)"
   ]
  },
  {
   "cell_type": "code",
   "execution_count": 8,
   "id": "b3569330",
   "metadata": {},
   "outputs": [
    {
     "data": {
      "text/plain": [
       "{'score': 0.9795436263084412,\n",
       " 'start': 50,\n",
       " 'end': 64,\n",
       " 'answer': 'Judith Hermann'}"
      ]
     },
     "execution_count": 8,
     "metadata": {},
     "output_type": "execute_result"
    }
   ],
   "source": [
    "electra = pipeline( task='question-answering', \n",
    "                    model = model,\n",
    "                    tokenizer = tokenizer)\n",
    "\n",
    "question = r'''Wie heißt die Schriftstellerin, \n",
    "              die Sommerhaus später geschrieben hat?'''\n",
    "context = r'''Peter Stamm hat Agnes geschrieben. \n",
    "              Judith Hermann ist die Autorin von Lettipark und\n",
    "              Sommerhaus später. Thomas Bernhard hat \n",
    "              das Kalkwerk geschrieben.'''\n",
    "\n",
    "output = electra( context=context, question=question )\n",
    "output"
   ]
  }
 ],
 "metadata": {
  "kernelspec": {
   "display_name": "Python 3 (ipykernel)",
   "language": "python",
   "name": "python3"
  },
  "language_info": {
   "codemirror_mode": {
    "name": "ipython",
    "version": 3
   },
   "file_extension": ".py",
   "mimetype": "text/x-python",
   "name": "python",
   "nbconvert_exporter": "python",
   "pygments_lexer": "ipython3",
   "version": "3.7.6"
  }
 },
 "nbformat": 4,
 "nbformat_minor": 5
}
