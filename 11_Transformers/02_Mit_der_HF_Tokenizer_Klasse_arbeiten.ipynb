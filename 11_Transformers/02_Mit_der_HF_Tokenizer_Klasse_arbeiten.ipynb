{
 "cells": [
  {
   "cell_type": "markdown",
   "id": "d5952f65",
   "metadata": {},
   "source": [
    "## 11.3.3\tMit der Tokenizer-Klasse arbeiten"
   ]
  },
  {
   "cell_type": "markdown",
   "id": "74256c1c",
   "metadata": {},
   "source": [
    "#### Deutschen BERT cased laden"
   ]
  },
  {
   "cell_type": "code",
   "execution_count": 1,
   "id": "80fcb16b",
   "metadata": {},
   "outputs": [
    {
     "name": "stderr",
     "output_type": "stream",
     "text": [
      "Some layers from the model checkpoint at bert-base-german-cased were not used when initializing TFBertModel: ['nsp___cls', 'mlm___cls']\n",
      "- This IS expected if you are initializing TFBertModel from the checkpoint of a model trained on another task or with another architecture (e.g. initializing a BertForSequenceClassification model from a BertForPreTraining model).\n",
      "- This IS NOT expected if you are initializing TFBertModel from the checkpoint of a model that you expect to be exactly identical (initializing a BertForSequenceClassification model from a BertForSequenceClassification model).\n",
      "All the layers of TFBertModel were initialized from the model checkpoint at bert-base-german-cased.\n",
      "If your task is similar to the task the model of the checkpoint was trained on, you can already use TFBertModel for predictions without further training.\n"
     ]
    }
   ],
   "source": [
    "from transformers import AutoTokenizer, TFAutoModel\n",
    "\n",
    "model = TFAutoModel.from_pretrained(\"bert-base-german-cased\")\n",
    "tokenizer = AutoTokenizer.from_pretrained(\"bert-base-german-cased\")"
   ]
  },
  {
   "cell_type": "markdown",
   "id": "8b28bf18",
   "metadata": {},
   "source": [
    "#### tokenize-Methode nutzen"
   ]
  },
  {
   "cell_type": "code",
   "execution_count": 2,
   "id": "818085a7",
   "metadata": {},
   "outputs": [
    {
     "data": {
      "text/plain": [
       "['Die', 'Buch', '##handlung', 'verkauft', 'Kinder', '##bücher']"
      ]
     },
     "execution_count": 2,
     "metadata": {},
     "output_type": "execute_result"
    }
   ],
   "source": [
    "text = 'Die Buchhandlung verkauft Kinderbücher'\n",
    "\n",
    "tokens = tokenizer.tokenize(text)\n",
    "tokens"
   ]
  },
  {
   "cell_type": "markdown",
   "id": "a0a6b7ad",
   "metadata": {},
   "source": [
    "#### Vokabular checken"
   ]
  },
  {
   "cell_type": "code",
   "execution_count": 3,
   "id": "b1097390",
   "metadata": {},
   "outputs": [
    {
     "data": {
      "text/plain": [
       "(30000, 1426)"
      ]
     },
     "execution_count": 3,
     "metadata": {},
     "output_type": "execute_result"
    }
   ],
   "source": [
    "vocab = tokenizer.vocab\n",
    "len(vocab), vocab['Buch']"
   ]
  },
  {
   "cell_type": "markdown",
   "id": "e274ad48",
   "metadata": {},
   "source": [
    "#### Tokens in IDs umwandeln"
   ]
  },
  {
   "cell_type": "code",
   "execution_count": 4,
   "id": "bbe07dec",
   "metadata": {},
   "outputs": [
    {
     "data": {
      "text/plain": [
       "[125, 1426, 1781, 5018, 1068, 9233]"
      ]
     },
     "execution_count": 4,
     "metadata": {},
     "output_type": "execute_result"
    }
   ],
   "source": [
    "ids = tokenizer.convert_tokens_to_ids(tokens)\n",
    "ids"
   ]
  },
  {
   "cell_type": "markdown",
   "id": "63a32221",
   "metadata": {},
   "source": [
    "#### Mit dem Tokenizer als Funktionsobjekt arbeiten"
   ]
  },
  {
   "cell_type": "code",
   "execution_count": 5,
   "id": "7079986c",
   "metadata": {},
   "outputs": [
    {
     "data": {
      "text/plain": [
       "{'input_ids': [3, 125, 1426, 1781, 5018, 1068, 9233, 4], 'token_type_ids': [0, 0, 0, 0, 0, 0, 0, 0], 'attention_mask': [1, 1, 1, 1, 1, 1, 1, 1]}"
      ]
     },
     "execution_count": 5,
     "metadata": {},
     "output_type": "execute_result"
    }
   ],
   "source": [
    "text = 'Die Buchhandlung verkauft Kinderbücher'\n",
    "out_tokenizer = tokenizer(text)\n",
    "out_tokenizer"
   ]
  },
  {
   "cell_type": "markdown",
   "id": "3ea5f8a8",
   "metadata": {},
   "source": [
    "#### Die decode-Methode "
   ]
  },
  {
   "cell_type": "code",
   "execution_count": 6,
   "id": "e6306a75",
   "metadata": {},
   "outputs": [
    {
     "data": {
      "text/plain": [
       "'[CLS] Die Buchhandlung verkauft Kinderbücher [SEP]'"
      ]
     },
     "execution_count": 6,
     "metadata": {},
     "output_type": "execute_result"
    }
   ],
   "source": [
    "tokenizer.decode(out_tokenizer['input_ids'])"
   ]
  },
  {
   "cell_type": "markdown",
   "id": "f19f6ec5",
   "metadata": {},
   "source": [
    "#### Zwei Sätze übergeben (Demonstration token_type_ids)"
   ]
  },
  {
   "cell_type": "code",
   "execution_count": 7,
   "id": "262ceaef",
   "metadata": {},
   "outputs": [
    {
     "data": {
      "text/plain": [
       "{'input_ids': [3, 125, 7014, 127, 1521, 26914, 4, 21949, 292, 3764, 3466, 26898, 2736, 26914, 4], 'token_type_ids': [0, 0, 0, 0, 0, 0, 0, 1, 1, 1, 1, 1, 1, 1, 1], 'attention_mask': [1, 1, 1, 1, 1, 1, 1, 1, 1, 1, 1, 1, 1, 1, 1]}"
      ]
     },
     "execution_count": 7,
     "metadata": {},
     "output_type": "execute_result"
    }
   ],
   "source": [
    "sen_1 = 'Die Erde ist rund.'\n",
    "sen_2 = 'Butter wird leicht ranzig.'\n",
    "tokenizer(sen_1, sen_2)"
   ]
  },
  {
   "cell_type": "markdown",
   "id": "b08bb6a6",
   "metadata": {},
   "source": [
    "#### Padding (attention_mask)"
   ]
  },
  {
   "cell_type": "code",
   "execution_count": 8,
   "id": "023f5155",
   "metadata": {},
   "outputs": [
    {
     "data": {
      "text/plain": [
       "{'input_ids': [[3, 125, 7014, 127, 1521, 4, 0, 0], [3, 21949, 292, 3764, 3466, 26898, 2736, 4]], 'token_type_ids': [[0, 0, 0, 0, 0, 0, 0, 0], [0, 0, 0, 0, 0, 0, 0, 0]], 'attention_mask': [[1, 1, 1, 1, 1, 1, 0, 0], [1, 1, 1, 1, 1, 1, 1, 1]]}"
      ]
     },
     "execution_count": 8,
     "metadata": {},
     "output_type": "execute_result"
    }
   ],
   "source": [
    "texts = [ 'Die Erde ist rund',\n",
    "          'Butter wird leicht ranzig' ]\n",
    "tokenizer(texts, padding=True)"
   ]
  }
 ],
 "metadata": {
  "kernelspec": {
   "display_name": "Python 3 (ipykernel)",
   "language": "python",
   "name": "python3"
  },
  "language_info": {
   "codemirror_mode": {
    "name": "ipython",
    "version": 3
   },
   "file_extension": ".py",
   "mimetype": "text/x-python",
   "name": "python",
   "nbconvert_exporter": "python",
   "pygments_lexer": "ipython3",
   "version": "3.7.6"
  }
 },
 "nbformat": 4,
 "nbformat_minor": 5
}
