{
 "cells": [
  {
   "cell_type": "markdown",
   "id": "3e9ecf44",
   "metadata": {},
   "source": [
    "# Kapitel 10.3.2\t\n",
    "## Encoder-Decoder-Modelle mit Attention-Mechanismus"
   ]
  },
  {
   "cell_type": "markdown",
   "id": "6f468131",
   "metadata": {},
   "source": [
    "### 01 - Laden relevanter Klassen"
   ]
  },
  {
   "cell_type": "code",
   "execution_count": 1,
   "id": "60324896",
   "metadata": {
    "scrolled": true
   },
   "outputs": [],
   "source": [
    "### Laden relevanter Klassen\n",
    "from tensorflow.keras.models import load_model\n",
    "from tensorflow.keras.layers import Input, Bidirectional, Embedding, GRU, Dense, Concatenate, TimeDistributed\n",
    "from tensorflow.keras.models import Model\n",
    "from tensorflow.keras.callbacks import EarlyStopping, ModelCheckpoint\n",
    "\n",
    "### Eigene Klassen (liegen im aktuellen Verzeichnis)\n",
    "from attention_layer import AttentionLayer\n",
    "import load_translation_data"
   ]
  },
  {
   "cell_type": "markdown",
   "id": "0c09d679",
   "metadata": {},
   "source": [
    "### 02 - Trainingsdaten laden\n",
    "Unter Verwendung der Funktion *load_data* aus der Datei *load_translation_data.py* - liegt im aktuellen Verzeichnis"
   ]
  },
  {
   "cell_type": "code",
   "execution_count": 2,
   "id": "94bc132f",
   "metadata": {
    "scrolled": true
   },
   "outputs": [
    {
     "name": "stdout",
     "output_type": "stream",
     "text": [
      "['Geh.', 'Hallo!', 'Grüß Gott!', 'Lauf!', 'Lauf!'] ['<start> Go.', '<start> Hi.', '<start> Hi.', '<start> Run!', '<start> Run.'] ['Go.', 'Hi.', 'Hi.', 'Run!', 'Run.']\n",
      "[[609], [1742], [4275, 1540], [4644], [4644]] [[1, 44], [1, 2152], [1, 2152], [1, 465], [1, 465]] [[44], [2152], [2152], [465], [465]]\n",
      "max length german 19\n",
      "max length english 25\n"
     ]
    },
    {
     "data": {
      "text/plain": [
       "((220672, 19),\n",
       " (220672, 25),\n",
       " (220672, 25),\n",
       " <keras_preprocessing.text.Tokenizer at 0x2202b85c048>,\n",
       " <keras_preprocessing.text.Tokenizer at 0x2202b85c108>)"
      ]
     },
     "execution_count": 2,
     "metadata": {},
     "output_type": "execute_result"
    }
   ],
   "source": [
    "X1_pad, X2_pad, y_pad = load_translation_data.load_data(new_tokenizer=True)\n",
    "tok_de, tok_en = load_translation_data.load_tokenizer()\n",
    "X1_pad.shape, X2_pad.shape, y_pad.shape, tok_de, tok_en"
   ]
  },
  {
   "cell_type": "markdown",
   "id": "804be314",
   "metadata": {},
   "source": [
    "### 03 - Attention-Modell für Training anlegen"
   ]
  },
  {
   "cell_type": "code",
   "execution_count": 3,
   "id": "84589364",
   "metadata": {},
   "outputs": [],
   "source": [
    "def get_attention_model( seq_len_encoder: int, \n",
    "                         seq_len_decoder: int,\n",
    "                         num_words_encoder: int,\n",
    "                         num_words_decoder: int,\n",
    "                         vec_dim = 64, hidden_size = 64,\n",
    "                         ):\n",
    "\n",
    "    encoder_inputs = Input(shape=(seq_len_encoder,), name='encoder_inputs')\n",
    "    decoder_inputs = Input(shape=(seq_len_decoder,), name='decoder_inputs')\n",
    "    \n",
    "    # Encoder\n",
    "    encoder_emb = Embedding(input_dim=num_words_encoder+1, \n",
    "                            output_dim=vec_dim,\n",
    "                            name='encoder_emb')(encoder_inputs)\n",
    "    encoder_gru = Bidirectional(GRU(hidden_size, \n",
    "                                    return_sequences=True, \n",
    "                                    return_state=True), name='encoder_bi_gru')\n",
    "    encoder_out, encoder_ffw_state, encoder_bw_state = encoder_gru(encoder_emb)\n",
    "    \n",
    "    # Decoder \n",
    "    decoder_emb = Embedding(input_dim=num_words_decoder+1, \n",
    "                            output_dim=vec_dim, \n",
    "                            name='decoder_emb')(decoder_inputs)\n",
    "    decoder_gru = GRU(hidden_size*2, return_sequences=True, \n",
    "                return_state=True, name='decoder_gru')\n",
    "    encoder_state = Concatenate(axis=-1, \n",
    "                     name='concate_encoder')([encoder_ffw_state, encoder_bw_state])\n",
    "    decoder_out, decoder_state = decoder_gru(decoder_emb, \n",
    "                            initial_state=encoder_state)\n",
    "    # Attention layer\n",
    "    attn_layer = AttentionLayer(name='attention_layer')\n",
    "    attn_out, attn_states = attn_layer([encoder_out, decoder_out])\n",
    "    \n",
    "    decoder_concat = Concatenate(axis=-1, name='concat_layer')([decoder_out, attn_out])\n",
    "    dense = Dense(num_words_decoder+1, activation='softmax', name='softmax_layer')\n",
    "    dense_time = TimeDistributed(dense, name='time_distributed_layer')\n",
    "    decoder_pred = dense_time(decoder_concat)\n",
    "    \n",
    "    # Model\n",
    "    model = Model( inputs=[encoder_inputs, decoder_inputs], \n",
    "                        outputs=decoder_pred)\n",
    "    model.compile( optimizer='adam', \n",
    "                        loss='sparse_categorical_crossentropy', \n",
    "                        metrics=['accuracy'])\n",
    "    return model"
   ]
  },
  {
   "cell_type": "markdown",
   "id": "c307a1d0",
   "metadata": {},
   "source": [
    "#### Trainingsmodell laden"
   ]
  },
  {
   "cell_type": "code",
   "execution_count": 4,
   "id": "46955104",
   "metadata": {},
   "outputs": [
    {
     "name": "stdout",
     "output_type": "stream",
     "text": [
      "Model: \"functional_1\"\n",
      "__________________________________________________________________________________________________\n",
      "Layer (type)                    Output Shape         Param #     Connected to                     \n",
      "==================================================================================================\n",
      "encoder_inputs (InputLayer)     [(None, 19)]         0                                            \n",
      "__________________________________________________________________________________________________\n",
      "encoder_emb (Embedding)         (None, 19, 64)       2258368     encoder_inputs[0][0]             \n",
      "__________________________________________________________________________________________________\n",
      "decoder_inputs (InputLayer)     [(None, 25)]         0                                            \n",
      "__________________________________________________________________________________________________\n",
      "encoder_bi_gru (Bidirectional)  [(None, 19, 128), (N 49920       encoder_emb[0][0]                \n",
      "__________________________________________________________________________________________________\n",
      "decoder_emb (Embedding)         (None, 25, 64)       1042624     decoder_inputs[0][0]             \n",
      "__________________________________________________________________________________________________\n",
      "concate_encoder (Concatenate)   (None, 128)          0           encoder_bi_gru[0][1]             \n",
      "                                                                 encoder_bi_gru[0][2]             \n",
      "__________________________________________________________________________________________________\n",
      "decoder_gru (GRU)               [(None, 25, 128), (N 74496       decoder_emb[0][0]                \n",
      "                                                                 concate_encoder[0][0]            \n",
      "__________________________________________________________________________________________________\n",
      "attention_layer (AttentionLayer ((None, 25, 128), (N 32896       encoder_bi_gru[0][0]             \n",
      "                                                                 decoder_gru[0][0]                \n",
      "__________________________________________________________________________________________________\n",
      "concat_layer (Concatenate)      (None, 25, 256)      0           decoder_gru[0][0]                \n",
      "                                                                 attention_layer[0][0]            \n",
      "__________________________________________________________________________________________________\n",
      "time_distributed_layer (TimeDis (None, 25, 16291)    4186787     concat_layer[0][0]               \n",
      "==================================================================================================\n",
      "Total params: 7,645,091\n",
      "Trainable params: 7,645,091\n",
      "Non-trainable params: 0\n",
      "__________________________________________________________________________________________________\n"
     ]
    }
   ],
   "source": [
    "model = get_attention_model( seq_len_encoder=X1_pad.shape[1], \n",
    "                             seq_len_decoder=X2_pad.shape[1], \n",
    "                             num_words_encoder=len(tok_de.word_index), \n",
    "                             num_words_decoder=len(tok_en.word_index) )\n",
    "model.summary()"
   ]
  },
  {
   "cell_type": "markdown",
   "id": "47eb3a49",
   "metadata": {},
   "source": [
    "### 04 - Modell kompilieren, EarlyStopping und Checkpoints anlegen und Training starten\n",
    "Hinweis: Trainingsprozess ist hier nur angedeutet"
   ]
  },
  {
   "cell_type": "code",
   "execution_count": 5,
   "id": "3497ca5a",
   "metadata": {},
   "outputs": [
    {
     "name": "stdout",
     "output_type": "stream",
     "text": [
      "Epoch 1/20\n",
      "  78/1552 [>.............................] - ETA: 1:16:01 - loss: 4.0137 - accuracy: 0.7610"
     ]
    }
   ],
   "source": [
    "model.compile( optimizer='adam', \n",
    "               loss='sparse_categorical_crossentropy', \n",
    "               metrics=['accuracy'])\n",
    "\n",
    "stopping = EarlyStopping( monitor='val_loss', \n",
    "                         patience=3,\n",
    "                         restore_best_weights=False)\n",
    "checkpoint = ModelCheckpoint( filepath='SeqToSeq_bi_attention.h5',\n",
    "                              monitor='val_loss',\n",
    "                              save_best_only=True)\n",
    "\n",
    "history = model.fit([ X1_pad, X2_pad], y_pad, \n",
    "                        epochs=20, \n",
    "                        batch_size=128,\n",
    "                        validation_split=.1,\n",
    "                        callbacks=[stopping, checkpoint])"
   ]
  },
  {
   "cell_type": "markdown",
   "id": "613b9096",
   "metadata": {},
   "source": [
    "#### Angelerntes Modell laden"
   ]
  },
  {
   "cell_type": "code",
   "execution_count": 6,
   "id": "3c3cf3f0",
   "metadata": {},
   "outputs": [],
   "source": [
    "model = load_model( 'SeqToSeq_bi_attention.h5',\n",
    "                    custom_objects={'AttentionLayer':AttentionLayer})"
   ]
  },
  {
   "cell_type": "markdown",
   "id": "bb6aba5b",
   "metadata": {},
   "source": [
    "### 05 - Inferenzmodell aufbauen"
   ]
  },
  {
   "cell_type": "code",
   "execution_count": 7,
   "id": "814cae02",
   "metadata": {},
   "outputs": [],
   "source": [
    "def get_inference_model(model, len_seq_encoder: int, hidden_size=64):\n",
    "    \n",
    "    batch_size = 1\n",
    "\n",
    "    # Encoder\n",
    "    encoder_in = model.get_layer('encoder_inputs').input\n",
    "    encoder_output, encoder_ffw_h, encoder_bw_h = \\\n",
    "                        model.get_layer('encoder_bi_gru').output\n",
    "    encoder_states = Concatenate( axis=-1, name='encoder_concat')(\n",
    "                                  [encoder_ffw_h, encoder_bw_h]) \n",
    "    encoder = Model( inputs=encoder_in, \n",
    "                     outputs=[encoder_output, encoder_states])\n",
    "\n",
    "    # Decoder\n",
    "    decoder_inputs = Input(batch_shape=(batch_size, 1), \n",
    "                               name='decoder_word_inputs')\n",
    "    encoder_seq_states = Input(batch_shape=(batch_size, \n",
    "                                            len_seq_encoder, \n",
    "                                            hidden_size*2), name='encoder_seq_states')\n",
    "    decoder_init_state = Input(batch_shape=(batch_size, \n",
    "                                            hidden_size*2), name='decoder_init')\n",
    "\n",
    "    decoder_emb = model.get_layer('decoder_emb')\n",
    "    decoder_gru = model.get_layer('decoder_gru')\n",
    "    decoder_att = model.get_layer('attention_layer')\n",
    "    time_distributed = model.get_layer('time_distributed_layer')\n",
    "\n",
    "    decoder_emb = decoder_emb(decoder_inputs)\n",
    "    decoder_out, decoder_state = decoder_gru(decoder_emb, \n",
    "                                                     initial_state=decoder_init_state)\n",
    "    attn_out, attn_states = decoder_att([ encoder_seq_states, \n",
    "                                                  decoder_out])\n",
    "    decoder_concat = Concatenate(axis=-1, name='concat')(\n",
    "                                    [decoder_out, attn_out])\n",
    "    decoder_pred = time_distributed(decoder_concat)\n",
    "\n",
    "    decoder = Model( inputs=[encoder_seq_states, decoder_init_state, decoder_inputs],\n",
    "                           outputs=[decoder_pred, attn_states, decoder_state] )\n",
    "    return encoder, decoder"
   ]
  },
  {
   "cell_type": "markdown",
   "id": "534f787c",
   "metadata": {},
   "source": [
    "#### Inferenzmodell laden"
   ]
  },
  {
   "cell_type": "code",
   "execution_count": 8,
   "id": "b1c27da1",
   "metadata": {},
   "outputs": [
    {
     "name": "stdout",
     "output_type": "stream",
     "text": [
      "Model: \"functional_3\"\n",
      "__________________________________________________________________________________________________\n",
      "Layer (type)                    Output Shape         Param #     Connected to                     \n",
      "==================================================================================================\n",
      "encoder_inputs (InputLayer)     [(None, 19)]         0                                            \n",
      "__________________________________________________________________________________________________\n",
      "embedding_3 (Embedding)         (None, 19, 64)       2258368     encoder_inputs[0][0]             \n",
      "__________________________________________________________________________________________________\n",
      "encoder_bi_gru (Bidirectional)  [(None, 19, 128), (N 49920       embedding_3[0][0]                \n",
      "__________________________________________________________________________________________________\n",
      "encoder_concat (Concatenate)    (None, 128)          0           encoder_bi_gru[0][1]             \n",
      "                                                                 encoder_bi_gru[0][2]             \n",
      "==================================================================================================\n",
      "Total params: 2,308,288\n",
      "Trainable params: 2,308,288\n",
      "Non-trainable params: 0\n",
      "__________________________________________________________________________________________________\n",
      "Model: \"functional_5\"\n",
      "__________________________________________________________________________________________________\n",
      "Layer (type)                    Output Shape         Param #     Connected to                     \n",
      "==================================================================================================\n",
      "decoder_word_inputs (InputLayer [(1, 1)]             0                                            \n",
      "__________________________________________________________________________________________________\n",
      "decoder_emb (Embedding)         multiple             1042624     decoder_word_inputs[0][0]        \n",
      "__________________________________________________________________________________________________\n",
      "decoder_init (InputLayer)       [(1, 128)]           0                                            \n",
      "__________________________________________________________________________________________________\n",
      "decoder_gru (GRU)               multiple             74496       decoder_emb[1][0]                \n",
      "                                                                 decoder_init[0][0]               \n",
      "__________________________________________________________________________________________________\n",
      "encoder_seq_states (InputLayer) [(1, 19, 128)]       0                                            \n",
      "__________________________________________________________________________________________________\n",
      "attention_layer (AttentionLayer multiple             32896       encoder_seq_states[0][0]         \n",
      "                                                                 decoder_gru[1][0]                \n",
      "__________________________________________________________________________________________________\n",
      "concat (Concatenate)            (1, 1, 256)          0           decoder_gru[1][0]                \n",
      "                                                                 attention_layer[1][0]            \n",
      "__________________________________________________________________________________________________\n",
      "time_distributed_layer (TimeDis multiple             4186787     concat[0][0]                     \n",
      "==================================================================================================\n",
      "Total params: 5,336,803\n",
      "Trainable params: 5,336,803\n",
      "Non-trainable params: 0\n",
      "__________________________________________________________________________________________________\n"
     ]
    },
    {
     "data": {
      "text/plain": [
       "(None, None)"
      ]
     },
     "execution_count": 8,
     "metadata": {},
     "output_type": "execute_result"
    }
   ],
   "source": [
    "encoder, decoder = get_inference_model( model, len_seq_encoder=19)\n",
    "encoder.summary(), decoder.summary()"
   ]
  },
  {
   "cell_type": "markdown",
   "id": "ee1e76d1",
   "metadata": {},
   "source": [
    "### 06 Schätzungen durchführen"
   ]
  },
  {
   "cell_type": "code",
   "execution_count": 9,
   "id": "24591ad1",
   "metadata": {},
   "outputs": [],
   "source": [
    "import numpy as  np\n",
    "from tensorflow.keras.preprocessing.sequence import pad_sequences\n",
    "\n",
    "def make_predictions(x_pred:str, encoder, decoder, \n",
    "                     tok_encoder, tok_decoder, \n",
    "                     seq_len_encoder=19, seq_len_decoder=26):\n",
    "    print(x_pred)\n",
    "    x_pred = tok_encoder.texts_to_sequences([x_pred])\n",
    "    x_pred = pad_sequences( x_pred, maxlen=seq_len_encoder,\n",
    "                            padding='post',\n",
    "                            truncating='post')\n",
    "    en_seq_state, en_state = encoder.predict(x_pred)\n",
    "    dec_state = en_state\n",
    "\n",
    "    target_seq = np.zeros((1, 1))\n",
    "    target_seq[0, 0] = tok_en.word_index['<start>']\n",
    "    attn = []\n",
    "    print('translated:')\n",
    "    for i in range(seq_len_decoder):\n",
    "        dec_out, attention, dec_state = \\\n",
    "            decoder.predict([en_seq_state, dec_state, target_seq])\n",
    "        idx_word = np.argmax(dec_out[0][0])\n",
    "        if idx_word == 0:\n",
    "            break\n",
    "        print(tok_decoder.index_word[idx_word], end=' ')\n",
    "        target_seq = np.zeros((1, 1))\n",
    "        target_seq[0, 0] = idx_word\n",
    "        attn.append(attention)\n",
    "    return attn"
   ]
  },
  {
   "cell_type": "markdown",
   "id": "9eddf41f",
   "metadata": {},
   "source": [
    "#### Übersetzung mit Beispielsatz erzeugen"
   ]
  },
  {
   "cell_type": "code",
   "execution_count": 10,
   "id": "b2806f52",
   "metadata": {},
   "outputs": [
    {
     "name": "stdout",
     "output_type": "stream",
     "text": [
      "auf der anderen seite der straße steht ein baum\n",
      "translated:\n",
      "there is a tree across the street "
     ]
    }
   ],
   "source": [
    "x_pred = 'auf der anderen seite der straße steht ein baum'\n",
    "attn = make_predictions(x_pred, encoder, \n",
    "                    decoder, tok_de, tok_en)"
   ]
  },
  {
   "cell_type": "markdown",
   "id": "3f357c3d",
   "metadata": {},
   "source": [
    "#### Darstellung der Attention-Gewichte"
   ]
  },
  {
   "cell_type": "code",
   "execution_count": 11,
   "id": "f43f7f99",
   "metadata": {},
   "outputs": [
    {
     "data": {
      "image/png": "[encoded data removed]",
      "text/plain": [
       "<Figure size 432x288 with 1 Axes>"
      ]
     },
     "metadata": {
      "needs_background": "light"
     },
     "output_type": "display_data"
    }
   ],
   "source": [
    "import matplotlib.pyplot as plt\n",
    "\n",
    "attn = np.array(attn)\n",
    "attn.shape\n",
    "attn = attn.reshape(7, 19)\n",
    "\n",
    "satz = '''auf der anderen seite der straße steht ein baum <end> <end> <end> <end> <end> <end> <end> <end> <end> <end>'''.split(' ')\n",
    "\n",
    "plt.imshow(attn)\n",
    "plt.xticks(range(0,19),\n",
    "           satz, rotation=90)\n",
    "plt.yticks(range(0,7), ['there', 'is', 'a', 'tree', \n",
    "                         'across', 'the', 'street'])\n",
    "\n",
    "plt.tight_layout()"
   ]
  }
 ],
 "metadata": {
  "kernelspec": {
   "display_name": "Python 3 (ipykernel)",
   "language": "python",
   "name": "python3"
  },
  "language_info": {
   "codemirror_mode": {
    "name": "ipython",
    "version": 3
   },
   "file_extension": ".py",
   "mimetype": "text/x-python",
   "name": "python",
   "nbconvert_exporter": "python",
   "pygments_lexer": "ipython3",
   "version": "3.7.6"
  }
 },
 "nbformat": 4,
 "nbformat_minor": 5
}
