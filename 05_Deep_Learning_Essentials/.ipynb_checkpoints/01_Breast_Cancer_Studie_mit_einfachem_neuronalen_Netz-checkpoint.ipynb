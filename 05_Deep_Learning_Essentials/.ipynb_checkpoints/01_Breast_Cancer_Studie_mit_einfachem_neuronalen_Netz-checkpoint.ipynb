{
 "cells": [
  {
   "cell_type": "markdown",
   "id": "d98169b5",
   "metadata": {},
   "source": [
    "## 5.4\tEin neuronales Netz mit TensorFlow und Keras aufbauen und anlernen "
   ]
  },
  {
   "cell_type": "markdown",
   "id": "1096ff6b",
   "metadata": {},
   "source": [
    "### 01 - Daten laden (Tumorzellen-Studie)"
   ]
  },
  {
   "cell_type": "code",
   "execution_count": 1,
   "id": "84c464fd",
   "metadata": {},
   "outputs": [
    {
     "data": {
      "text/html": [
       "<div>\n",
       "<style scoped>\n",
       "    .dataframe tbody tr th:only-of-type {\n",
       "        vertical-align: middle;\n",
       "    }\n",
       "\n",
       "    .dataframe tbody tr th {\n",
       "        vertical-align: top;\n",
       "    }\n",
       "\n",
       "    .dataframe thead th {\n",
       "        text-align: right;\n",
       "    }\n",
       "</style>\n",
       "<table border=\"1\" class=\"dataframe\">\n",
       "  <thead>\n",
       "    <tr style=\"text-align: right;\">\n",
       "      <th></th>\n",
       "      <th>clump thickness</th>\n",
       "      <th>uniformity cell size</th>\n",
       "      <th>uniformity cell shape</th>\n",
       "      <th>marginal adhesion</th>\n",
       "      <th>epithelial cell size</th>\n",
       "      <th>bare nuclei</th>\n",
       "      <th>bland chromatin</th>\n",
       "      <th>normal nucleoli</th>\n",
       "      <th>mitoses</th>\n",
       "      <th>label</th>\n",
       "    </tr>\n",
       "  </thead>\n",
       "  <tbody>\n",
       "    <tr>\n",
       "      <th>0</th>\n",
       "      <td>5</td>\n",
       "      <td>1</td>\n",
       "      <td>1</td>\n",
       "      <td>1</td>\n",
       "      <td>2</td>\n",
       "      <td>1.0</td>\n",
       "      <td>3</td>\n",
       "      <td>1</td>\n",
       "      <td>1</td>\n",
       "      <td>benign</td>\n",
       "    </tr>\n",
       "    <tr>\n",
       "      <th>1</th>\n",
       "      <td>5</td>\n",
       "      <td>4</td>\n",
       "      <td>4</td>\n",
       "      <td>5</td>\n",
       "      <td>7</td>\n",
       "      <td>10.0</td>\n",
       "      <td>3</td>\n",
       "      <td>2</td>\n",
       "      <td>1</td>\n",
       "      <td>benign</td>\n",
       "    </tr>\n",
       "    <tr>\n",
       "      <th>2</th>\n",
       "      <td>3</td>\n",
       "      <td>1</td>\n",
       "      <td>1</td>\n",
       "      <td>1</td>\n",
       "      <td>2</td>\n",
       "      <td>2.0</td>\n",
       "      <td>3</td>\n",
       "      <td>1</td>\n",
       "      <td>1</td>\n",
       "      <td>benign</td>\n",
       "    </tr>\n",
       "    <tr>\n",
       "      <th>3</th>\n",
       "      <td>6</td>\n",
       "      <td>8</td>\n",
       "      <td>8</td>\n",
       "      <td>1</td>\n",
       "      <td>3</td>\n",
       "      <td>4.0</td>\n",
       "      <td>3</td>\n",
       "      <td>7</td>\n",
       "      <td>1</td>\n",
       "      <td>benign</td>\n",
       "    </tr>\n",
       "    <tr>\n",
       "      <th>4</th>\n",
       "      <td>4</td>\n",
       "      <td>1</td>\n",
       "      <td>1</td>\n",
       "      <td>3</td>\n",
       "      <td>2</td>\n",
       "      <td>1.0</td>\n",
       "      <td>3</td>\n",
       "      <td>1</td>\n",
       "      <td>1</td>\n",
       "      <td>benign</td>\n",
       "    </tr>\n",
       "  </tbody>\n",
       "</table>\n",
       "</div>"
      ],
      "text/plain": [
       "   clump thickness  uniformity cell size  uniformity cell shape  \\\n",
       "0                5                     1                      1   \n",
       "1                5                     4                      4   \n",
       "2                3                     1                      1   \n",
       "3                6                     8                      8   \n",
       "4                4                     1                      1   \n",
       "\n",
       "   marginal adhesion  epithelial cell size  bare nuclei  bland chromatin  \\\n",
       "0                  1                     2          1.0                3   \n",
       "1                  5                     7         10.0                3   \n",
       "2                  1                     2          2.0                3   \n",
       "3                  1                     3          4.0                3   \n",
       "4                  3                     2          1.0                3   \n",
       "\n",
       "   normal nucleoli  mitoses   label  \n",
       "0                1        1  benign  \n",
       "1                2        1  benign  \n",
       "2                1        1  benign  \n",
       "3                7        1  benign  \n",
       "4                1        1  benign  "
      ]
     },
     "execution_count": 1,
     "metadata": {},
     "output_type": "execute_result"
    }
   ],
   "source": [
    "from os.path import join\n",
    "import numpy as np\n",
    "import pandas as pd\n",
    "\n",
    "path = '..\\Data'\n",
    "file = 'breast_cancer_wisconsin.csv'\n",
    "\n",
    "df = pd.read_csv(join(path, file))\n",
    "df = df.drop('id', axis=1)\n",
    "df.head()"
   ]
  },
  {
   "cell_type": "markdown",
   "id": "bca35d58",
   "metadata": {},
   "source": [
    "### 02 - Skalierung der Features (x-Daten)"
   ]
  },
  {
   "cell_type": "markdown",
   "id": "abb38223",
   "metadata": {},
   "source": [
    "#### a) Vorbereitung: X und y aus *DataFrame* separieren. y-Variable als Integer codieren"
   ]
  },
  {
   "cell_type": "code",
   "execution_count": 4,
   "id": "db708b65",
   "metadata": {},
   "outputs": [
    {
     "data": {
      "text/plain": [
       "((683, 9), (683,))"
      ]
     },
     "execution_count": 4,
     "metadata": {},
     "output_type": "execute_result"
    }
   ],
   "source": [
    "X = df[['clump thickness', 'uniformity cell size', 'uniformity cell shape',\n",
    "       'marginal adhesion', 'epithelial cell size', 'bare nuclei',\n",
    "       'bland chromatin', 'normal nucleoli', 'mitoses']]\n",
    "y = df['label'].map(lambda x: 1 if x=='malignant' else 0)\n",
    "X.shape, y.shape"
   ]
  },
  {
   "cell_type": "markdown",
   "id": "8b1de1df",
   "metadata": {},
   "source": [
    "#### b) Unterteilung in Train- Testpartitionen\n",
    "Standardisiert wird mit Mittelwert und Standardabweichung der Trainingsdaten!"
   ]
  },
  {
   "cell_type": "code",
   "execution_count": 5,
   "id": "2f4b25a7",
   "metadata": {},
   "outputs": [
    {
     "data": {
      "text/plain": [
       "((546, 9), (137, 9), (546,), (137,))"
      ]
     },
     "execution_count": 5,
     "metadata": {},
     "output_type": "execute_result"
    }
   ],
   "source": [
    "from sklearn.model_selection import train_test_split\n",
    "X_train, X_test, y_train, y_test = train_test_split(X, y, test_size=.2, random_state=11)\n",
    "X_train.shape, X_test.shape, y_train.shape, y_test.shape"
   ]
  },
  {
   "cell_type": "markdown",
   "id": "9a556d79",
   "metadata": {},
   "source": [
    "### c) Standardisieren"
   ]
  },
  {
   "cell_type": "code",
   "execution_count": 7,
   "id": "2d429db4",
   "metadata": {},
   "outputs": [
    {
     "data": {
      "text/plain": [
       "(array([-0.,  0.,  0., -0., -0., -0.,  0.,  0.,  0.]),\n",
       " array([1., 1., 1., 1., 1., 1., 1., 1., 1.]))"
      ]
     },
     "execution_count": 7,
     "metadata": {},
     "output_type": "execute_result"
    }
   ],
   "source": [
    "from sklearn.preprocessing import StandardScaler\n",
    "\n",
    "# Anlernen des Scalers \n",
    "scaler = StandardScaler()\n",
    "scaler.fit(X_train)\n",
    "\n",
    "# Transformation der Daten\n",
    "X_train_sd = scaler.transform(X_train)\n",
    "X_test_sd = scaler.transform(X_test)\n",
    "\n",
    "# Überprüfen (Mittelwert sollte spaltenweise=0 sein, Standardabweichung spaltenweise=1)\n",
    "X_train_sd.mean(axis=0).round(3), X_train_sd.std(axis=0).round(3)"
   ]
  },
  {
   "cell_type": "markdown",
   "id": "27412a77",
   "metadata": {},
   "source": [
    "### 03 - Neuronales Netz mit *Keras* aufbauen "
   ]
  },
  {
   "cell_type": "code",
   "execution_count": 8,
   "id": "10f59467",
   "metadata": {},
   "outputs": [
    {
     "name": "stdout",
     "output_type": "stream",
     "text": [
      "Model: \"sequential\"\n",
      "_________________________________________________________________\n",
      "Layer (type)                 Output Shape              Param #   \n",
      "=================================================================\n",
      "dense (Dense)                (None, 9)                 90        \n",
      "_________________________________________________________________\n",
      "dense_1 (Dense)              (None, 1)                 10        \n",
      "=================================================================\n",
      "Total params: 100\n",
      "Trainable params: 100\n",
      "Non-trainable params: 0\n",
      "_________________________________________________________________\n"
     ]
    }
   ],
   "source": [
    "from tensorflow.keras.models import Sequential\n",
    "from tensorflow.keras.layers import Dense\n",
    "\n",
    "model = Sequential()\n",
    "model.add(Dense(units=9, input_shape=(9,), activation='relu'))\n",
    "model.add(Dense(units=1, activation='sigmoid'))\n",
    "model.summary()"
   ]
  },
  {
   "cell_type": "markdown",
   "id": "96be9f5e",
   "metadata": {},
   "source": [
    "### 04 - Modell kompilieren (Verlustfunktion und Optimierer festlegen)"
   ]
  },
  {
   "cell_type": "code",
   "execution_count": 9,
   "id": "2a34d31d",
   "metadata": {},
   "outputs": [],
   "source": [
    "model.compile( loss='binary_crossentropy', \n",
    "               optimizer='adam', \n",
    "               metrics=['accuracy'])"
   ]
  },
  {
   "cell_type": "markdown",
   "id": "188e5c05",
   "metadata": {},
   "source": [
    "### 05 - Anlernprozess starten"
   ]
  },
  {
   "cell_type": "code",
   "execution_count": 10,
   "id": "5c10722a",
   "metadata": {},
   "outputs": [
    {
     "name": "stdout",
     "output_type": "stream",
     "text": [
      "Epoch 1/100\n",
      "18/18 [==============================] - 0s 10ms/step - loss: 0.6291 - accuracy: 0.5293 - val_loss: 0.5781 - val_accuracy: 0.7445\n",
      "Epoch 2/100\n",
      "18/18 [==============================] - 0s 3ms/step - loss: 0.5624 - accuracy: 0.8132 - val_loss: 0.5117 - val_accuracy: 0.9270\n",
      "Epoch 3/100\n",
      "18/18 [==============================] - 0s 2ms/step - loss: 0.4980 - accuracy: 0.9231 - val_loss: 0.4503 - val_accuracy: 0.9708\n",
      "Epoch 4/100\n",
      "18/18 [==============================] - 0s 2ms/step - loss: 0.4387 - accuracy: 0.9396 - val_loss: 0.3938 - val_accuracy: 0.9708\n",
      "Epoch 5/100\n",
      "18/18 [==============================] - 0s 2ms/step - loss: 0.3855 - accuracy: 0.9451 - val_loss: 0.3456 - val_accuracy: 0.9708\n",
      "Epoch 6/100\n",
      "18/18 [==============================] - 0s 2ms/step - loss: 0.3391 - accuracy: 0.9524 - val_loss: 0.3011 - val_accuracy: 0.9708\n",
      "Epoch 7/100\n",
      "18/18 [==============================] - 0s 2ms/step - loss: 0.2975 - accuracy: 0.9542 - val_loss: 0.2620 - val_accuracy: 0.9708\n",
      "Epoch 8/100\n",
      "18/18 [==============================] - 0s 2ms/step - loss: 0.2610 - accuracy: 0.9579 - val_loss: 0.2285 - val_accuracy: 0.9708\n",
      "Epoch 9/100\n",
      "18/18 [==============================] - 0s 2ms/step - loss: 0.2308 - accuracy: 0.9597 - val_loss: 0.2009 - val_accuracy: 0.9781\n",
      "Epoch 10/100\n",
      "18/18 [==============================] - 0s 3ms/step - loss: 0.2060 - accuracy: 0.9597 - val_loss: 0.1788 - val_accuracy: 0.9781\n",
      "Epoch 11/100\n",
      "18/18 [==============================] - 0s 3ms/step - loss: 0.1869 - accuracy: 0.9597 - val_loss: 0.1631 - val_accuracy: 0.9781\n",
      "Epoch 12/100\n",
      "18/18 [==============================] - 0s 2ms/step - loss: 0.1712 - accuracy: 0.9615 - val_loss: 0.1484 - val_accuracy: 0.9781\n",
      "Epoch 13/100\n",
      "18/18 [==============================] - 0s 2ms/step - loss: 0.1580 - accuracy: 0.9615 - val_loss: 0.1361 - val_accuracy: 0.9781\n",
      "Epoch 14/100\n",
      "18/18 [==============================] - 0s 2ms/step - loss: 0.1469 - accuracy: 0.9615 - val_loss: 0.1260 - val_accuracy: 0.9781\n",
      "Epoch 15/100\n",
      "18/18 [==============================] - 0s 2ms/step - loss: 0.1378 - accuracy: 0.9615 - val_loss: 0.1180 - val_accuracy: 0.9781\n",
      "Epoch 16/100\n",
      "18/18 [==============================] - 0s 3ms/step - loss: 0.1307 - accuracy: 0.9615 - val_loss: 0.1110 - val_accuracy: 0.9781\n",
      "Epoch 17/100\n",
      "18/18 [==============================] - 0s 2ms/step - loss: 0.1259 - accuracy: 0.9670 - val_loss: 0.1069 - val_accuracy: 0.9781\n",
      "Epoch 18/100\n",
      "18/18 [==============================] - 0s 2ms/step - loss: 0.1216 - accuracy: 0.9670 - val_loss: 0.1022 - val_accuracy: 0.9781\n",
      "Epoch 19/100\n",
      "18/18 [==============================] - 0s 2ms/step - loss: 0.1172 - accuracy: 0.9670 - val_loss: 0.0980 - val_accuracy: 0.9781\n",
      "Epoch 20/100\n",
      "18/18 [==============================] - 0s 2ms/step - loss: 0.1135 - accuracy: 0.9670 - val_loss: 0.0942 - val_accuracy: 0.9781\n",
      "Epoch 21/100\n",
      "18/18 [==============================] - 0s 2ms/step - loss: 0.1102 - accuracy: 0.9670 - val_loss: 0.0910 - val_accuracy: 0.9781\n",
      "Epoch 22/100\n",
      "18/18 [==============================] - 0s 2ms/step - loss: 0.1073 - accuracy: 0.9670 - val_loss: 0.0882 - val_accuracy: 0.9781\n",
      "Epoch 23/100\n",
      "18/18 [==============================] - 0s 3ms/step - loss: 0.1047 - accuracy: 0.9670 - val_loss: 0.0856 - val_accuracy: 0.9781\n",
      "Epoch 24/100\n",
      "18/18 [==============================] - 0s 3ms/step - loss: 0.1024 - accuracy: 0.9670 - val_loss: 0.0835 - val_accuracy: 0.9781\n",
      "Epoch 25/100\n",
      "18/18 [==============================] - 0s 3ms/step - loss: 0.1004 - accuracy: 0.9670 - val_loss: 0.0815 - val_accuracy: 0.9781\n",
      "Epoch 26/100\n",
      "18/18 [==============================] - 0s 3ms/step - loss: 0.0986 - accuracy: 0.9670 - val_loss: 0.0795 - val_accuracy: 0.9781\n",
      "Epoch 27/100\n",
      "18/18 [==============================] - 0s 2ms/step - loss: 0.0969 - accuracy: 0.9670 - val_loss: 0.0780 - val_accuracy: 0.9781\n",
      "Epoch 28/100\n",
      "18/18 [==============================] - 0s 2ms/step - loss: 0.0956 - accuracy: 0.9670 - val_loss: 0.0766 - val_accuracy: 0.9781\n",
      "Epoch 29/100\n",
      "18/18 [==============================] - 0s 3ms/step - loss: 0.0943 - accuracy: 0.9670 - val_loss: 0.0754 - val_accuracy: 0.9781\n",
      "Epoch 30/100\n",
      "18/18 [==============================] - 0s 2ms/step - loss: 0.0932 - accuracy: 0.9689 - val_loss: 0.0742 - val_accuracy: 0.9781\n",
      "Epoch 31/100\n",
      "18/18 [==============================] - 0s 2ms/step - loss: 0.0921 - accuracy: 0.9689 - val_loss: 0.0732 - val_accuracy: 0.9781\n",
      "Epoch 32/100\n",
      "18/18 [==============================] - 0s 2ms/step - loss: 0.0912 - accuracy: 0.9689 - val_loss: 0.0721 - val_accuracy: 0.9781\n",
      "Epoch 33/100\n",
      "18/18 [==============================] - 0s 2ms/step - loss: 0.0902 - accuracy: 0.9689 - val_loss: 0.0713 - val_accuracy: 0.9781\n",
      "Epoch 34/100\n",
      "18/18 [==============================] - 0s 2ms/step - loss: 0.0894 - accuracy: 0.9689 - val_loss: 0.0705 - val_accuracy: 0.9781\n",
      "Epoch 35/100\n",
      "18/18 [==============================] - 0s 3ms/step - loss: 0.0887 - accuracy: 0.9689 - val_loss: 0.0698 - val_accuracy: 0.9781\n",
      "Epoch 36/100\n",
      "18/18 [==============================] - 0s 2ms/step - loss: 0.0879 - accuracy: 0.9689 - val_loss: 0.0691 - val_accuracy: 0.9781\n",
      "Epoch 37/100\n",
      "18/18 [==============================] - 0s 2ms/step - loss: 0.0872 - accuracy: 0.9689 - val_loss: 0.0685 - val_accuracy: 0.9781\n",
      "Epoch 38/100\n",
      "18/18 [==============================] - 0s 2ms/step - loss: 0.0866 - accuracy: 0.9689 - val_loss: 0.0678 - val_accuracy: 0.9781\n",
      "Epoch 39/100\n",
      "18/18 [==============================] - 0s 2ms/step - loss: 0.0860 - accuracy: 0.9689 - val_loss: 0.0672 - val_accuracy: 0.9781\n",
      "Epoch 40/100\n",
      "18/18 [==============================] - 0s 2ms/step - loss: 0.0856 - accuracy: 0.9689 - val_loss: 0.0665 - val_accuracy: 0.9781\n",
      "Epoch 41/100\n",
      "18/18 [==============================] - 0s 2ms/step - loss: 0.0849 - accuracy: 0.9689 - val_loss: 0.0659 - val_accuracy: 0.9781\n",
      "Epoch 42/100\n",
      "18/18 [==============================] - 0s 3ms/step - loss: 0.0843 - accuracy: 0.9689 - val_loss: 0.0655 - val_accuracy: 0.9781\n",
      "Epoch 43/100\n",
      "18/18 [==============================] - 0s 2ms/step - loss: 0.0839 - accuracy: 0.9689 - val_loss: 0.0649 - val_accuracy: 0.9781\n",
      "Epoch 44/100\n",
      "18/18 [==============================] - 0s 2ms/step - loss: 0.0835 - accuracy: 0.9707 - val_loss: 0.0645 - val_accuracy: 0.9781\n",
      "Epoch 45/100\n",
      "18/18 [==============================] - 0s 2ms/step - loss: 0.0830 - accuracy: 0.9707 - val_loss: 0.0641 - val_accuracy: 0.9781\n",
      "Epoch 46/100\n",
      "18/18 [==============================] - 0s 2ms/step - loss: 0.0826 - accuracy: 0.9707 - val_loss: 0.0638 - val_accuracy: 0.9781\n",
      "Epoch 47/100\n",
      "18/18 [==============================] - 0s 2ms/step - loss: 0.0823 - accuracy: 0.9707 - val_loss: 0.0634 - val_accuracy: 0.9781\n",
      "Epoch 48/100\n",
      "18/18 [==============================] - 0s 2ms/step - loss: 0.0818 - accuracy: 0.9707 - val_loss: 0.0632 - val_accuracy: 0.9781\n",
      "Epoch 49/100\n",
      "18/18 [==============================] - 0s 2ms/step - loss: 0.0815 - accuracy: 0.9707 - val_loss: 0.0628 - val_accuracy: 0.9781\n",
      "Epoch 50/100\n",
      "18/18 [==============================] - 0s 2ms/step - loss: 0.0812 - accuracy: 0.9707 - val_loss: 0.0625 - val_accuracy: 0.9781\n",
      "Epoch 51/100\n",
      "18/18 [==============================] - 0s 2ms/step - loss: 0.0809 - accuracy: 0.9707 - val_loss: 0.0622 - val_accuracy: 0.9781\n",
      "Epoch 52/100\n",
      "18/18 [==============================] - 0s 2ms/step - loss: 0.0807 - accuracy: 0.9707 - val_loss: 0.0621 - val_accuracy: 0.9781\n",
      "Epoch 53/100\n",
      "18/18 [==============================] - 0s 2ms/step - loss: 0.0802 - accuracy: 0.9707 - val_loss: 0.0618 - val_accuracy: 0.9781\n",
      "Epoch 54/100\n",
      "18/18 [==============================] - 0s 1ms/step - loss: 0.0799 - accuracy: 0.9707 - val_loss: 0.0615 - val_accuracy: 0.9781\n",
      "Epoch 55/100\n",
      "18/18 [==============================] - 0s 2ms/step - loss: 0.0795 - accuracy: 0.9707 - val_loss: 0.0612 - val_accuracy: 0.9781\n",
      "Epoch 56/100\n",
      "18/18 [==============================] - 0s 2ms/step - loss: 0.0792 - accuracy: 0.9707 - val_loss: 0.0610 - val_accuracy: 0.9781\n",
      "Epoch 57/100\n",
      "18/18 [==============================] - 0s 2ms/step - loss: 0.0789 - accuracy: 0.9707 - val_loss: 0.0609 - val_accuracy: 0.9781\n",
      "Epoch 58/100\n",
      "18/18 [==============================] - 0s 2ms/step - loss: 0.0786 - accuracy: 0.9707 - val_loss: 0.0606 - val_accuracy: 0.9781\n"
     ]
    },
    {
     "name": "stdout",
     "output_type": "stream",
     "text": [
      "Epoch 59/100\n",
      "18/18 [==============================] - 0s 2ms/step - loss: 0.0784 - accuracy: 0.9707 - val_loss: 0.0603 - val_accuracy: 0.9781\n",
      "Epoch 60/100\n",
      "18/18 [==============================] - 0s 2ms/step - loss: 0.0782 - accuracy: 0.9707 - val_loss: 0.0602 - val_accuracy: 0.9781\n",
      "Epoch 61/100\n",
      "18/18 [==============================] - 0s 2ms/step - loss: 0.0779 - accuracy: 0.9707 - val_loss: 0.0600 - val_accuracy: 0.9781\n",
      "Epoch 62/100\n",
      "18/18 [==============================] - 0s 2ms/step - loss: 0.0776 - accuracy: 0.9707 - val_loss: 0.0598 - val_accuracy: 0.9781\n",
      "Epoch 63/100\n",
      "18/18 [==============================] - 0s 2ms/step - loss: 0.0773 - accuracy: 0.9707 - val_loss: 0.0597 - val_accuracy: 0.9781\n",
      "Epoch 64/100\n",
      "18/18 [==============================] - 0s 2ms/step - loss: 0.0771 - accuracy: 0.9707 - val_loss: 0.0595 - val_accuracy: 0.9781\n",
      "Epoch 65/100\n",
      "18/18 [==============================] - 0s 2ms/step - loss: 0.0769 - accuracy: 0.9707 - val_loss: 0.0593 - val_accuracy: 0.9781\n",
      "Epoch 66/100\n",
      "18/18 [==============================] - 0s 3ms/step - loss: 0.0767 - accuracy: 0.9707 - val_loss: 0.0592 - val_accuracy: 0.9781\n",
      "Epoch 67/100\n",
      "18/18 [==============================] - 0s 2ms/step - loss: 0.0765 - accuracy: 0.9707 - val_loss: 0.0590 - val_accuracy: 0.9781\n",
      "Epoch 68/100\n",
      "18/18 [==============================] - 0s 2ms/step - loss: 0.0762 - accuracy: 0.9707 - val_loss: 0.0589 - val_accuracy: 0.9781\n",
      "Epoch 69/100\n",
      "18/18 [==============================] - 0s 2ms/step - loss: 0.0760 - accuracy: 0.9707 - val_loss: 0.0588 - val_accuracy: 0.9781\n",
      "Epoch 70/100\n",
      "18/18 [==============================] - 0s 2ms/step - loss: 0.0758 - accuracy: 0.9707 - val_loss: 0.0586 - val_accuracy: 0.9781\n",
      "Epoch 71/100\n",
      "18/18 [==============================] - 0s 2ms/step - loss: 0.0757 - accuracy: 0.9707 - val_loss: 0.0585 - val_accuracy: 0.9781\n",
      "Epoch 72/100\n",
      "18/18 [==============================] - 0s 2ms/step - loss: 0.0755 - accuracy: 0.9707 - val_loss: 0.0585 - val_accuracy: 0.9781\n",
      "Epoch 73/100\n",
      "18/18 [==============================] - 0s 1ms/step - loss: 0.0752 - accuracy: 0.9707 - val_loss: 0.0584 - val_accuracy: 0.9781\n",
      "Epoch 74/100\n",
      "18/18 [==============================] - 0s 2ms/step - loss: 0.0750 - accuracy: 0.9707 - val_loss: 0.0582 - val_accuracy: 0.9781\n",
      "Epoch 75/100\n",
      "18/18 [==============================] - 0s 2ms/step - loss: 0.0749 - accuracy: 0.9707 - val_loss: 0.0581 - val_accuracy: 0.9781\n",
      "Epoch 76/100\n",
      "18/18 [==============================] - 0s 2ms/step - loss: 0.0746 - accuracy: 0.9707 - val_loss: 0.0580 - val_accuracy: 0.9781\n",
      "Epoch 77/100\n",
      "18/18 [==============================] - 0s 2ms/step - loss: 0.0744 - accuracy: 0.9689 - val_loss: 0.0579 - val_accuracy: 0.9781\n",
      "Epoch 78/100\n",
      "18/18 [==============================] - 0s 2ms/step - loss: 0.0742 - accuracy: 0.9689 - val_loss: 0.0578 - val_accuracy: 0.9781\n",
      "Epoch 79/100\n",
      "18/18 [==============================] - 0s 2ms/step - loss: 0.0739 - accuracy: 0.9707 - val_loss: 0.0577 - val_accuracy: 0.9781\n",
      "Epoch 80/100\n",
      "18/18 [==============================] - 0s 2ms/step - loss: 0.0739 - accuracy: 0.9707 - val_loss: 0.0579 - val_accuracy: 0.9854\n",
      "Epoch 81/100\n",
      "18/18 [==============================] - 0s 1ms/step - loss: 0.0736 - accuracy: 0.9689 - val_loss: 0.0578 - val_accuracy: 0.9854\n",
      "Epoch 82/100\n",
      "18/18 [==============================] - 0s 2ms/step - loss: 0.0734 - accuracy: 0.9725 - val_loss: 0.0577 - val_accuracy: 0.9854\n",
      "Epoch 83/100\n",
      "18/18 [==============================] - 0s 2ms/step - loss: 0.0732 - accuracy: 0.9725 - val_loss: 0.0576 - val_accuracy: 0.9854\n",
      "Epoch 84/100\n",
      "18/18 [==============================] - 0s 2ms/step - loss: 0.0730 - accuracy: 0.9725 - val_loss: 0.0575 - val_accuracy: 0.9854\n",
      "Epoch 85/100\n",
      "18/18 [==============================] - 0s 2ms/step - loss: 0.0728 - accuracy: 0.9707 - val_loss: 0.0574 - val_accuracy: 0.9854\n",
      "Epoch 86/100\n",
      "18/18 [==============================] - 0s 2ms/step - loss: 0.0726 - accuracy: 0.9707 - val_loss: 0.0573 - val_accuracy: 0.9854\n",
      "Epoch 87/100\n",
      "18/18 [==============================] - 0s 2ms/step - loss: 0.0722 - accuracy: 0.9707 - val_loss: 0.0576 - val_accuracy: 0.9854\n",
      "Epoch 88/100\n",
      "18/18 [==============================] - 0s 2ms/step - loss: 0.0722 - accuracy: 0.9725 - val_loss: 0.0576 - val_accuracy: 0.9854\n",
      "Epoch 89/100\n",
      "18/18 [==============================] - 0s 2ms/step - loss: 0.0720 - accuracy: 0.9725 - val_loss: 0.0575 - val_accuracy: 0.9854\n",
      "Epoch 90/100\n",
      "18/18 [==============================] - 0s 2ms/step - loss: 0.0719 - accuracy: 0.9725 - val_loss: 0.0574 - val_accuracy: 0.9854\n",
      "Epoch 91/100\n",
      "18/18 [==============================] - 0s 3ms/step - loss: 0.0717 - accuracy: 0.9725 - val_loss: 0.0573 - val_accuracy: 0.9854\n",
      "Epoch 92/100\n",
      "18/18 [==============================] - 0s 2ms/step - loss: 0.0716 - accuracy: 0.9725 - val_loss: 0.0572 - val_accuracy: 0.9854\n",
      "Epoch 93/100\n",
      "18/18 [==============================] - 0s 2ms/step - loss: 0.0714 - accuracy: 0.9725 - val_loss: 0.0571 - val_accuracy: 0.9854\n",
      "Epoch 94/100\n",
      "18/18 [==============================] - 0s 2ms/step - loss: 0.0712 - accuracy: 0.9725 - val_loss: 0.0570 - val_accuracy: 0.9854\n",
      "Epoch 95/100\n",
      "18/18 [==============================] - 0s 2ms/step - loss: 0.0710 - accuracy: 0.9725 - val_loss: 0.0568 - val_accuracy: 0.9854\n",
      "Epoch 96/100\n",
      "18/18 [==============================] - 0s 2ms/step - loss: 0.0709 - accuracy: 0.9725 - val_loss: 0.0567 - val_accuracy: 0.9854\n",
      "Epoch 97/100\n",
      "18/18 [==============================] - 0s 2ms/step - loss: 0.0707 - accuracy: 0.9725 - val_loss: 0.0567 - val_accuracy: 0.9854\n",
      "Epoch 98/100\n",
      "18/18 [==============================] - 0s 3ms/step - loss: 0.0706 - accuracy: 0.9725 - val_loss: 0.0565 - val_accuracy: 0.9854\n",
      "Epoch 99/100\n",
      "18/18 [==============================] - 0s 2ms/step - loss: 0.0704 - accuracy: 0.9725 - val_loss: 0.0564 - val_accuracy: 0.9854\n",
      "Epoch 100/100\n",
      "18/18 [==============================] - 0s 3ms/step - loss: 0.0703 - accuracy: 0.9725 - val_loss: 0.0563 - val_accuracy: 0.9854\n"
     ]
    }
   ],
   "source": [
    "history = model.fit( X_train_sd, y_train, \n",
    "                     epochs=100, \n",
    "                     batch_size=32, \n",
    "                     validation_data=(X_test_sd, y_test) )"
   ]
  },
  {
   "cell_type": "markdown",
   "id": "cd7ea8cb",
   "metadata": {},
   "source": [
    "### 06 - History darstellen"
   ]
  },
  {
   "cell_type": "code",
   "execution_count": 11,
   "id": "eb63eb84",
   "metadata": {},
   "outputs": [
    {
     "data": {
      "text/plain": [
       "<matplotlib.legend.Legend at 0x17dece982c8>"
      ]
     },
     "execution_count": 11,
     "metadata": {},
     "output_type": "execute_result"
    },
    {
     "data": {
      "image/png": "[encoded data removed]",
      "text/plain": [
       "<Figure size 432x288 with 1 Axes>"
      ]
     },
     "metadata": {
      "needs_background": "light"
     },
     "output_type": "display_data"
    }
   ],
   "source": [
    "import matplotlib.pyplot as plt\n",
    "\n",
    "val_loss = history.history['val_loss']\n",
    "train_acc = history.history['accuracy']\n",
    "val_acc = history.history['val_accuracy']\n",
    "train_loss = history.history['loss']\n",
    "\n",
    "epochs = range(1, len(train_acc)+1)\n",
    "plt.plot(epochs, train_loss, label='train loss')\n",
    "plt.plot(epochs, val_loss, label='test loss')\n",
    "plt.plot(epochs, train_acc, label='train accuracy')\n",
    "plt.plot(epochs, val_acc, label='test accuracy')\n",
    "plt.legend()"
   ]
  },
  {
   "cell_type": "markdown",
   "id": "672fb67d",
   "metadata": {},
   "source": [
    "### 07 - Schätzungen durchführen"
   ]
  },
  {
   "cell_type": "code",
   "execution_count": 14,
   "id": "3ab5b924",
   "metadata": {},
   "outputs": [
    {
     "data": {
      "text/plain": [
       "(array([[0]]), array([[0.00363523]], dtype=float32))"
      ]
     },
     "execution_count": 14,
     "metadata": {},
     "output_type": "execute_result"
    }
   ],
   "source": [
    "# Schätzbeispiel\n",
    "X_pred = [[4., 2., 1., 1., 2., 1., 2., 1., 1.]]\n",
    "\n",
    "# Standardisieren nicht vergessen!\n",
    "X_pred_sd = scaler.transform(X_pred)\n",
    "\n",
    "# predict und predict_classes-Methode (Achtung: depricated)\n",
    "y_pred = model.predict_classes(X_pred_sd)\n",
    "y_pred_prob = model.predict(X_pred_sd)\n",
    "\n",
    "# Ausgabe der Schätzergebnisse (0=benign, 1=malignant)\n",
    "y_pred, y_pred_prob"
   ]
  }
 ],
 "metadata": {
  "kernelspec": {
   "display_name": "Python 3 (ipykernel)",
   "language": "python",
   "name": "python3"
  },
  "language_info": {
   "codemirror_mode": {
    "name": "ipython",
    "version": 3
   },
   "file_extension": ".py",
   "mimetype": "text/x-python",
   "name": "python",
   "nbconvert_exporter": "python",
   "pygments_lexer": "ipython3",
   "version": "3.7.6"
  }
 },
 "nbformat": 4,
 "nbformat_minor": 5
}
