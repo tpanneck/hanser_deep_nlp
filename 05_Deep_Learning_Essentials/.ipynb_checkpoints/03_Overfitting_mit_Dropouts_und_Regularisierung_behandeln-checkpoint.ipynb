{
 "cells": [
  {
   "cell_type": "markdown",
   "id": "d98169b5",
   "metadata": {},
   "source": [
    "## 5.4\tEin neuronales Netz mit TensorFlow und Keras aufbauen und anlernen "
   ]
  },
  {
   "cell_type": "markdown",
   "id": "1096ff6b",
   "metadata": {},
   "source": [
    "### 01 - Daten laden (Tumorzellen-Studie)"
   ]
  },
  {
   "cell_type": "code",
   "execution_count": 1,
   "id": "84c464fd",
   "metadata": {},
   "outputs": [
    {
     "data": {
      "text/html": [
       "<div>\n",
       "<style scoped>\n",
       "    .dataframe tbody tr th:only-of-type {\n",
       "        vertical-align: middle;\n",
       "    }\n",
       "\n",
       "    .dataframe tbody tr th {\n",
       "        vertical-align: top;\n",
       "    }\n",
       "\n",
       "    .dataframe thead th {\n",
       "        text-align: right;\n",
       "    }\n",
       "</style>\n",
       "<table border=\"1\" class=\"dataframe\">\n",
       "  <thead>\n",
       "    <tr style=\"text-align: right;\">\n",
       "      <th></th>\n",
       "      <th>clump thickness</th>\n",
       "      <th>uniformity cell size</th>\n",
       "      <th>uniformity cell shape</th>\n",
       "      <th>marginal adhesion</th>\n",
       "      <th>epithelial cell size</th>\n",
       "      <th>bare nuclei</th>\n",
       "      <th>bland chromatin</th>\n",
       "      <th>normal nucleoli</th>\n",
       "      <th>mitoses</th>\n",
       "      <th>label</th>\n",
       "    </tr>\n",
       "  </thead>\n",
       "  <tbody>\n",
       "    <tr>\n",
       "      <th>0</th>\n",
       "      <td>5</td>\n",
       "      <td>1</td>\n",
       "      <td>1</td>\n",
       "      <td>1</td>\n",
       "      <td>2</td>\n",
       "      <td>1.0</td>\n",
       "      <td>3</td>\n",
       "      <td>1</td>\n",
       "      <td>1</td>\n",
       "      <td>benign</td>\n",
       "    </tr>\n",
       "    <tr>\n",
       "      <th>1</th>\n",
       "      <td>5</td>\n",
       "      <td>4</td>\n",
       "      <td>4</td>\n",
       "      <td>5</td>\n",
       "      <td>7</td>\n",
       "      <td>10.0</td>\n",
       "      <td>3</td>\n",
       "      <td>2</td>\n",
       "      <td>1</td>\n",
       "      <td>benign</td>\n",
       "    </tr>\n",
       "    <tr>\n",
       "      <th>2</th>\n",
       "      <td>3</td>\n",
       "      <td>1</td>\n",
       "      <td>1</td>\n",
       "      <td>1</td>\n",
       "      <td>2</td>\n",
       "      <td>2.0</td>\n",
       "      <td>3</td>\n",
       "      <td>1</td>\n",
       "      <td>1</td>\n",
       "      <td>benign</td>\n",
       "    </tr>\n",
       "    <tr>\n",
       "      <th>3</th>\n",
       "      <td>6</td>\n",
       "      <td>8</td>\n",
       "      <td>8</td>\n",
       "      <td>1</td>\n",
       "      <td>3</td>\n",
       "      <td>4.0</td>\n",
       "      <td>3</td>\n",
       "      <td>7</td>\n",
       "      <td>1</td>\n",
       "      <td>benign</td>\n",
       "    </tr>\n",
       "    <tr>\n",
       "      <th>4</th>\n",
       "      <td>4</td>\n",
       "      <td>1</td>\n",
       "      <td>1</td>\n",
       "      <td>3</td>\n",
       "      <td>2</td>\n",
       "      <td>1.0</td>\n",
       "      <td>3</td>\n",
       "      <td>1</td>\n",
       "      <td>1</td>\n",
       "      <td>benign</td>\n",
       "    </tr>\n",
       "  </tbody>\n",
       "</table>\n",
       "</div>"
      ],
      "text/plain": [
       "   clump thickness  uniformity cell size  uniformity cell shape  \\\n",
       "0                5                     1                      1   \n",
       "1                5                     4                      4   \n",
       "2                3                     1                      1   \n",
       "3                6                     8                      8   \n",
       "4                4                     1                      1   \n",
       "\n",
       "   marginal adhesion  epithelial cell size  bare nuclei  bland chromatin  \\\n",
       "0                  1                     2          1.0                3   \n",
       "1                  5                     7         10.0                3   \n",
       "2                  1                     2          2.0                3   \n",
       "3                  1                     3          4.0                3   \n",
       "4                  3                     2          1.0                3   \n",
       "\n",
       "   normal nucleoli  mitoses   label  \n",
       "0                1        1  benign  \n",
       "1                2        1  benign  \n",
       "2                1        1  benign  \n",
       "3                7        1  benign  \n",
       "4                1        1  benign  "
      ]
     },
     "execution_count": 1,
     "metadata": {},
     "output_type": "execute_result"
    }
   ],
   "source": [
    "from os.path import join\n",
    "import numpy as np\n",
    "import pandas as pd\n",
    "\n",
    "path = '..\\Data'\n",
    "file = 'breast_cancer_wisconsin.csv'\n",
    "\n",
    "df = pd.read_csv(join(path, file))\n",
    "df = df.drop('id', axis=1)\n",
    "df.head()"
   ]
  },
  {
   "cell_type": "markdown",
   "id": "bca35d58",
   "metadata": {},
   "source": [
    "### 02 - Skalierung der Features (x-Daten)"
   ]
  },
  {
   "cell_type": "markdown",
   "id": "abb38223",
   "metadata": {},
   "source": [
    "#### a) Vorbereitung: X und y aus *DataFrame* separieren. y-Variable als Integer codieren"
   ]
  },
  {
   "cell_type": "code",
   "execution_count": 2,
   "id": "db708b65",
   "metadata": {},
   "outputs": [
    {
     "data": {
      "text/plain": [
       "((683, 9), (683,))"
      ]
     },
     "execution_count": 2,
     "metadata": {},
     "output_type": "execute_result"
    }
   ],
   "source": [
    "X = df[['clump thickness', 'uniformity cell size', 'uniformity cell shape',\n",
    "       'marginal adhesion', 'epithelial cell size', 'bare nuclei',\n",
    "       'bland chromatin', 'normal nucleoli', 'mitoses']]\n",
    "y = df['label'].map(lambda x: 1 if x=='malignant' else 0)\n",
    "X.shape, y.shape"
   ]
  },
  {
   "cell_type": "markdown",
   "id": "8b1de1df",
   "metadata": {},
   "source": [
    "#### b) Unterteilung in Train- Testpartitionen\n",
    "Standardisiert wird mit Mittelwert und Standardabweichung der Trainingsdaten!"
   ]
  },
  {
   "cell_type": "code",
   "execution_count": 3,
   "id": "2f4b25a7",
   "metadata": {},
   "outputs": [
    {
     "data": {
      "text/plain": [
       "((546, 9), (137, 9), (546,), (137,))"
      ]
     },
     "execution_count": 3,
     "metadata": {},
     "output_type": "execute_result"
    }
   ],
   "source": [
    "from sklearn.model_selection import train_test_split\n",
    "X_train, X_test, y_train, y_test = train_test_split(X, y, test_size=.2, random_state=11)\n",
    "X_train.shape, X_test.shape, y_train.shape, y_test.shape"
   ]
  },
  {
   "cell_type": "markdown",
   "id": "9a556d79",
   "metadata": {},
   "source": [
    "### c) Standardisieren"
   ]
  },
  {
   "cell_type": "code",
   "execution_count": 4,
   "id": "2d429db4",
   "metadata": {},
   "outputs": [
    {
     "data": {
      "text/plain": [
       "(array([-0.,  0.,  0., -0., -0., -0.,  0.,  0.,  0.]),\n",
       " array([1., 1., 1., 1., 1., 1., 1., 1., 1.]))"
      ]
     },
     "execution_count": 4,
     "metadata": {},
     "output_type": "execute_result"
    }
   ],
   "source": [
    "from sklearn.preprocessing import StandardScaler\n",
    "\n",
    "# Anlernen des Scalers \n",
    "scaler = StandardScaler()\n",
    "scaler.fit(X_train)\n",
    "\n",
    "# Transformation der Daten\n",
    "X_train_sd = scaler.transform(X_train)\n",
    "X_test_sd = scaler.transform(X_test)\n",
    "\n",
    "# Überprüfen (Mittelwert sollte spaltenweise=0 sein, Standardabweichung spaltenweise=1)\n",
    "X_train_sd.mean(axis=0).round(3), X_train_sd.std(axis=0).round(3)"
   ]
  },
  {
   "cell_type": "markdown",
   "id": "c7d8b1dc",
   "metadata": {},
   "source": [
    "### 03 - Referenzmodell ohne Regularisierung und Dropout\n",
    "- Hier wird mit Absicht ein für die Aufgabe überkomplexes Modell (viele Parameter) zusammengestellt"
   ]
  },
  {
   "cell_type": "code",
   "execution_count": 5,
   "id": "f11c6337",
   "metadata": {},
   "outputs": [
    {
     "name": "stdout",
     "output_type": "stream",
     "text": [
      "Model: \"sequential\"\n",
      "_________________________________________________________________\n",
      "Layer (type)                 Output Shape              Param #   \n",
      "=================================================================\n",
      "dense (Dense)                (None, 72)                720       \n",
      "_________________________________________________________________\n",
      "dense_1 (Dense)              (None, 72)                5256      \n",
      "_________________________________________________________________\n",
      "dense_2 (Dense)              (None, 72)                5256      \n",
      "_________________________________________________________________\n",
      "dense_3 (Dense)              (None, 1)                 73        \n",
      "=================================================================\n",
      "Total params: 11,305\n",
      "Trainable params: 11,305\n",
      "Non-trainable params: 0\n",
      "_________________________________________________________________\n"
     ]
    }
   ],
   "source": [
    "from tensorflow.keras.models import Sequential\n",
    "from tensorflow.keras.layers import Dense, Dropout\n",
    "\n",
    "model = Sequential()\n",
    "model.add(Dense(units=72, input_shape=(9,), activation='relu'))\n",
    "model.add(Dense(units=72, activation='relu'))\n",
    "model.add(Dense(units=72, activation='relu'))\n",
    "model.add(Dense(units=1, activation='sigmoid'))\n",
    "model.summary()\n",
    "\n",
    "model.compile( loss='binary_crossentropy', \n",
    "               optimizer='adam', \n",
    "               metrics=['accuracy'])"
   ]
  },
  {
   "cell_type": "markdown",
   "id": "69c5a028",
   "metadata": {},
   "source": [
    "### 04 - Anlernprozess Referenzmodell starten"
   ]
  },
  {
   "cell_type": "code",
   "execution_count": 6,
   "id": "bd00a0ab",
   "metadata": {},
   "outputs": [],
   "source": [
    "history = model.fit( X_train_sd, y_train, \n",
    "                     epochs=100, \n",
    "                     batch_size=32, \n",
    "                     validation_data=(X_test_sd, y_test),\n",
    "                     verbose=False)"
   ]
  },
  {
   "cell_type": "markdown",
   "id": "c65a419a",
   "metadata": {},
   "source": [
    "### 05 - History des Referenzmodells darstellen (Overfitting)"
   ]
  },
  {
   "cell_type": "code",
   "execution_count": 7,
   "id": "83e79c35",
   "metadata": {},
   "outputs": [
    {
     "data": {
      "text/plain": [
       "<matplotlib.legend.Legend at 0x16bb168b848>"
      ]
     },
     "execution_count": 7,
     "metadata": {},
     "output_type": "execute_result"
    },
    {
     "data": {
      "image/png": "[encoded data removed]",
      "text/plain": [
       "<Figure size 432x288 with 1 Axes>"
      ]
     },
     "metadata": {
      "needs_background": "light"
     },
     "output_type": "display_data"
    }
   ],
   "source": [
    "import matplotlib.pyplot as plt\n",
    "\n",
    "val_loss = history.history['val_loss']\n",
    "train_acc = history.history['accuracy']\n",
    "val_acc = history.history['val_accuracy']\n",
    "train_loss = history.history['loss']\n",
    "\n",
    "epochs = range(1, len(train_acc)+1)\n",
    "plt.plot(epochs, train_loss, label='train loss')\n",
    "plt.plot(epochs, val_loss, label='test loss')\n",
    "plt.plot(epochs, train_acc, label='train accuracy')\n",
    "plt.plot(epochs, val_acc, label='test accuracy')\n",
    "plt.legend()"
   ]
  },
  {
   "cell_type": "markdown",
   "id": "4e723602",
   "metadata": {},
   "source": [
    "--> Ab ca. 20 Epoche setzt Overfitting ein (vgl. *test loss* im Vergleich zu *train loss*)"
   ]
  },
  {
   "cell_type": "markdown",
   "id": "27412a77",
   "metadata": {},
   "source": [
    "### 06 - Neuronales Netz mit Regularisierung bzw. Dropout aufbauen "
   ]
  },
  {
   "cell_type": "markdown",
   "id": "fb74edb6",
   "metadata": {},
   "source": [
    "#### Zunächst L2-Regularisierer instanziieren"
   ]
  },
  {
   "cell_type": "code",
   "execution_count": 8,
   "id": "0d38e930",
   "metadata": {},
   "outputs": [
    {
     "data": {
      "text/plain": [
       "<tensorflow.python.keras.regularizers.L2 at 0x16bb1926848>"
      ]
     },
     "execution_count": 8,
     "metadata": {},
     "output_type": "execute_result"
    }
   ],
   "source": [
    "from tensorflow.keras.regularizers import L2\n",
    "\n",
    "l2 = L2(.001)\n",
    "l2"
   ]
  },
  {
   "cell_type": "markdown",
   "id": "1deb99d4",
   "metadata": {},
   "source": [
    "#### Dann Modell mit Regularisierung und Dropout-Schichten ausstatten.\n",
    "- Dropout-Layer kann nach jeder Schicht (außer der letzten) angelegt werden. \n",
    "- Regularisierung der Gewichte wird in Keras über *kernel_regularizer* in der Schicht eingestellt. Das übergebene Regularisierungsobjekt bestimmt Art und Stärke der Regularisierung. "
   ]
  },
  {
   "cell_type": "code",
   "execution_count": 9,
   "id": "10f59467",
   "metadata": {},
   "outputs": [
    {
     "name": "stdout",
     "output_type": "stream",
     "text": [
      "Model: \"sequential_1\"\n",
      "_________________________________________________________________\n",
      "Layer (type)                 Output Shape              Param #   \n",
      "=================================================================\n",
      "dense_4 (Dense)              (None, 72)                720       \n",
      "_________________________________________________________________\n",
      "dropout (Dropout)            (None, 72)                0         \n",
      "_________________________________________________________________\n",
      "dense_5 (Dense)              (None, 72)                5256      \n",
      "_________________________________________________________________\n",
      "dropout_1 (Dropout)          (None, 72)                0         \n",
      "_________________________________________________________________\n",
      "dense_6 (Dense)              (None, 72)                5256      \n",
      "_________________________________________________________________\n",
      "dropout_2 (Dropout)          (None, 72)                0         \n",
      "_________________________________________________________________\n",
      "dense_7 (Dense)              (None, 1)                 73        \n",
      "=================================================================\n",
      "Total params: 11,305\n",
      "Trainable params: 11,305\n",
      "Non-trainable params: 0\n",
      "_________________________________________________________________\n"
     ]
    }
   ],
   "source": [
    "from tensorflow.keras.models import Sequential\n",
    "from tensorflow.keras.layers import Dense, Dropout\n",
    "\n",
    "model = Sequential()\n",
    "model.add(Dense(units=72, input_shape=(9,), activation='relu', kernel_regularizer=l2))\n",
    "model.add(Dropout(.3))\n",
    "model.add(Dense(units=72, activation='relu', kernel_regularizer=l2))\n",
    "model.add(Dropout(.3))\n",
    "model.add(Dense(units=72, activation='relu', kernel_regularizer=l2))\n",
    "model.add(Dropout(.3))\n",
    "model.add(Dense(units=1, activation='sigmoid', kernel_regularizer=l2))\n",
    "model.summary()\n",
    "\n",
    "model.compile( loss='binary_crossentropy', \n",
    "               optimizer='adam', \n",
    "               metrics=['accuracy'])"
   ]
  },
  {
   "cell_type": "markdown",
   "id": "188e5c05",
   "metadata": {},
   "source": [
    "### 07 - Anlernprozess starten"
   ]
  },
  {
   "cell_type": "code",
   "execution_count": 10,
   "id": "5c10722a",
   "metadata": {},
   "outputs": [],
   "source": [
    "history = model.fit( X_train_sd, y_train, \n",
    "                     epochs=100, \n",
    "                     batch_size=32, \n",
    "                     validation_data=(X_test_sd, y_test),\n",
    "                     verbose=False)"
   ]
  },
  {
   "cell_type": "markdown",
   "id": "cd7ea8cb",
   "metadata": {},
   "source": [
    "### 08 - History des regularisierten Modells"
   ]
  },
  {
   "cell_type": "code",
   "execution_count": 11,
   "id": "eb63eb84",
   "metadata": {},
   "outputs": [
    {
     "data": {
      "text/plain": [
       "<matplotlib.legend.Legend at 0x16bb326e1c8>"
      ]
     },
     "execution_count": 11,
     "metadata": {},
     "output_type": "execute_result"
    },
    {
     "data": {
      "image/png": "[encoded data removed]",
      "text/plain": [
       "<Figure size 432x288 with 1 Axes>"
      ]
     },
     "metadata": {
      "needs_background": "light"
     },
     "output_type": "display_data"
    }
   ],
   "source": [
    "import matplotlib.pyplot as plt\n",
    "\n",
    "val_loss = history.history['val_loss']\n",
    "train_acc = history.history['accuracy']\n",
    "val_acc = history.history['val_accuracy']\n",
    "train_loss = history.history['loss']\n",
    "\n",
    "epochs = range(1, len(train_acc)+1)\n",
    "plt.plot(epochs, train_loss, label='train loss')\n",
    "plt.plot(epochs, val_loss, label='test loss')\n",
    "plt.plot(epochs, train_acc, label='train accuracy')\n",
    "plt.plot(epochs, val_acc, label='test accuracy')\n",
    "plt.legend()"
   ]
  },
  {
   "cell_type": "markdown",
   "id": "52d9b6cc",
   "metadata": {},
   "source": [
    "--> deutlich geringeres Overfitting im Vergleich zu Referenzmodell"
   ]
  }
 ],
 "metadata": {
  "kernelspec": {
   "display_name": "Python 3 (ipykernel)",
   "language": "python",
   "name": "python3"
  },
  "language_info": {
   "codemirror_mode": {
    "name": "ipython",
    "version": 3
   },
   "file_extension": ".py",
   "mimetype": "text/x-python",
   "name": "python",
   "nbconvert_exporter": "python",
   "pygments_lexer": "ipython3",
   "version": "3.7.6"
  }
 },
 "nbformat": 4,
 "nbformat_minor": 5
}
