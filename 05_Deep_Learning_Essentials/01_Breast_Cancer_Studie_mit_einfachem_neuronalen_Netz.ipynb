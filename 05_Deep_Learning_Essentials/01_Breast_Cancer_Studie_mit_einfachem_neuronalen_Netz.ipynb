{
 "cells": [
  {
   "cell_type": "markdown",
   "id": "d98169b5",
   "metadata": {},
   "source": [
    "## 5.4\tEin neuronales Netz mit TensorFlow und Keras aufbauen und anlernen "
   ]
  },
  {
   "cell_type": "markdown",
   "id": "1096ff6b",
   "metadata": {},
   "source": [
    "### 01 - Daten laden (Tumorzellen-Studie)"
   ]
  },
  {
   "cell_type": "code",
   "execution_count": 1,
   "id": "84c464fd",
   "metadata": {},
   "outputs": [
    {
     "data": {
      "text/html": [
       "<div>\n",
       "<style scoped>\n",
       "    .dataframe tbody tr th:only-of-type {\n",
       "        vertical-align: middle;\n",
       "    }\n",
       "\n",
       "    .dataframe tbody tr th {\n",
       "        vertical-align: top;\n",
       "    }\n",
       "\n",
       "    .dataframe thead th {\n",
       "        text-align: right;\n",
       "    }\n",
       "</style>\n",
       "<table border=\"1\" class=\"dataframe\">\n",
       "  <thead>\n",
       "    <tr style=\"text-align: right;\">\n",
       "      <th></th>\n",
       "      <th>clump thickness</th>\n",
       "      <th>uniformity cell size</th>\n",
       "      <th>uniformity cell shape</th>\n",
       "      <th>marginal adhesion</th>\n",
       "      <th>epithelial cell size</th>\n",
       "      <th>bare nuclei</th>\n",
       "      <th>bland chromatin</th>\n",
       "      <th>normal nucleoli</th>\n",
       "      <th>mitoses</th>\n",
       "      <th>label</th>\n",
       "    </tr>\n",
       "  </thead>\n",
       "  <tbody>\n",
       "    <tr>\n",
       "      <th>0</th>\n",
       "      <td>5</td>\n",
       "      <td>1</td>\n",
       "      <td>1</td>\n",
       "      <td>1</td>\n",
       "      <td>2</td>\n",
       "      <td>1.0</td>\n",
       "      <td>3</td>\n",
       "      <td>1</td>\n",
       "      <td>1</td>\n",
       "      <td>benign</td>\n",
       "    </tr>\n",
       "    <tr>\n",
       "      <th>1</th>\n",
       "      <td>5</td>\n",
       "      <td>4</td>\n",
       "      <td>4</td>\n",
       "      <td>5</td>\n",
       "      <td>7</td>\n",
       "      <td>10.0</td>\n",
       "      <td>3</td>\n",
       "      <td>2</td>\n",
       "      <td>1</td>\n",
       "      <td>benign</td>\n",
       "    </tr>\n",
       "    <tr>\n",
       "      <th>2</th>\n",
       "      <td>3</td>\n",
       "      <td>1</td>\n",
       "      <td>1</td>\n",
       "      <td>1</td>\n",
       "      <td>2</td>\n",
       "      <td>2.0</td>\n",
       "      <td>3</td>\n",
       "      <td>1</td>\n",
       "      <td>1</td>\n",
       "      <td>benign</td>\n",
       "    </tr>\n",
       "    <tr>\n",
       "      <th>3</th>\n",
       "      <td>6</td>\n",
       "      <td>8</td>\n",
       "      <td>8</td>\n",
       "      <td>1</td>\n",
       "      <td>3</td>\n",
       "      <td>4.0</td>\n",
       "      <td>3</td>\n",
       "      <td>7</td>\n",
       "      <td>1</td>\n",
       "      <td>benign</td>\n",
       "    </tr>\n",
       "    <tr>\n",
       "      <th>4</th>\n",
       "      <td>4</td>\n",
       "      <td>1</td>\n",
       "      <td>1</td>\n",
       "      <td>3</td>\n",
       "      <td>2</td>\n",
       "      <td>1.0</td>\n",
       "      <td>3</td>\n",
       "      <td>1</td>\n",
       "      <td>1</td>\n",
       "      <td>benign</td>\n",
       "    </tr>\n",
       "  </tbody>\n",
       "</table>\n",
       "</div>"
      ],
      "text/plain": [
       "   clump thickness  uniformity cell size  uniformity cell shape  \\\n",
       "0                5                     1                      1   \n",
       "1                5                     4                      4   \n",
       "2                3                     1                      1   \n",
       "3                6                     8                      8   \n",
       "4                4                     1                      1   \n",
       "\n",
       "   marginal adhesion  epithelial cell size  bare nuclei  bland chromatin  \\\n",
       "0                  1                     2          1.0                3   \n",
       "1                  5                     7         10.0                3   \n",
       "2                  1                     2          2.0                3   \n",
       "3                  1                     3          4.0                3   \n",
       "4                  3                     2          1.0                3   \n",
       "\n",
       "   normal nucleoli  mitoses   label  \n",
       "0                1        1  benign  \n",
       "1                2        1  benign  \n",
       "2                1        1  benign  \n",
       "3                7        1  benign  \n",
       "4                1        1  benign  "
      ]
     },
     "execution_count": 1,
     "metadata": {},
     "output_type": "execute_result"
    }
   ],
   "source": [
    "from os.path import join\n",
    "import numpy as np\n",
    "import pandas as pd\n",
    "\n",
    "path = '..\\Data'\n",
    "file = 'breast_cancer_wisconsin.csv'\n",
    "\n",
    "df = pd.read_csv(join(path, file))\n",
    "df = df.drop('id', axis=1)\n",
    "df.head()"
   ]
  },
  {
   "cell_type": "markdown",
   "id": "bca35d58",
   "metadata": {},
   "source": [
    "### 02 - Skalierung der Features (x-Daten)"
   ]
  },
  {
   "cell_type": "markdown",
   "id": "abb38223",
   "metadata": {},
   "source": [
    "#### a) Vorbereitung: X und y aus *DataFrame* separieren. y-Variable als Integer codieren"
   ]
  },
  {
   "cell_type": "code",
   "execution_count": 2,
   "id": "db708b65",
   "metadata": {},
   "outputs": [
    {
     "data": {
      "text/plain": [
       "((683, 9), (683,))"
      ]
     },
     "execution_count": 2,
     "metadata": {},
     "output_type": "execute_result"
    }
   ],
   "source": [
    "X = df[['clump thickness', 'uniformity cell size', 'uniformity cell shape',\n",
    "       'marginal adhesion', 'epithelial cell size', 'bare nuclei',\n",
    "       'bland chromatin', 'normal nucleoli', 'mitoses']]\n",
    "y = df['label'].map(lambda x: 1 if x=='malignant' else 0)\n",
    "X.shape, y.shape"
   ]
  },
  {
   "cell_type": "markdown",
   "id": "8b1de1df",
   "metadata": {},
   "source": [
    "#### b) Unterteilung in Train- Testpartitionen\n",
    "Standardisiert wird mit Mittelwert und Standardabweichung der Trainingsdaten!"
   ]
  },
  {
   "cell_type": "code",
   "execution_count": 3,
   "id": "2f4b25a7",
   "metadata": {},
   "outputs": [
    {
     "data": {
      "text/plain": [
       "((546, 9), (137, 9), (546,), (137,))"
      ]
     },
     "execution_count": 3,
     "metadata": {},
     "output_type": "execute_result"
    }
   ],
   "source": [
    "from sklearn.model_selection import train_test_split\n",
    "X_train, X_test, y_train, y_test = train_test_split(X, y, test_size=.2, random_state=11)\n",
    "X_train.shape, X_test.shape, y_train.shape, y_test.shape"
   ]
  },
  {
   "cell_type": "markdown",
   "id": "9a556d79",
   "metadata": {},
   "source": [
    "### c) Standardisieren"
   ]
  },
  {
   "cell_type": "code",
   "execution_count": 4,
   "id": "2d429db4",
   "metadata": {},
   "outputs": [
    {
     "data": {
      "text/plain": [
       "(array([-0.,  0.,  0., -0., -0., -0.,  0.,  0.,  0.]),\n",
       " array([1., 1., 1., 1., 1., 1., 1., 1., 1.]))"
      ]
     },
     "execution_count": 4,
     "metadata": {},
     "output_type": "execute_result"
    }
   ],
   "source": [
    "from sklearn.preprocessing import StandardScaler\n",
    "\n",
    "# Anlernen des Scalers \n",
    "scaler = StandardScaler()\n",
    "scaler.fit(X_train)\n",
    "\n",
    "# Transformation der Daten\n",
    "X_train_sd = scaler.transform(X_train)\n",
    "X_test_sd = scaler.transform(X_test)\n",
    "\n",
    "# Überprüfen (Mittelwert sollte spaltenweise=0 sein, Standardabweichung spaltenweise=1)\n",
    "X_train_sd.mean(axis=0).round(3), X_train_sd.std(axis=0).round(3)"
   ]
  },
  {
   "cell_type": "markdown",
   "id": "27412a77",
   "metadata": {},
   "source": [
    "### 03 - Neuronales Netz mit *Keras* aufbauen "
   ]
  },
  {
   "cell_type": "code",
   "execution_count": 5,
   "id": "10f59467",
   "metadata": {},
   "outputs": [
    {
     "name": "stdout",
     "output_type": "stream",
     "text": [
      "Model: \"sequential\"\n",
      "_________________________________________________________________\n",
      "Layer (type)                 Output Shape              Param #   \n",
      "=================================================================\n",
      "dense (Dense)                (None, 9)                 90        \n",
      "_________________________________________________________________\n",
      "dense_1 (Dense)              (None, 1)                 10        \n",
      "=================================================================\n",
      "Total params: 100\n",
      "Trainable params: 100\n",
      "Non-trainable params: 0\n",
      "_________________________________________________________________\n"
     ]
    }
   ],
   "source": [
    "from tensorflow.keras.models import Sequential\n",
    "from tensorflow.keras.layers import Dense\n",
    "\n",
    "model = Sequential()\n",
    "model.add(Dense(units=9, input_shape=(9,), activation='relu'))\n",
    "model.add(Dense(units=1, activation='sigmoid'))\n",
    "model.summary()"
   ]
  },
  {
   "cell_type": "markdown",
   "id": "96be9f5e",
   "metadata": {},
   "source": [
    "### 04 - Modell kompilieren (Verlustfunktion und Optimierer festlegen)"
   ]
  },
  {
   "cell_type": "code",
   "execution_count": 6,
   "id": "2a34d31d",
   "metadata": {},
   "outputs": [],
   "source": [
    "model.compile( loss='binary_crossentropy', \n",
    "               optimizer='adam', \n",
    "               metrics=['accuracy'])"
   ]
  },
  {
   "cell_type": "markdown",
   "id": "188e5c05",
   "metadata": {},
   "source": [
    "### 05 - Anlernprozess starten"
   ]
  },
  {
   "cell_type": "code",
   "execution_count": 7,
   "id": "5c10722a",
   "metadata": {},
   "outputs": [
    {
     "name": "stdout",
     "output_type": "stream",
     "text": [
      "Epoch 1/100\n",
      "18/18 [==============================] - 0s 11ms/step - loss: 0.5656 - accuracy: 0.7802 - val_loss: 0.4775 - val_accuracy: 0.8759\n",
      "Epoch 2/100\n",
      "18/18 [==============================] - 0s 3ms/step - loss: 0.4734 - accuracy: 0.8681 - val_loss: 0.3939 - val_accuracy: 0.9197\n",
      "Epoch 3/100\n",
      "18/18 [==============================] - 0s 2ms/step - loss: 0.4018 - accuracy: 0.9103 - val_loss: 0.3301 - val_accuracy: 0.9489\n",
      "Epoch 4/100\n",
      "18/18 [==============================] - 0s 2ms/step - loss: 0.3455 - accuracy: 0.9249 - val_loss: 0.2800 - val_accuracy: 0.9562\n",
      "Epoch 5/100\n",
      "18/18 [==============================] - 0s 3ms/step - loss: 0.3014 - accuracy: 0.9451 - val_loss: 0.2410 - val_accuracy: 0.9562\n",
      "Epoch 6/100\n",
      "18/18 [==============================] - 0s 2ms/step - loss: 0.2657 - accuracy: 0.9505 - val_loss: 0.2086 - val_accuracy: 0.9562\n",
      "Epoch 7/100\n",
      "18/18 [==============================] - 0s 3ms/step - loss: 0.2363 - accuracy: 0.9542 - val_loss: 0.1826 - val_accuracy: 0.9708\n",
      "Epoch 8/100\n",
      "18/18 [==============================] - 0s 2ms/step - loss: 0.2124 - accuracy: 0.9505 - val_loss: 0.1613 - val_accuracy: 0.9708\n",
      "Epoch 9/100\n",
      "18/18 [==============================] - 0s 2ms/step - loss: 0.1926 - accuracy: 0.9560 - val_loss: 0.1443 - val_accuracy: 0.9708\n",
      "Epoch 10/100\n",
      "18/18 [==============================] - 0s 2ms/step - loss: 0.1764 - accuracy: 0.9597 - val_loss: 0.1302 - val_accuracy: 0.9708\n",
      "Epoch 11/100\n",
      "18/18 [==============================] - 0s 2ms/step - loss: 0.1629 - accuracy: 0.9597 - val_loss: 0.1186 - val_accuracy: 0.9708\n",
      "Epoch 12/100\n",
      "18/18 [==============================] - 0s 2ms/step - loss: 0.1518 - accuracy: 0.9597 - val_loss: 0.1093 - val_accuracy: 0.9708\n",
      "Epoch 13/100\n",
      "18/18 [==============================] - 0s 2ms/step - loss: 0.1426 - accuracy: 0.9615 - val_loss: 0.1017 - val_accuracy: 0.9708\n",
      "Epoch 14/100\n",
      "18/18 [==============================] - 0s 3ms/step - loss: 0.1350 - accuracy: 0.9615 - val_loss: 0.0953 - val_accuracy: 0.9708\n",
      "Epoch 15/100\n",
      "18/18 [==============================] - 0s 2ms/step - loss: 0.1284 - accuracy: 0.9634 - val_loss: 0.0897 - val_accuracy: 0.9781\n",
      "Epoch 16/100\n",
      "18/18 [==============================] - 0s 2ms/step - loss: 0.1227 - accuracy: 0.9652 - val_loss: 0.0853 - val_accuracy: 0.9781\n",
      "Epoch 17/100\n",
      "18/18 [==============================] - 0s 3ms/step - loss: 0.1182 - accuracy: 0.9652 - val_loss: 0.0814 - val_accuracy: 0.9781\n",
      "Epoch 18/100\n",
      "18/18 [==============================] - 0s 2ms/step - loss: 0.1143 - accuracy: 0.9652 - val_loss: 0.0782 - val_accuracy: 0.9781\n",
      "Epoch 19/100\n",
      "18/18 [==============================] - 0s 2ms/step - loss: 0.1112 - accuracy: 0.9670 - val_loss: 0.0753 - val_accuracy: 0.9781\n",
      "Epoch 20/100\n",
      "18/18 [==============================] - 0s 2ms/step - loss: 0.1082 - accuracy: 0.9670 - val_loss: 0.0731 - val_accuracy: 0.9781\n",
      "Epoch 21/100\n",
      "18/18 [==============================] - 0s 2ms/step - loss: 0.1058 - accuracy: 0.9670 - val_loss: 0.0709 - val_accuracy: 0.9781\n",
      "Epoch 22/100\n",
      "18/18 [==============================] - 0s 3ms/step - loss: 0.1036 - accuracy: 0.9689 - val_loss: 0.0689 - val_accuracy: 0.9781\n",
      "Epoch 23/100\n",
      "18/18 [==============================] - 0s 2ms/step - loss: 0.1016 - accuracy: 0.9689 - val_loss: 0.0673 - val_accuracy: 0.9781\n",
      "Epoch 24/100\n",
      "18/18 [==============================] - 0s 2ms/step - loss: 0.0999 - accuracy: 0.9689 - val_loss: 0.0659 - val_accuracy: 0.9781\n",
      "Epoch 25/100\n",
      "18/18 [==============================] - 0s 3ms/step - loss: 0.0983 - accuracy: 0.9689 - val_loss: 0.0647 - val_accuracy: 0.9781\n",
      "Epoch 26/100\n",
      "18/18 [==============================] - 0s 2ms/step - loss: 0.0970 - accuracy: 0.9689 - val_loss: 0.0635 - val_accuracy: 0.9781\n",
      "Epoch 27/100\n",
      "18/18 [==============================] - 0s 2ms/step - loss: 0.0957 - accuracy: 0.9689 - val_loss: 0.0625 - val_accuracy: 0.9781\n",
      "Epoch 28/100\n",
      "18/18 [==============================] - 0s 2ms/step - loss: 0.0945 - accuracy: 0.9689 - val_loss: 0.0615 - val_accuracy: 0.9781\n",
      "Epoch 29/100\n",
      "18/18 [==============================] - 0s 3ms/step - loss: 0.0933 - accuracy: 0.9689 - val_loss: 0.0607 - val_accuracy: 0.9781\n",
      "Epoch 30/100\n",
      "18/18 [==============================] - 0s 2ms/step - loss: 0.0926 - accuracy: 0.9689 - val_loss: 0.0603 - val_accuracy: 0.9781\n",
      "Epoch 31/100\n",
      "18/18 [==============================] - 0s 2ms/step - loss: 0.0918 - accuracy: 0.9689 - val_loss: 0.0596 - val_accuracy: 0.9781\n",
      "Epoch 32/100\n",
      "18/18 [==============================] - 0s 2ms/step - loss: 0.0914 - accuracy: 0.9689 - val_loss: 0.0599 - val_accuracy: 0.9781\n",
      "Epoch 33/100\n",
      "18/18 [==============================] - 0s 3ms/step - loss: 0.0909 - accuracy: 0.9689 - val_loss: 0.0593 - val_accuracy: 0.9781\n",
      "Epoch 34/100\n",
      "18/18 [==============================] - 0s 2ms/step - loss: 0.0901 - accuracy: 0.9689 - val_loss: 0.0586 - val_accuracy: 0.9781\n",
      "Epoch 35/100\n",
      "18/18 [==============================] - 0s 3ms/step - loss: 0.0893 - accuracy: 0.9689 - val_loss: 0.0581 - val_accuracy: 0.9781\n",
      "Epoch 36/100\n",
      "18/18 [==============================] - 0s 3ms/step - loss: 0.0886 - accuracy: 0.9689 - val_loss: 0.0576 - val_accuracy: 0.9781\n",
      "Epoch 37/100\n",
      "18/18 [==============================] - 0s 3ms/step - loss: 0.0878 - accuracy: 0.9689 - val_loss: 0.0571 - val_accuracy: 0.9781\n",
      "Epoch 38/100\n",
      "18/18 [==============================] - 0s 3ms/step - loss: 0.0872 - accuracy: 0.9689 - val_loss: 0.0567 - val_accuracy: 0.9781\n",
      "Epoch 39/100\n",
      "18/18 [==============================] - 0s 2ms/step - loss: 0.0866 - accuracy: 0.9689 - val_loss: 0.0563 - val_accuracy: 0.9781\n",
      "Epoch 40/100\n",
      "18/18 [==============================] - 0s 2ms/step - loss: 0.0860 - accuracy: 0.9689 - val_loss: 0.0560 - val_accuracy: 0.9781\n",
      "Epoch 41/100\n",
      "18/18 [==============================] - 0s 2ms/step - loss: 0.0856 - accuracy: 0.9689 - val_loss: 0.0555 - val_accuracy: 0.9781\n",
      "Epoch 42/100\n",
      "18/18 [==============================] - 0s 2ms/step - loss: 0.0850 - accuracy: 0.9689 - val_loss: 0.0551 - val_accuracy: 0.9781\n",
      "Epoch 43/100\n",
      "18/18 [==============================] - 0s 2ms/step - loss: 0.0845 - accuracy: 0.9689 - val_loss: 0.0549 - val_accuracy: 0.9781\n",
      "Epoch 44/100\n",
      "18/18 [==============================] - 0s 2ms/step - loss: 0.0840 - accuracy: 0.9689 - val_loss: 0.0546 - val_accuracy: 0.9781\n",
      "Epoch 45/100\n",
      "18/18 [==============================] - 0s 3ms/step - loss: 0.0836 - accuracy: 0.9689 - val_loss: 0.0544 - val_accuracy: 0.9781\n",
      "Epoch 46/100\n",
      "18/18 [==============================] - 0s 2ms/step - loss: 0.0831 - accuracy: 0.9689 - val_loss: 0.0541 - val_accuracy: 0.9781\n",
      "Epoch 47/100\n",
      "18/18 [==============================] - 0s 2ms/step - loss: 0.0827 - accuracy: 0.9689 - val_loss: 0.0539 - val_accuracy: 0.9781\n",
      "Epoch 48/100\n",
      "18/18 [==============================] - 0s 2ms/step - loss: 0.0823 - accuracy: 0.9689 - val_loss: 0.0537 - val_accuracy: 0.9781\n",
      "Epoch 49/100\n",
      "18/18 [==============================] - 0s 2ms/step - loss: 0.0819 - accuracy: 0.9689 - val_loss: 0.0535 - val_accuracy: 0.9781\n",
      "Epoch 50/100\n",
      "18/18 [==============================] - 0s 2ms/step - loss: 0.0816 - accuracy: 0.9689 - val_loss: 0.0534 - val_accuracy: 0.9781\n",
      "Epoch 51/100\n",
      "18/18 [==============================] - 0s 2ms/step - loss: 0.0812 - accuracy: 0.9689 - val_loss: 0.0532 - val_accuracy: 0.9781\n",
      "Epoch 52/100\n",
      "18/18 [==============================] - 0s 2ms/step - loss: 0.0807 - accuracy: 0.9689 - val_loss: 0.0531 - val_accuracy: 0.9781\n",
      "Epoch 53/100\n",
      "18/18 [==============================] - 0s 2ms/step - loss: 0.0805 - accuracy: 0.9689 - val_loss: 0.0529 - val_accuracy: 0.9781\n",
      "Epoch 54/100\n",
      "18/18 [==============================] - 0s 2ms/step - loss: 0.0801 - accuracy: 0.9689 - val_loss: 0.0527 - val_accuracy: 0.9781\n",
      "Epoch 55/100\n",
      "18/18 [==============================] - 0s 2ms/step - loss: 0.0798 - accuracy: 0.9689 - val_loss: 0.0526 - val_accuracy: 0.9781\n",
      "Epoch 56/100\n",
      "18/18 [==============================] - 0s 2ms/step - loss: 0.0795 - accuracy: 0.9689 - val_loss: 0.0525 - val_accuracy: 0.9781\n",
      "Epoch 57/100\n",
      "18/18 [==============================] - 0s 1ms/step - loss: 0.0792 - accuracy: 0.9689 - val_loss: 0.0525 - val_accuracy: 0.9781\n",
      "Epoch 58/100\n",
      "18/18 [==============================] - 0s 2ms/step - loss: 0.0789 - accuracy: 0.9689 - val_loss: 0.0524 - val_accuracy: 0.9781\n"
     ]
    },
    {
     "name": "stdout",
     "output_type": "stream",
     "text": [
      "Epoch 59/100\n",
      "18/18 [==============================] - 0s 2ms/step - loss: 0.0786 - accuracy: 0.9689 - val_loss: 0.0523 - val_accuracy: 0.9781\n",
      "Epoch 60/100\n",
      "18/18 [==============================] - 0s 2ms/step - loss: 0.0784 - accuracy: 0.9689 - val_loss: 0.0522 - val_accuracy: 0.9781\n",
      "Epoch 61/100\n",
      "18/18 [==============================] - 0s 2ms/step - loss: 0.0781 - accuracy: 0.9689 - val_loss: 0.0522 - val_accuracy: 0.9781\n",
      "Epoch 62/100\n",
      "18/18 [==============================] - 0s 2ms/step - loss: 0.0779 - accuracy: 0.9689 - val_loss: 0.0521 - val_accuracy: 0.9781\n",
      "Epoch 63/100\n",
      "18/18 [==============================] - 0s 2ms/step - loss: 0.0776 - accuracy: 0.9689 - val_loss: 0.0521 - val_accuracy: 0.9781\n",
      "Epoch 64/100\n",
      "18/18 [==============================] - 0s 2ms/step - loss: 0.0774 - accuracy: 0.9689 - val_loss: 0.0521 - val_accuracy: 0.9781\n",
      "Epoch 65/100\n",
      "18/18 [==============================] - 0s 2ms/step - loss: 0.0772 - accuracy: 0.9707 - val_loss: 0.0523 - val_accuracy: 0.9781\n",
      "Epoch 66/100\n",
      "18/18 [==============================] - 0s 2ms/step - loss: 0.0770 - accuracy: 0.9707 - val_loss: 0.0523 - val_accuracy: 0.9781\n",
      "Epoch 67/100\n",
      "18/18 [==============================] - 0s 2ms/step - loss: 0.0768 - accuracy: 0.9707 - val_loss: 0.0522 - val_accuracy: 0.9781\n",
      "Epoch 68/100\n",
      "18/18 [==============================] - 0s 3ms/step - loss: 0.0766 - accuracy: 0.9707 - val_loss: 0.0522 - val_accuracy: 0.9781\n",
      "Epoch 69/100\n",
      "18/18 [==============================] - 0s 2ms/step - loss: 0.0763 - accuracy: 0.9707 - val_loss: 0.0522 - val_accuracy: 0.9781\n",
      "Epoch 70/100\n",
      "18/18 [==============================] - 0s 2ms/step - loss: 0.0762 - accuracy: 0.9707 - val_loss: 0.0521 - val_accuracy: 0.9781\n",
      "Epoch 71/100\n",
      "18/18 [==============================] - 0s 2ms/step - loss: 0.0759 - accuracy: 0.9707 - val_loss: 0.0520 - val_accuracy: 0.9781\n",
      "Epoch 72/100\n",
      "18/18 [==============================] - 0s 2ms/step - loss: 0.0757 - accuracy: 0.9707 - val_loss: 0.0520 - val_accuracy: 0.9781\n",
      "Epoch 73/100\n",
      "18/18 [==============================] - 0s 2ms/step - loss: 0.0755 - accuracy: 0.9707 - val_loss: 0.0520 - val_accuracy: 0.9781\n",
      "Epoch 74/100\n",
      "18/18 [==============================] - 0s 2ms/step - loss: 0.0753 - accuracy: 0.9707 - val_loss: 0.0519 - val_accuracy: 0.9781\n",
      "Epoch 75/100\n",
      "18/18 [==============================] - 0s 2ms/step - loss: 0.0751 - accuracy: 0.9707 - val_loss: 0.0519 - val_accuracy: 0.9781\n",
      "Epoch 76/100\n",
      "18/18 [==============================] - 0s 2ms/step - loss: 0.0749 - accuracy: 0.9725 - val_loss: 0.0519 - val_accuracy: 0.9781\n",
      "Epoch 77/100\n",
      "18/18 [==============================] - 0s 2ms/step - loss: 0.0747 - accuracy: 0.9725 - val_loss: 0.0519 - val_accuracy: 0.9781\n",
      "Epoch 78/100\n",
      "18/18 [==============================] - 0s 2ms/step - loss: 0.0746 - accuracy: 0.9725 - val_loss: 0.0518 - val_accuracy: 0.9781\n",
      "Epoch 79/100\n",
      "18/18 [==============================] - 0s 3ms/step - loss: 0.0743 - accuracy: 0.9725 - val_loss: 0.0518 - val_accuracy: 0.9781\n",
      "Epoch 80/100\n",
      "18/18 [==============================] - 0s 3ms/step - loss: 0.0741 - accuracy: 0.9725 - val_loss: 0.0517 - val_accuracy: 0.9781\n",
      "Epoch 81/100\n",
      "18/18 [==============================] - 0s 3ms/step - loss: 0.0740 - accuracy: 0.9725 - val_loss: 0.0517 - val_accuracy: 0.9781\n",
      "Epoch 82/100\n",
      "18/18 [==============================] - 0s 2ms/step - loss: 0.0737 - accuracy: 0.9725 - val_loss: 0.0517 - val_accuracy: 0.9781\n",
      "Epoch 83/100\n",
      "18/18 [==============================] - 0s 2ms/step - loss: 0.0736 - accuracy: 0.9725 - val_loss: 0.0517 - val_accuracy: 0.9781\n",
      "Epoch 84/100\n",
      "18/18 [==============================] - 0s 2ms/step - loss: 0.0734 - accuracy: 0.9725 - val_loss: 0.0516 - val_accuracy: 0.9781\n",
      "Epoch 85/100\n",
      "18/18 [==============================] - 0s 868us/step - loss: 0.0732 - accuracy: 0.9725 - val_loss: 0.0515 - val_accuracy: 0.9781\n",
      "Epoch 86/100\n",
      "18/18 [==============================] - 0s 2ms/step - loss: 0.0729 - accuracy: 0.9725 - val_loss: 0.0513 - val_accuracy: 0.9781\n",
      "Epoch 87/100\n",
      "18/18 [==============================] - 0s 2ms/step - loss: 0.0730 - accuracy: 0.9725 - val_loss: 0.0513 - val_accuracy: 0.9781\n",
      "Epoch 88/100\n",
      "18/18 [==============================] - 0s 1ms/step - loss: 0.0728 - accuracy: 0.9725 - val_loss: 0.0512 - val_accuracy: 0.9781\n",
      "Epoch 89/100\n",
      "18/18 [==============================] - 0s 868us/step - loss: 0.0727 - accuracy: 0.9725 - val_loss: 0.0511 - val_accuracy: 0.9781\n",
      "Epoch 90/100\n",
      "18/18 [==============================] - 0s 2ms/step - loss: 0.0723 - accuracy: 0.9725 - val_loss: 0.0511 - val_accuracy: 0.9781\n",
      "Epoch 91/100\n",
      "18/18 [==============================] - 0s 868us/step - loss: 0.0724 - accuracy: 0.9725 - val_loss: 0.0511 - val_accuracy: 0.9781\n",
      "Epoch 92/100\n",
      "18/18 [==============================] - 0s 2ms/step - loss: 0.0723 - accuracy: 0.9725 - val_loss: 0.0511 - val_accuracy: 0.9781\n",
      "Epoch 93/100\n",
      "18/18 [==============================] - 0s 3ms/step - loss: 0.0720 - accuracy: 0.9725 - val_loss: 0.0511 - val_accuracy: 0.9781\n",
      "Epoch 94/100\n",
      "18/18 [==============================] - 0s 3ms/step - loss: 0.0718 - accuracy: 0.9725 - val_loss: 0.0510 - val_accuracy: 0.9781\n",
      "Epoch 95/100\n",
      "18/18 [==============================] - 0s 2ms/step - loss: 0.0716 - accuracy: 0.9725 - val_loss: 0.0509 - val_accuracy: 0.9781\n",
      "Epoch 96/100\n",
      "18/18 [==============================] - 0s 2ms/step - loss: 0.0715 - accuracy: 0.9725 - val_loss: 0.0508 - val_accuracy: 0.9781\n",
      "Epoch 97/100\n",
      "18/18 [==============================] - 0s 2ms/step - loss: 0.0713 - accuracy: 0.9725 - val_loss: 0.0507 - val_accuracy: 0.9781\n",
      "Epoch 98/100\n",
      "18/18 [==============================] - 0s 1ms/step - loss: 0.0712 - accuracy: 0.9725 - val_loss: 0.0506 - val_accuracy: 0.9781\n",
      "Epoch 99/100\n",
      "18/18 [==============================] - 0s 2ms/step - loss: 0.0711 - accuracy: 0.9725 - val_loss: 0.0506 - val_accuracy: 0.9781\n",
      "Epoch 100/100\n",
      "18/18 [==============================] - 0s 2ms/step - loss: 0.0709 - accuracy: 0.9725 - val_loss: 0.0505 - val_accuracy: 0.9781\n"
     ]
    }
   ],
   "source": [
    "history = model.fit( X_train_sd, y_train, \n",
    "                     epochs=100, \n",
    "                     batch_size=32, \n",
    "                     validation_data=(X_test_sd, y_test) )"
   ]
  },
  {
   "cell_type": "markdown",
   "id": "cd7ea8cb",
   "metadata": {},
   "source": [
    "### 06 - History darstellen"
   ]
  },
  {
   "cell_type": "code",
   "execution_count": 8,
   "id": "eb63eb84",
   "metadata": {},
   "outputs": [
    {
     "data": {
      "text/plain": [
       "<matplotlib.legend.Legend at 0x263ae9f8bc8>"
      ]
     },
     "execution_count": 8,
     "metadata": {},
     "output_type": "execute_result"
    },
    {
     "data": {
      "image/png": "[encoded data removed]",
      "text/plain": [
       "<Figure size 432x288 with 1 Axes>"
      ]
     },
     "metadata": {
      "needs_background": "light"
     },
     "output_type": "display_data"
    }
   ],
   "source": [
    "import matplotlib.pyplot as plt\n",
    "\n",
    "val_loss = history.history['val_loss']\n",
    "train_acc = history.history['accuracy']\n",
    "val_acc = history.history['val_accuracy']\n",
    "train_loss = history.history['loss']\n",
    "\n",
    "epochs = range(1, len(train_acc)+1)\n",
    "plt.plot(epochs, train_loss, label='train loss')\n",
    "plt.plot(epochs, val_loss, label='test loss')\n",
    "plt.plot(epochs, train_acc, label='train accuracy')\n",
    "plt.plot(epochs, val_acc, label='test accuracy')\n",
    "plt.legend()"
   ]
  },
  {
   "cell_type": "markdown",
   "id": "672fb67d",
   "metadata": {},
   "source": [
    "### 07 - Schätzungen durchführen"
   ]
  },
  {
   "cell_type": "code",
   "execution_count": 9,
   "id": "3ab5b924",
   "metadata": {},
   "outputs": [
    {
     "name": "stdout",
     "output_type": "stream",
     "text": [
      "WARNING:tensorflow:From C:\\Users\\jhjav\\AppData\\Local\\Temp/ipykernel_10536/2697655809.py:8: Sequential.predict_classes (from tensorflow.python.keras.engine.sequential) is deprecated and will be removed after 2021-01-01.\n",
      "Instructions for updating:\n",
      "Please use instead:* `np.argmax(model.predict(x), axis=-1)`,   if your model does multi-class classification   (e.g. if it uses a `softmax` last-layer activation).* `(model.predict(x) > 0.5).astype(\"int32\")`,   if your model does binary classification   (e.g. if it uses a `sigmoid` last-layer activation).\n"
     ]
    },
    {
     "data": {
      "text/plain": [
       "(array([[0]]), array([[0.00218421]], dtype=float32))"
      ]
     },
     "execution_count": 9,
     "metadata": {},
     "output_type": "execute_result"
    }
   ],
   "source": [
    "# Schätzbeispiel\n",
    "X_pred = [[4., 2., 1., 1., 2., 1., 2., 1., 1.]]\n",
    "\n",
    "# Standardisieren nicht vergessen!\n",
    "X_pred_sd = scaler.transform(X_pred)\n",
    "\n",
    "# predict und predict_classes-Methode (Achtung: depricated)\n",
    "y_pred = model.predict_classes(X_pred_sd)\n",
    "y_pred_prob = model.predict(X_pred_sd)\n",
    "\n",
    "# Ausgabe der Schätzergebnisse (0=benign, 1=malignant)\n",
    "y_pred, y_pred_prob"
   ]
  }
 ],
 "metadata": {
  "kernelspec": {
   "display_name": "Python 3 (ipykernel)",
   "language": "python",
   "name": "python3"
  },
  "language_info": {
   "codemirror_mode": {
    "name": "ipython",
    "version": 3
   },
   "file_extension": ".py",
   "mimetype": "text/x-python",
   "name": "python",
   "nbconvert_exporter": "python",
   "pygments_lexer": "ipython3",
   "version": "3.7.6"
  }
 },
 "nbformat": 4,
 "nbformat_minor": 5
}
