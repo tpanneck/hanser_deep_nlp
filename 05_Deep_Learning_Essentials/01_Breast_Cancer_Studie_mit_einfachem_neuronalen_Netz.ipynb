{
  "cells": [
    {
      "cell_type": "markdown",
      "id": "d98169b5",
      "metadata": {
        "id": "d98169b5"
      },
      "source": [
        "## 5.4\tEin neuronales Netz mit TensorFlow und Keras aufbauen und anlernen"
      ]
    },
    {
      "cell_type": "code",
      "source": [
        "!git clone https://github.com/tpanneck/hanser_deep_nlp"
      ],
      "metadata": {
        "id": "KbaLhrQg8KVg",
        "outputId": "d514d0a5-adf1-4c0a-9a80-5d057c3af765",
        "colab": {
          "base_uri": "https://localhost:8080/"
        }
      },
      "id": "KbaLhrQg8KVg",
      "execution_count": 1,
      "outputs": [
        {
          "output_type": "stream",
          "name": "stdout",
          "text": [
            "Cloning into 'hanser_deep_nlp'...\n",
            "remote: Enumerating objects: 181, done.\u001b[K\n",
            "remote: Counting objects: 100% (6/6), done.\u001b[K\n",
            "remote: Compressing objects: 100% (4/4), done.\u001b[K\n",
            "remote: Total 181 (delta 2), reused 6 (delta 2), pack-reused 175\u001b[K\n",
            "Receiving objects: 100% (181/181), 329.02 MiB | 10.59 MiB/s, done.\n",
            "Resolving deltas: 100% (70/70), done.\n",
            "Updating files: 100% (87/87), done.\n"
          ]
        }
      ]
    },
    {
      "cell_type": "code",
      "source": [
        "%cd hanser_deep_nlp/05_Deep_Learning_Essentials/"
      ],
      "metadata": {
        "id": "w4-uS82P8dn4",
        "outputId": "543e8119-a019-4194-fd87-af5fe2bc24a5",
        "colab": {
          "base_uri": "https://localhost:8080/"
        }
      },
      "id": "w4-uS82P8dn4",
      "execution_count": 4,
      "outputs": [
        {
          "output_type": "stream",
          "name": "stdout",
          "text": [
            "/content/hanser_deep_nlp/05_Deep_Learning_Essentials\n"
          ]
        }
      ]
    },
    {
      "cell_type": "markdown",
      "id": "1096ff6b",
      "metadata": {
        "id": "1096ff6b"
      },
      "source": [
        "### 01 - Daten laden (Tumorzellen-Studie)"
      ]
    },
    {
      "cell_type": "code",
      "execution_count": 13,
      "id": "84c464fd",
      "metadata": {
        "id": "84c464fd",
        "outputId": "72fcf4b7-45ef-4443-d444-580a936fc852",
        "colab": {
          "base_uri": "https://localhost:8080/",
          "height": 243
        }
      },
      "outputs": [
        {
          "output_type": "execute_result",
          "data": {
            "text/plain": [
              "   clump thickness  uniformity cell size  uniformity cell shape  \\\n",
              "0                5                     1                      1   \n",
              "1                5                     4                      4   \n",
              "2                3                     1                      1   \n",
              "3                6                     8                      8   \n",
              "4                4                     1                      1   \n",
              "\n",
              "   marginal adhesion  epithelial cell size  bare nuclei  bland chromatin  \\\n",
              "0                  1                     2          1.0                3   \n",
              "1                  5                     7         10.0                3   \n",
              "2                  1                     2          2.0                3   \n",
              "3                  1                     3          4.0                3   \n",
              "4                  3                     2          1.0                3   \n",
              "\n",
              "   normal nucleoli  mitoses   label  \n",
              "0                1        1  benign  \n",
              "1                2        1  benign  \n",
              "2                1        1  benign  \n",
              "3                7        1  benign  \n",
              "4                1        1  benign  "
            ],
            "text/html": [
              "\n",
              "  <div id=\"df-720ea490-ad5e-426c-950c-1b27c82c46f4\" class=\"colab-df-container\">\n",
              "    <div>\n",
              "<style scoped>\n",
              "    .dataframe tbody tr th:only-of-type {\n",
              "        vertical-align: middle;\n",
              "    }\n",
              "\n",
              "    .dataframe tbody tr th {\n",
              "        vertical-align: top;\n",
              "    }\n",
              "\n",
              "    .dataframe thead th {\n",
              "        text-align: right;\n",
              "    }\n",
              "</style>\n",
              "<table border=\"1\" class=\"dataframe\">\n",
              "  <thead>\n",
              "    <tr style=\"text-align: right;\">\n",
              "      <th></th>\n",
              "      <th>clump thickness</th>\n",
              "      <th>uniformity cell size</th>\n",
              "      <th>uniformity cell shape</th>\n",
              "      <th>marginal adhesion</th>\n",
              "      <th>epithelial cell size</th>\n",
              "      <th>bare nuclei</th>\n",
              "      <th>bland chromatin</th>\n",
              "      <th>normal nucleoli</th>\n",
              "      <th>mitoses</th>\n",
              "      <th>label</th>\n",
              "    </tr>\n",
              "  </thead>\n",
              "  <tbody>\n",
              "    <tr>\n",
              "      <th>0</th>\n",
              "      <td>5</td>\n",
              "      <td>1</td>\n",
              "      <td>1</td>\n",
              "      <td>1</td>\n",
              "      <td>2</td>\n",
              "      <td>1.0</td>\n",
              "      <td>3</td>\n",
              "      <td>1</td>\n",
              "      <td>1</td>\n",
              "      <td>benign</td>\n",
              "    </tr>\n",
              "    <tr>\n",
              "      <th>1</th>\n",
              "      <td>5</td>\n",
              "      <td>4</td>\n",
              "      <td>4</td>\n",
              "      <td>5</td>\n",
              "      <td>7</td>\n",
              "      <td>10.0</td>\n",
              "      <td>3</td>\n",
              "      <td>2</td>\n",
              "      <td>1</td>\n",
              "      <td>benign</td>\n",
              "    </tr>\n",
              "    <tr>\n",
              "      <th>2</th>\n",
              "      <td>3</td>\n",
              "      <td>1</td>\n",
              "      <td>1</td>\n",
              "      <td>1</td>\n",
              "      <td>2</td>\n",
              "      <td>2.0</td>\n",
              "      <td>3</td>\n",
              "      <td>1</td>\n",
              "      <td>1</td>\n",
              "      <td>benign</td>\n",
              "    </tr>\n",
              "    <tr>\n",
              "      <th>3</th>\n",
              "      <td>6</td>\n",
              "      <td>8</td>\n",
              "      <td>8</td>\n",
              "      <td>1</td>\n",
              "      <td>3</td>\n",
              "      <td>4.0</td>\n",
              "      <td>3</td>\n",
              "      <td>7</td>\n",
              "      <td>1</td>\n",
              "      <td>benign</td>\n",
              "    </tr>\n",
              "    <tr>\n",
              "      <th>4</th>\n",
              "      <td>4</td>\n",
              "      <td>1</td>\n",
              "      <td>1</td>\n",
              "      <td>3</td>\n",
              "      <td>2</td>\n",
              "      <td>1.0</td>\n",
              "      <td>3</td>\n",
              "      <td>1</td>\n",
              "      <td>1</td>\n",
              "      <td>benign</td>\n",
              "    </tr>\n",
              "  </tbody>\n",
              "</table>\n",
              "</div>\n",
              "    <div class=\"colab-df-buttons\">\n",
              "\n",
              "  <div class=\"colab-df-container\">\n",
              "    <button class=\"colab-df-convert\" onclick=\"convertToInteractive('df-720ea490-ad5e-426c-950c-1b27c82c46f4')\"\n",
              "            title=\"Convert this dataframe to an interactive table.\"\n",
              "            style=\"display:none;\">\n",
              "\n",
              "  <svg xmlns=\"http://www.w3.org/2000/svg\" height=\"24px\" viewBox=\"0 -960 960 960\">\n",
              "    <path d=\"M120-120v-720h720v720H120Zm60-500h600v-160H180v160Zm220 220h160v-160H400v160Zm0 220h160v-160H400v160ZM180-400h160v-160H180v160Zm440 0h160v-160H620v160ZM180-180h160v-160H180v160Zm440 0h160v-160H620v160Z\"/>\n",
              "  </svg>\n",
              "    </button>\n",
              "\n",
              "  <style>\n",
              "    .colab-df-container {\n",
              "      display:flex;\n",
              "      gap: 12px;\n",
              "    }\n",
              "\n",
              "    .colab-df-convert {\n",
              "      background-color: #E8F0FE;\n",
              "      border: none;\n",
              "      border-radius: 50%;\n",
              "      cursor: pointer;\n",
              "      display: none;\n",
              "      fill: #1967D2;\n",
              "      height: 32px;\n",
              "      padding: 0 0 0 0;\n",
              "      width: 32px;\n",
              "    }\n",
              "\n",
              "    .colab-df-convert:hover {\n",
              "      background-color: #E2EBFA;\n",
              "      box-shadow: 0px 1px 2px rgba(60, 64, 67, 0.3), 0px 1px 3px 1px rgba(60, 64, 67, 0.15);\n",
              "      fill: #174EA6;\n",
              "    }\n",
              "\n",
              "    .colab-df-buttons div {\n",
              "      margin-bottom: 4px;\n",
              "    }\n",
              "\n",
              "    [theme=dark] .colab-df-convert {\n",
              "      background-color: #3B4455;\n",
              "      fill: #D2E3FC;\n",
              "    }\n",
              "\n",
              "    [theme=dark] .colab-df-convert:hover {\n",
              "      background-color: #434B5C;\n",
              "      box-shadow: 0px 1px 3px 1px rgba(0, 0, 0, 0.15);\n",
              "      filter: drop-shadow(0px 1px 2px rgba(0, 0, 0, 0.3));\n",
              "      fill: #FFFFFF;\n",
              "    }\n",
              "  </style>\n",
              "\n",
              "    <script>\n",
              "      const buttonEl =\n",
              "        document.querySelector('#df-720ea490-ad5e-426c-950c-1b27c82c46f4 button.colab-df-convert');\n",
              "      buttonEl.style.display =\n",
              "        google.colab.kernel.accessAllowed ? 'block' : 'none';\n",
              "\n",
              "      async function convertToInteractive(key) {\n",
              "        const element = document.querySelector('#df-720ea490-ad5e-426c-950c-1b27c82c46f4');\n",
              "        const dataTable =\n",
              "          await google.colab.kernel.invokeFunction('convertToInteractive',\n",
              "                                                    [key], {});\n",
              "        if (!dataTable) return;\n",
              "\n",
              "        const docLinkHtml = 'Like what you see? Visit the ' +\n",
              "          '<a target=\"_blank\" href=https://colab.research.google.com/notebooks/data_table.ipynb>data table notebook</a>'\n",
              "          + ' to learn more about interactive tables.';\n",
              "        element.innerHTML = '';\n",
              "        dataTable['output_type'] = 'display_data';\n",
              "        await google.colab.output.renderOutput(dataTable, element);\n",
              "        const docLink = document.createElement('div');\n",
              "        docLink.innerHTML = docLinkHtml;\n",
              "        element.appendChild(docLink);\n",
              "      }\n",
              "    </script>\n",
              "  </div>\n",
              "\n",
              "\n",
              "<div id=\"df-89890add-c144-45e5-a0da-7ead9f8b2db0\">\n",
              "  <button class=\"colab-df-quickchart\" onclick=\"quickchart('df-89890add-c144-45e5-a0da-7ead9f8b2db0')\"\n",
              "            title=\"Suggest charts\"\n",
              "            style=\"display:none;\">\n",
              "\n",
              "<svg xmlns=\"http://www.w3.org/2000/svg\" height=\"24px\"viewBox=\"0 0 24 24\"\n",
              "     width=\"24px\">\n",
              "    <g>\n",
              "        <path d=\"M19 3H5c-1.1 0-2 .9-2 2v14c0 1.1.9 2 2 2h14c1.1 0 2-.9 2-2V5c0-1.1-.9-2-2-2zM9 17H7v-7h2v7zm4 0h-2V7h2v10zm4 0h-2v-4h2v4z\"/>\n",
              "    </g>\n",
              "</svg>\n",
              "  </button>\n",
              "\n",
              "<style>\n",
              "  .colab-df-quickchart {\n",
              "      --bg-color: #E8F0FE;\n",
              "      --fill-color: #1967D2;\n",
              "      --hover-bg-color: #E2EBFA;\n",
              "      --hover-fill-color: #174EA6;\n",
              "      --disabled-fill-color: #AAA;\n",
              "      --disabled-bg-color: #DDD;\n",
              "  }\n",
              "\n",
              "  [theme=dark] .colab-df-quickchart {\n",
              "      --bg-color: #3B4455;\n",
              "      --fill-color: #D2E3FC;\n",
              "      --hover-bg-color: #434B5C;\n",
              "      --hover-fill-color: #FFFFFF;\n",
              "      --disabled-bg-color: #3B4455;\n",
              "      --disabled-fill-color: #666;\n",
              "  }\n",
              "\n",
              "  .colab-df-quickchart {\n",
              "    background-color: var(--bg-color);\n",
              "    border: none;\n",
              "    border-radius: 50%;\n",
              "    cursor: pointer;\n",
              "    display: none;\n",
              "    fill: var(--fill-color);\n",
              "    height: 32px;\n",
              "    padding: 0;\n",
              "    width: 32px;\n",
              "  }\n",
              "\n",
              "  .colab-df-quickchart:hover {\n",
              "    background-color: var(--hover-bg-color);\n",
              "    box-shadow: 0 1px 2px rgba(60, 64, 67, 0.3), 0 1px 3px 1px rgba(60, 64, 67, 0.15);\n",
              "    fill: var(--button-hover-fill-color);\n",
              "  }\n",
              "\n",
              "  .colab-df-quickchart-complete:disabled,\n",
              "  .colab-df-quickchart-complete:disabled:hover {\n",
              "    background-color: var(--disabled-bg-color);\n",
              "    fill: var(--disabled-fill-color);\n",
              "    box-shadow: none;\n",
              "  }\n",
              "\n",
              "  .colab-df-spinner {\n",
              "    border: 2px solid var(--fill-color);\n",
              "    border-color: transparent;\n",
              "    border-bottom-color: var(--fill-color);\n",
              "    animation:\n",
              "      spin 1s steps(1) infinite;\n",
              "  }\n",
              "\n",
              "  @keyframes spin {\n",
              "    0% {\n",
              "      border-color: transparent;\n",
              "      border-bottom-color: var(--fill-color);\n",
              "      border-left-color: var(--fill-color);\n",
              "    }\n",
              "    20% {\n",
              "      border-color: transparent;\n",
              "      border-left-color: var(--fill-color);\n",
              "      border-top-color: var(--fill-color);\n",
              "    }\n",
              "    30% {\n",
              "      border-color: transparent;\n",
              "      border-left-color: var(--fill-color);\n",
              "      border-top-color: var(--fill-color);\n",
              "      border-right-color: var(--fill-color);\n",
              "    }\n",
              "    40% {\n",
              "      border-color: transparent;\n",
              "      border-right-color: var(--fill-color);\n",
              "      border-top-color: var(--fill-color);\n",
              "    }\n",
              "    60% {\n",
              "      border-color: transparent;\n",
              "      border-right-color: var(--fill-color);\n",
              "    }\n",
              "    80% {\n",
              "      border-color: transparent;\n",
              "      border-right-color: var(--fill-color);\n",
              "      border-bottom-color: var(--fill-color);\n",
              "    }\n",
              "    90% {\n",
              "      border-color: transparent;\n",
              "      border-bottom-color: var(--fill-color);\n",
              "    }\n",
              "  }\n",
              "</style>\n",
              "\n",
              "  <script>\n",
              "    async function quickchart(key) {\n",
              "      const quickchartButtonEl =\n",
              "        document.querySelector('#' + key + ' button');\n",
              "      quickchartButtonEl.disabled = true;  // To prevent multiple clicks.\n",
              "      quickchartButtonEl.classList.add('colab-df-spinner');\n",
              "      try {\n",
              "        const charts = await google.colab.kernel.invokeFunction(\n",
              "            'suggestCharts', [key], {});\n",
              "      } catch (error) {\n",
              "        console.error('Error during call to suggestCharts:', error);\n",
              "      }\n",
              "      quickchartButtonEl.classList.remove('colab-df-spinner');\n",
              "      quickchartButtonEl.classList.add('colab-df-quickchart-complete');\n",
              "    }\n",
              "    (() => {\n",
              "      let quickchartButtonEl =\n",
              "        document.querySelector('#df-89890add-c144-45e5-a0da-7ead9f8b2db0 button');\n",
              "      quickchartButtonEl.style.display =\n",
              "        google.colab.kernel.accessAllowed ? 'block' : 'none';\n",
              "    })();\n",
              "  </script>\n",
              "</div>\n",
              "    </div>\n",
              "  </div>\n"
            ]
          },
          "metadata": {},
          "execution_count": 13
        }
      ],
      "source": [
        "from os.path import join\n",
        "import numpy as np\n",
        "import pandas as pd\n",
        "\n",
        "path = '../Data'\n",
        "file = 'breast_cancer_wisconsin.csv'\n",
        "\n",
        "df = pd.read_csv(join(path, file))\n",
        "df = df.drop('id', axis=1)\n",
        "df.head()"
      ]
    },
    {
      "cell_type": "markdown",
      "id": "bca35d58",
      "metadata": {
        "id": "bca35d58"
      },
      "source": [
        "### 02 - Skalierung der Features (x-Daten)"
      ]
    },
    {
      "cell_type": "markdown",
      "id": "abb38223",
      "metadata": {
        "id": "abb38223"
      },
      "source": [
        "#### a) Vorbereitung: X und y aus *DataFrame* separieren. y-Variable als Integer codieren"
      ]
    },
    {
      "cell_type": "code",
      "execution_count": 14,
      "id": "db708b65",
      "metadata": {
        "id": "db708b65",
        "outputId": "bfa59d52-3e02-4cca-c6c4-b5ca20ea9906",
        "colab": {
          "base_uri": "https://localhost:8080/"
        }
      },
      "outputs": [
        {
          "output_type": "execute_result",
          "data": {
            "text/plain": [
              "((683, 9), (683,))"
            ]
          },
          "metadata": {},
          "execution_count": 14
        }
      ],
      "source": [
        "X = df[['clump thickness', 'uniformity cell size', 'uniformity cell shape',\n",
        "       'marginal adhesion', 'epithelial cell size', 'bare nuclei',\n",
        "       'bland chromatin', 'normal nucleoli', 'mitoses']]\n",
        "y = df['label'].map(lambda x: 1 if x=='malignant' else 0)\n",
        "X.shape, y.shape"
      ]
    },
    {
      "cell_type": "markdown",
      "id": "8b1de1df",
      "metadata": {
        "id": "8b1de1df"
      },
      "source": [
        "#### b) Unterteilung in Train- Testpartitionen\n",
        "Standardisiert wird mit Mittelwert und Standardabweichung der Trainingsdaten!"
      ]
    },
    {
      "cell_type": "code",
      "execution_count": 15,
      "id": "2f4b25a7",
      "metadata": {
        "id": "2f4b25a7",
        "outputId": "3eca6566-e747-4850-b9df-a94883a05c22",
        "colab": {
          "base_uri": "https://localhost:8080/"
        }
      },
      "outputs": [
        {
          "output_type": "execute_result",
          "data": {
            "text/plain": [
              "((546, 9), (137, 9), (546,), (137,))"
            ]
          },
          "metadata": {},
          "execution_count": 15
        }
      ],
      "source": [
        "from sklearn.model_selection import train_test_split\n",
        "X_train, X_test, y_train, y_test = train_test_split(X, y, test_size=.2, random_state=11)\n",
        "X_train.shape, X_test.shape, y_train.shape, y_test.shape"
      ]
    },
    {
      "cell_type": "markdown",
      "id": "9a556d79",
      "metadata": {
        "id": "9a556d79"
      },
      "source": [
        "### c) Standardisieren"
      ]
    },
    {
      "cell_type": "code",
      "execution_count": 16,
      "id": "2d429db4",
      "metadata": {
        "id": "2d429db4",
        "outputId": "c985dc38-dbe2-4588-f991-6a89b06d1cea",
        "colab": {
          "base_uri": "https://localhost:8080/"
        }
      },
      "outputs": [
        {
          "output_type": "execute_result",
          "data": {
            "text/plain": [
              "(array([-0.,  0.,  0., -0., -0., -0.,  0.,  0.,  0.]),\n",
              " array([1., 1., 1., 1., 1., 1., 1., 1., 1.]))"
            ]
          },
          "metadata": {},
          "execution_count": 16
        }
      ],
      "source": [
        "from sklearn.preprocessing import StandardScaler\n",
        "\n",
        "# Anlernen des Scalers\n",
        "scaler = StandardScaler()\n",
        "scaler.fit(X_train)\n",
        "\n",
        "# Transformation der Daten\n",
        "X_train_sd = scaler.transform(X_train)\n",
        "X_test_sd = scaler.transform(X_test)\n",
        "\n",
        "# Überprüfen (Mittelwert sollte spaltenweise=0 sein, Standardabweichung spaltenweise=1)\n",
        "X_train_sd.mean(axis=0).round(3), X_train_sd.std(axis=0).round(3)"
      ]
    },
    {
      "cell_type": "markdown",
      "id": "27412a77",
      "metadata": {
        "id": "27412a77"
      },
      "source": [
        "### 03 - Neuronales Netz mit *Keras* aufbauen"
      ]
    },
    {
      "cell_type": "code",
      "execution_count": 17,
      "id": "10f59467",
      "metadata": {
        "id": "10f59467",
        "outputId": "3bd23a3d-5c6e-4d21-8a31-8eeb460fbd57",
        "colab": {
          "base_uri": "https://localhost:8080/"
        }
      },
      "outputs": [
        {
          "output_type": "stream",
          "name": "stdout",
          "text": [
            "Model: \"sequential\"\n",
            "_________________________________________________________________\n",
            " Layer (type)                Output Shape              Param #   \n",
            "=================================================================\n",
            " dense (Dense)               (None, 9)                 90        \n",
            "                                                                 \n",
            " dense_1 (Dense)             (None, 1)                 10        \n",
            "                                                                 \n",
            "=================================================================\n",
            "Total params: 100 (400.00 Byte)\n",
            "Trainable params: 100 (400.00 Byte)\n",
            "Non-trainable params: 0 (0.00 Byte)\n",
            "_________________________________________________________________\n"
          ]
        }
      ],
      "source": [
        "from tensorflow.keras.models import Sequential\n",
        "from tensorflow.keras.layers import Dense\n",
        "\n",
        "model = Sequential()\n",
        "model.add(Dense(units=9, input_shape=(9,), activation='relu'))\n",
        "model.add(Dense(units=1, activation='sigmoid'))\n",
        "model.summary()"
      ]
    },
    {
      "cell_type": "markdown",
      "id": "96be9f5e",
      "metadata": {
        "id": "96be9f5e"
      },
      "source": [
        "### 04 - Modell kompilieren (Verlustfunktion und Optimierer festlegen)"
      ]
    },
    {
      "cell_type": "code",
      "execution_count": 18,
      "id": "2a34d31d",
      "metadata": {
        "id": "2a34d31d"
      },
      "outputs": [],
      "source": [
        "model.compile( loss='binary_crossentropy',\n",
        "               optimizer='adam',\n",
        "               metrics=['accuracy'])"
      ]
    },
    {
      "cell_type": "markdown",
      "id": "188e5c05",
      "metadata": {
        "id": "188e5c05"
      },
      "source": [
        "### 05 - Anlernprozess starten"
      ]
    },
    {
      "cell_type": "code",
      "execution_count": 19,
      "id": "5c10722a",
      "metadata": {
        "id": "5c10722a",
        "outputId": "d31cf749-f556-4ce6-fe3b-85328025446d",
        "colab": {
          "base_uri": "https://localhost:8080/"
        }
      },
      "outputs": [
        {
          "output_type": "stream",
          "name": "stdout",
          "text": [
            "Epoch 1/100\n",
            "18/18 [==============================] - 2s 24ms/step - loss: 0.4520 - accuracy: 0.8388 - val_loss: 0.3771 - val_accuracy: 0.8978\n",
            "Epoch 2/100\n",
            "18/18 [==============================] - 0s 7ms/step - loss: 0.3710 - accuracy: 0.8974 - val_loss: 0.3082 - val_accuracy: 0.9343\n",
            "Epoch 3/100\n",
            "18/18 [==============================] - 0s 8ms/step - loss: 0.3121 - accuracy: 0.9249 - val_loss: 0.2607 - val_accuracy: 0.9489\n",
            "Epoch 4/100\n",
            "18/18 [==============================] - 0s 7ms/step - loss: 0.2684 - accuracy: 0.9414 - val_loss: 0.2239 - val_accuracy: 0.9708\n",
            "Epoch 5/100\n",
            "18/18 [==============================] - 0s 7ms/step - loss: 0.2335 - accuracy: 0.9505 - val_loss: 0.1945 - val_accuracy: 0.9781\n",
            "Epoch 6/100\n",
            "18/18 [==============================] - 0s 6ms/step - loss: 0.2060 - accuracy: 0.9634 - val_loss: 0.1721 - val_accuracy: 0.9781\n",
            "Epoch 7/100\n",
            "18/18 [==============================] - 0s 8ms/step - loss: 0.1837 - accuracy: 0.9652 - val_loss: 0.1542 - val_accuracy: 0.9781\n",
            "Epoch 8/100\n",
            "18/18 [==============================] - 0s 6ms/step - loss: 0.1667 - accuracy: 0.9652 - val_loss: 0.1401 - val_accuracy: 0.9781\n",
            "Epoch 9/100\n",
            "18/18 [==============================] - 0s 7ms/step - loss: 0.1538 - accuracy: 0.9652 - val_loss: 0.1295 - val_accuracy: 0.9781\n",
            "Epoch 10/100\n",
            "18/18 [==============================] - 0s 7ms/step - loss: 0.1435 - accuracy: 0.9634 - val_loss: 0.1210 - val_accuracy: 0.9781\n",
            "Epoch 11/100\n",
            "18/18 [==============================] - 0s 7ms/step - loss: 0.1353 - accuracy: 0.9634 - val_loss: 0.1129 - val_accuracy: 0.9854\n",
            "Epoch 12/100\n",
            "18/18 [==============================] - 0s 7ms/step - loss: 0.1278 - accuracy: 0.9634 - val_loss: 0.1070 - val_accuracy: 0.9854\n",
            "Epoch 13/100\n",
            "18/18 [==============================] - 0s 8ms/step - loss: 0.1220 - accuracy: 0.9634 - val_loss: 0.1014 - val_accuracy: 0.9781\n",
            "Epoch 14/100\n",
            "18/18 [==============================] - 0s 8ms/step - loss: 0.1166 - accuracy: 0.9634 - val_loss: 0.0971 - val_accuracy: 0.9781\n",
            "Epoch 15/100\n",
            "18/18 [==============================] - 0s 5ms/step - loss: 0.1124 - accuracy: 0.9634 - val_loss: 0.0931 - val_accuracy: 0.9781\n",
            "Epoch 16/100\n",
            "18/18 [==============================] - 0s 4ms/step - loss: 0.1087 - accuracy: 0.9634 - val_loss: 0.0900 - val_accuracy: 0.9781\n",
            "Epoch 17/100\n",
            "18/18 [==============================] - 0s 6ms/step - loss: 0.1060 - accuracy: 0.9670 - val_loss: 0.0878 - val_accuracy: 0.9781\n",
            "Epoch 18/100\n",
            "18/18 [==============================] - 0s 5ms/step - loss: 0.1034 - accuracy: 0.9689 - val_loss: 0.0854 - val_accuracy: 0.9781\n",
            "Epoch 19/100\n",
            "18/18 [==============================] - 0s 4ms/step - loss: 0.1010 - accuracy: 0.9707 - val_loss: 0.0841 - val_accuracy: 0.9781\n",
            "Epoch 20/100\n",
            "18/18 [==============================] - 0s 5ms/step - loss: 0.0990 - accuracy: 0.9707 - val_loss: 0.0822 - val_accuracy: 0.9781\n",
            "Epoch 21/100\n",
            "18/18 [==============================] - 0s 4ms/step - loss: 0.0968 - accuracy: 0.9707 - val_loss: 0.0804 - val_accuracy: 0.9781\n",
            "Epoch 22/100\n",
            "18/18 [==============================] - 0s 7ms/step - loss: 0.0951 - accuracy: 0.9707 - val_loss: 0.0788 - val_accuracy: 0.9781\n",
            "Epoch 23/100\n",
            "18/18 [==============================] - 0s 4ms/step - loss: 0.0934 - accuracy: 0.9707 - val_loss: 0.0774 - val_accuracy: 0.9781\n",
            "Epoch 24/100\n",
            "18/18 [==============================] - 0s 5ms/step - loss: 0.0919 - accuracy: 0.9707 - val_loss: 0.0762 - val_accuracy: 0.9781\n",
            "Epoch 25/100\n",
            "18/18 [==============================] - 0s 4ms/step - loss: 0.0906 - accuracy: 0.9707 - val_loss: 0.0752 - val_accuracy: 0.9781\n",
            "Epoch 26/100\n",
            "18/18 [==============================] - 0s 5ms/step - loss: 0.0895 - accuracy: 0.9707 - val_loss: 0.0742 - val_accuracy: 0.9781\n",
            "Epoch 27/100\n",
            "18/18 [==============================] - 0s 4ms/step - loss: 0.0885 - accuracy: 0.9707 - val_loss: 0.0733 - val_accuracy: 0.9781\n",
            "Epoch 28/100\n",
            "18/18 [==============================] - 0s 4ms/step - loss: 0.0874 - accuracy: 0.9707 - val_loss: 0.0724 - val_accuracy: 0.9781\n",
            "Epoch 29/100\n",
            "18/18 [==============================] - 0s 4ms/step - loss: 0.0865 - accuracy: 0.9707 - val_loss: 0.0716 - val_accuracy: 0.9781\n",
            "Epoch 30/100\n",
            "18/18 [==============================] - 0s 4ms/step - loss: 0.0857 - accuracy: 0.9707 - val_loss: 0.0709 - val_accuracy: 0.9781\n",
            "Epoch 31/100\n",
            "18/18 [==============================] - 0s 4ms/step - loss: 0.0848 - accuracy: 0.9707 - val_loss: 0.0703 - val_accuracy: 0.9781\n",
            "Epoch 32/100\n",
            "18/18 [==============================] - 0s 5ms/step - loss: 0.0841 - accuracy: 0.9707 - val_loss: 0.0696 - val_accuracy: 0.9781\n",
            "Epoch 33/100\n",
            "18/18 [==============================] - 0s 5ms/step - loss: 0.0834 - accuracy: 0.9707 - val_loss: 0.0691 - val_accuracy: 0.9781\n",
            "Epoch 34/100\n",
            "18/18 [==============================] - 0s 5ms/step - loss: 0.0828 - accuracy: 0.9707 - val_loss: 0.0687 - val_accuracy: 0.9781\n",
            "Epoch 35/100\n",
            "18/18 [==============================] - 0s 5ms/step - loss: 0.0822 - accuracy: 0.9707 - val_loss: 0.0682 - val_accuracy: 0.9781\n",
            "Epoch 36/100\n",
            "18/18 [==============================] - 0s 5ms/step - loss: 0.0817 - accuracy: 0.9689 - val_loss: 0.0678 - val_accuracy: 0.9781\n",
            "Epoch 37/100\n",
            "18/18 [==============================] - 0s 6ms/step - loss: 0.0813 - accuracy: 0.9689 - val_loss: 0.0673 - val_accuracy: 0.9781\n",
            "Epoch 38/100\n",
            "18/18 [==============================] - 0s 5ms/step - loss: 0.0807 - accuracy: 0.9689 - val_loss: 0.0669 - val_accuracy: 0.9781\n",
            "Epoch 39/100\n",
            "18/18 [==============================] - 0s 5ms/step - loss: 0.0803 - accuracy: 0.9689 - val_loss: 0.0665 - val_accuracy: 0.9781\n",
            "Epoch 40/100\n",
            "18/18 [==============================] - 0s 5ms/step - loss: 0.0798 - accuracy: 0.9689 - val_loss: 0.0662 - val_accuracy: 0.9781\n",
            "Epoch 41/100\n",
            "18/18 [==============================] - 0s 5ms/step - loss: 0.0794 - accuracy: 0.9689 - val_loss: 0.0658 - val_accuracy: 0.9781\n",
            "Epoch 42/100\n",
            "18/18 [==============================] - 0s 5ms/step - loss: 0.0789 - accuracy: 0.9689 - val_loss: 0.0654 - val_accuracy: 0.9781\n",
            "Epoch 43/100\n",
            "18/18 [==============================] - 0s 5ms/step - loss: 0.0785 - accuracy: 0.9689 - val_loss: 0.0651 - val_accuracy: 0.9781\n",
            "Epoch 44/100\n",
            "18/18 [==============================] - 0s 6ms/step - loss: 0.0781 - accuracy: 0.9689 - val_loss: 0.0648 - val_accuracy: 0.9781\n",
            "Epoch 45/100\n",
            "18/18 [==============================] - 0s 4ms/step - loss: 0.0777 - accuracy: 0.9689 - val_loss: 0.0645 - val_accuracy: 0.9781\n",
            "Epoch 46/100\n",
            "18/18 [==============================] - 0s 4ms/step - loss: 0.0774 - accuracy: 0.9689 - val_loss: 0.0642 - val_accuracy: 0.9781\n",
            "Epoch 47/100\n",
            "18/18 [==============================] - 0s 5ms/step - loss: 0.0770 - accuracy: 0.9670 - val_loss: 0.0640 - val_accuracy: 0.9781\n",
            "Epoch 48/100\n",
            "18/18 [==============================] - 0s 5ms/step - loss: 0.0767 - accuracy: 0.9670 - val_loss: 0.0637 - val_accuracy: 0.9781\n",
            "Epoch 49/100\n",
            "18/18 [==============================] - 0s 5ms/step - loss: 0.0763 - accuracy: 0.9670 - val_loss: 0.0635 - val_accuracy: 0.9781\n",
            "Epoch 50/100\n",
            "18/18 [==============================] - 0s 4ms/step - loss: 0.0760 - accuracy: 0.9670 - val_loss: 0.0633 - val_accuracy: 0.9781\n",
            "Epoch 51/100\n",
            "18/18 [==============================] - 0s 5ms/step - loss: 0.0757 - accuracy: 0.9670 - val_loss: 0.0630 - val_accuracy: 0.9781\n",
            "Epoch 52/100\n",
            "18/18 [==============================] - 0s 5ms/step - loss: 0.0753 - accuracy: 0.9689 - val_loss: 0.0628 - val_accuracy: 0.9781\n",
            "Epoch 53/100\n",
            "18/18 [==============================] - 0s 5ms/step - loss: 0.0751 - accuracy: 0.9689 - val_loss: 0.0625 - val_accuracy: 0.9781\n",
            "Epoch 54/100\n",
            "18/18 [==============================] - 0s 5ms/step - loss: 0.0747 - accuracy: 0.9689 - val_loss: 0.0623 - val_accuracy: 0.9781\n",
            "Epoch 55/100\n",
            "18/18 [==============================] - 0s 5ms/step - loss: 0.0744 - accuracy: 0.9689 - val_loss: 0.0621 - val_accuracy: 0.9781\n",
            "Epoch 56/100\n",
            "18/18 [==============================] - 0s 4ms/step - loss: 0.0741 - accuracy: 0.9689 - val_loss: 0.0619 - val_accuracy: 0.9781\n",
            "Epoch 57/100\n",
            "18/18 [==============================] - 0s 5ms/step - loss: 0.0738 - accuracy: 0.9689 - val_loss: 0.0617 - val_accuracy: 0.9781\n",
            "Epoch 58/100\n",
            "18/18 [==============================] - 0s 4ms/step - loss: 0.0735 - accuracy: 0.9689 - val_loss: 0.0614 - val_accuracy: 0.9781\n",
            "Epoch 59/100\n",
            "18/18 [==============================] - 0s 6ms/step - loss: 0.0732 - accuracy: 0.9689 - val_loss: 0.0613 - val_accuracy: 0.9781\n",
            "Epoch 60/100\n",
            "18/18 [==============================] - 0s 5ms/step - loss: 0.0729 - accuracy: 0.9707 - val_loss: 0.0611 - val_accuracy: 0.9781\n",
            "Epoch 61/100\n",
            "18/18 [==============================] - 0s 5ms/step - loss: 0.0726 - accuracy: 0.9707 - val_loss: 0.0609 - val_accuracy: 0.9854\n",
            "Epoch 62/100\n",
            "18/18 [==============================] - 0s 5ms/step - loss: 0.0724 - accuracy: 0.9707 - val_loss: 0.0608 - val_accuracy: 0.9854\n",
            "Epoch 63/100\n",
            "18/18 [==============================] - 0s 5ms/step - loss: 0.0721 - accuracy: 0.9707 - val_loss: 0.0606 - val_accuracy: 0.9854\n",
            "Epoch 64/100\n",
            "18/18 [==============================] - 0s 5ms/step - loss: 0.0719 - accuracy: 0.9707 - val_loss: 0.0604 - val_accuracy: 0.9854\n",
            "Epoch 65/100\n",
            "18/18 [==============================] - 0s 4ms/step - loss: 0.0716 - accuracy: 0.9707 - val_loss: 0.0602 - val_accuracy: 0.9854\n",
            "Epoch 66/100\n",
            "18/18 [==============================] - 0s 5ms/step - loss: 0.0713 - accuracy: 0.9707 - val_loss: 0.0601 - val_accuracy: 0.9854\n",
            "Epoch 67/100\n",
            "18/18 [==============================] - 0s 5ms/step - loss: 0.0712 - accuracy: 0.9707 - val_loss: 0.0599 - val_accuracy: 0.9854\n",
            "Epoch 68/100\n",
            "18/18 [==============================] - 0s 5ms/step - loss: 0.0709 - accuracy: 0.9707 - val_loss: 0.0597 - val_accuracy: 0.9854\n",
            "Epoch 69/100\n",
            "18/18 [==============================] - 0s 6ms/step - loss: 0.0707 - accuracy: 0.9707 - val_loss: 0.0596 - val_accuracy: 0.9854\n",
            "Epoch 70/100\n",
            "18/18 [==============================] - 0s 5ms/step - loss: 0.0704 - accuracy: 0.9707 - val_loss: 0.0595 - val_accuracy: 0.9854\n",
            "Epoch 71/100\n",
            "18/18 [==============================] - 0s 4ms/step - loss: 0.0702 - accuracy: 0.9707 - val_loss: 0.0593 - val_accuracy: 0.9854\n",
            "Epoch 72/100\n",
            "18/18 [==============================] - 0s 5ms/step - loss: 0.0700 - accuracy: 0.9707 - val_loss: 0.0592 - val_accuracy: 0.9854\n",
            "Epoch 73/100\n",
            "18/18 [==============================] - 0s 5ms/step - loss: 0.0698 - accuracy: 0.9707 - val_loss: 0.0591 - val_accuracy: 0.9854\n",
            "Epoch 74/100\n",
            "18/18 [==============================] - 0s 4ms/step - loss: 0.0697 - accuracy: 0.9707 - val_loss: 0.0590 - val_accuracy: 0.9854\n",
            "Epoch 75/100\n",
            "18/18 [==============================] - 0s 4ms/step - loss: 0.0695 - accuracy: 0.9707 - val_loss: 0.0589 - val_accuracy: 0.9854\n",
            "Epoch 76/100\n",
            "18/18 [==============================] - 0s 5ms/step - loss: 0.0693 - accuracy: 0.9707 - val_loss: 0.0588 - val_accuracy: 0.9854\n",
            "Epoch 77/100\n",
            "18/18 [==============================] - 0s 5ms/step - loss: 0.0691 - accuracy: 0.9707 - val_loss: 0.0587 - val_accuracy: 0.9854\n",
            "Epoch 78/100\n",
            "18/18 [==============================] - 0s 4ms/step - loss: 0.0689 - accuracy: 0.9707 - val_loss: 0.0586 - val_accuracy: 0.9854\n",
            "Epoch 79/100\n",
            "18/18 [==============================] - 0s 4ms/step - loss: 0.0687 - accuracy: 0.9707 - val_loss: 0.0586 - val_accuracy: 0.9854\n",
            "Epoch 80/100\n",
            "18/18 [==============================] - 0s 4ms/step - loss: 0.0685 - accuracy: 0.9707 - val_loss: 0.0585 - val_accuracy: 0.9854\n",
            "Epoch 81/100\n",
            "18/18 [==============================] - 0s 5ms/step - loss: 0.0683 - accuracy: 0.9707 - val_loss: 0.0584 - val_accuracy: 0.9854\n",
            "Epoch 82/100\n",
            "18/18 [==============================] - 0s 4ms/step - loss: 0.0681 - accuracy: 0.9707 - val_loss: 0.0584 - val_accuracy: 0.9854\n",
            "Epoch 83/100\n",
            "18/18 [==============================] - 0s 5ms/step - loss: 0.0680 - accuracy: 0.9707 - val_loss: 0.0582 - val_accuracy: 0.9854\n",
            "Epoch 84/100\n",
            "18/18 [==============================] - 0s 5ms/step - loss: 0.0677 - accuracy: 0.9707 - val_loss: 0.0581 - val_accuracy: 0.9854\n",
            "Epoch 85/100\n",
            "18/18 [==============================] - 0s 5ms/step - loss: 0.0676 - accuracy: 0.9707 - val_loss: 0.0581 - val_accuracy: 0.9854\n",
            "Epoch 86/100\n",
            "18/18 [==============================] - 0s 5ms/step - loss: 0.0674 - accuracy: 0.9707 - val_loss: 0.0579 - val_accuracy: 0.9854\n",
            "Epoch 87/100\n",
            "18/18 [==============================] - 0s 4ms/step - loss: 0.0672 - accuracy: 0.9707 - val_loss: 0.0578 - val_accuracy: 0.9854\n",
            "Epoch 88/100\n",
            "18/18 [==============================] - 0s 5ms/step - loss: 0.0670 - accuracy: 0.9707 - val_loss: 0.0578 - val_accuracy: 0.9854\n",
            "Epoch 89/100\n",
            "18/18 [==============================] - 0s 4ms/step - loss: 0.0669 - accuracy: 0.9707 - val_loss: 0.0576 - val_accuracy: 0.9854\n",
            "Epoch 90/100\n",
            "18/18 [==============================] - 0s 4ms/step - loss: 0.0666 - accuracy: 0.9707 - val_loss: 0.0576 - val_accuracy: 0.9854\n",
            "Epoch 91/100\n",
            "18/18 [==============================] - 0s 4ms/step - loss: 0.0665 - accuracy: 0.9707 - val_loss: 0.0575 - val_accuracy: 0.9854\n",
            "Epoch 92/100\n",
            "18/18 [==============================] - 0s 5ms/step - loss: 0.0663 - accuracy: 0.9707 - val_loss: 0.0577 - val_accuracy: 0.9854\n",
            "Epoch 93/100\n",
            "18/18 [==============================] - 0s 4ms/step - loss: 0.0661 - accuracy: 0.9707 - val_loss: 0.0577 - val_accuracy: 0.9854\n",
            "Epoch 94/100\n",
            "18/18 [==============================] - 0s 5ms/step - loss: 0.0659 - accuracy: 0.9707 - val_loss: 0.0576 - val_accuracy: 0.9854\n",
            "Epoch 95/100\n",
            "18/18 [==============================] - 0s 5ms/step - loss: 0.0657 - accuracy: 0.9725 - val_loss: 0.0575 - val_accuracy: 0.9854\n",
            "Epoch 96/100\n",
            "18/18 [==============================] - 0s 4ms/step - loss: 0.0656 - accuracy: 0.9725 - val_loss: 0.0575 - val_accuracy: 0.9854\n",
            "Epoch 97/100\n",
            "18/18 [==============================] - 0s 4ms/step - loss: 0.0655 - accuracy: 0.9707 - val_loss: 0.0574 - val_accuracy: 0.9854\n",
            "Epoch 98/100\n",
            "18/18 [==============================] - 0s 5ms/step - loss: 0.0653 - accuracy: 0.9725 - val_loss: 0.0573 - val_accuracy: 0.9854\n",
            "Epoch 99/100\n",
            "18/18 [==============================] - 0s 4ms/step - loss: 0.0650 - accuracy: 0.9725 - val_loss: 0.0573 - val_accuracy: 0.9854\n",
            "Epoch 100/100\n",
            "18/18 [==============================] - 0s 4ms/step - loss: 0.0649 - accuracy: 0.9725 - val_loss: 0.0573 - val_accuracy: 0.9854\n"
          ]
        }
      ],
      "source": [
        "history = model.fit( X_train_sd, y_train,\n",
        "                     epochs=100,\n",
        "                     batch_size=32,\n",
        "                     validation_data=(X_test_sd, y_test) )"
      ]
    },
    {
      "cell_type": "markdown",
      "id": "cd7ea8cb",
      "metadata": {
        "id": "cd7ea8cb"
      },
      "source": [
        "### 06 - History darstellen"
      ]
    },
    {
      "cell_type": "code",
      "execution_count": 20,
      "id": "eb63eb84",
      "metadata": {
        "id": "eb63eb84",
        "outputId": "833d63d6-ed38-417d-df38-623fc4b7030f",
        "colab": {
          "base_uri": "https://localhost:8080/",
          "height": 447
        }
      },
      "outputs": [
        {
          "output_type": "execute_result",
          "data": {
            "text/plain": [
              "<matplotlib.legend.Legend at 0x787548810e80>"
            ]
          },
          "metadata": {},
          "execution_count": 20
        },
        {
          "output_type": "display_data",
          "data": {
            "text/plain": [
              "<Figure size 640x480 with 1 Axes>"
            ],
            "image/png": "[encoded data removed]"
          },
          "metadata": {}
        }
      ],
      "source": [
        "import matplotlib.pyplot as plt\n",
        "\n",
        "val_loss = history.history['val_loss']\n",
        "train_acc = history.history['accuracy']\n",
        "val_acc = history.history['val_accuracy']\n",
        "train_loss = history.history['loss']\n",
        "\n",
        "epochs = range(1, len(train_acc)+1)\n",
        "plt.plot(epochs, train_loss, label='train loss')\n",
        "plt.plot(epochs, val_loss, label='test loss')\n",
        "plt.plot(epochs, train_acc, label='train accuracy')\n",
        "plt.plot(epochs, val_acc, label='test accuracy')\n",
        "plt.legend()"
      ]
    },
    {
      "cell_type": "markdown",
      "id": "672fb67d",
      "metadata": {
        "id": "672fb67d"
      },
      "source": [
        "### 07 - Schätzungen durchführen"
      ]
    },
    {
      "cell_type": "code",
      "execution_count": 21,
      "id": "3ab5b924",
      "metadata": {
        "id": "3ab5b924",
        "outputId": "79c827fc-6fe0-4227-ed04-69fac303b7ad",
        "colab": {
          "base_uri": "https://localhost:8080/",
          "height": 300
        }
      },
      "outputs": [
        {
          "output_type": "stream",
          "name": "stderr",
          "text": [
            "/usr/local/lib/python3.10/dist-packages/sklearn/base.py:439: UserWarning: X does not have valid feature names, but StandardScaler was fitted with feature names\n",
            "  warnings.warn(\n"
          ]
        },
        {
          "output_type": "error",
          "ename": "AttributeError",
          "evalue": "ignored",
          "traceback": [
            "\u001b[0;31m---------------------------------------------------------------------------\u001b[0m",
            "\u001b[0;31mAttributeError\u001b[0m                            Traceback (most recent call last)",
            "\u001b[0;32m<ipython-input-21-d55a8a4420a3>\u001b[0m in \u001b[0;36m<cell line: 8>\u001b[0;34m()\u001b[0m\n\u001b[1;32m      6\u001b[0m \u001b[0;34m\u001b[0m\u001b[0m\n\u001b[1;32m      7\u001b[0m \u001b[0;31m# predict und predict_classes-Methode (Achtung: depricated)\u001b[0m\u001b[0;34m\u001b[0m\u001b[0;34m\u001b[0m\u001b[0m\n\u001b[0;32m----> 8\u001b[0;31m \u001b[0my_pred\u001b[0m \u001b[0;34m=\u001b[0m \u001b[0mmodel\u001b[0m\u001b[0;34m.\u001b[0m\u001b[0mpredict_classes\u001b[0m\u001b[0;34m(\u001b[0m\u001b[0mX_pred_sd\u001b[0m\u001b[0;34m)\u001b[0m\u001b[0;34m\u001b[0m\u001b[0;34m\u001b[0m\u001b[0m\n\u001b[0m\u001b[1;32m      9\u001b[0m \u001b[0my_pred_prob\u001b[0m \u001b[0;34m=\u001b[0m \u001b[0mmodel\u001b[0m\u001b[0;34m.\u001b[0m\u001b[0mpredict\u001b[0m\u001b[0;34m(\u001b[0m\u001b[0mX_pred_sd\u001b[0m\u001b[0;34m)\u001b[0m\u001b[0;34m\u001b[0m\u001b[0;34m\u001b[0m\u001b[0m\n\u001b[1;32m     10\u001b[0m \u001b[0;34m\u001b[0m\u001b[0m\n",
            "\u001b[0;31mAttributeError\u001b[0m: 'Sequential' object has no attribute 'predict_classes'"
          ]
        }
      ],
      "source": [
        "# Schätzbeispiel\n",
        "X_pred = [[4., 2., 1., 1., 2., 1., 2., 1., 1.]]\n",
        "\n",
        "# Standardisieren nicht vergessen!\n",
        "X_pred_sd = scaler.transform(X_pred)\n",
        "\n",
        "# predict und predict_classes-Methode (Achtung: depricated)\n",
        "y_pred = model.predict_classes(X_pred_sd)\n",
        "y_pred_prob = model.predict(X_pred_sd)\n",
        "\n",
        "# Ausgabe der Schätzergebnisse (0=benign, 1=malignant)\n",
        "y_pred, y_pred_prob"
      ]
    },
    {
      "cell_type": "code",
      "source": [],
      "metadata": {
        "id": "9Dlr-6m9-ReX"
      },
      "id": "9Dlr-6m9-ReX",
      "execution_count": null,
      "outputs": []
    }
  ],
  "metadata": {
    "kernelspec": {
      "display_name": "Python 3 (ipykernel)",
      "language": "python",
      "name": "python3"
    },
    "language_info": {
      "codemirror_mode": {
        "name": "ipython",
        "version": 3
      },
      "file_extension": ".py",
      "mimetype": "text/x-python",
      "name": "python",
      "nbconvert_exporter": "python",
      "pygments_lexer": "ipython3",
      "version": "3.7.6"
    },
    "colab": {
      "provenance": []
    }
  },
  "nbformat": 4,
  "nbformat_minor": 5
}