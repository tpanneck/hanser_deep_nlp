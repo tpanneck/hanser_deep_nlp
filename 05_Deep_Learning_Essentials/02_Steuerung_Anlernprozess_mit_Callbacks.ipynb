{
 "cells": [
  {
   "cell_type": "markdown",
   "id": "d98169b5",
   "metadata": {},
   "source": [
    "## 5.4.4\tSteuerung des Anlernprozesses (Early Stopping)"
   ]
  },
  {
   "cell_type": "markdown",
   "id": "1096ff6b",
   "metadata": {},
   "source": [
    "### 01 - Daten laden (Tumorzellen-Studie)"
   ]
  },
  {
   "cell_type": "code",
   "execution_count": 1,
   "id": "84c464fd",
   "metadata": {},
   "outputs": [
    {
     "data": {
      "text/html": [
       "<div>\n",
       "<style scoped>\n",
       "    .dataframe tbody tr th:only-of-type {\n",
       "        vertical-align: middle;\n",
       "    }\n",
       "\n",
       "    .dataframe tbody tr th {\n",
       "        vertical-align: top;\n",
       "    }\n",
       "\n",
       "    .dataframe thead th {\n",
       "        text-align: right;\n",
       "    }\n",
       "</style>\n",
       "<table border=\"1\" class=\"dataframe\">\n",
       "  <thead>\n",
       "    <tr style=\"text-align: right;\">\n",
       "      <th></th>\n",
       "      <th>clump thickness</th>\n",
       "      <th>uniformity cell size</th>\n",
       "      <th>uniformity cell shape</th>\n",
       "      <th>marginal adhesion</th>\n",
       "      <th>epithelial cell size</th>\n",
       "      <th>bare nuclei</th>\n",
       "      <th>bland chromatin</th>\n",
       "      <th>normal nucleoli</th>\n",
       "      <th>mitoses</th>\n",
       "      <th>label</th>\n",
       "    </tr>\n",
       "  </thead>\n",
       "  <tbody>\n",
       "    <tr>\n",
       "      <th>0</th>\n",
       "      <td>5</td>\n",
       "      <td>1</td>\n",
       "      <td>1</td>\n",
       "      <td>1</td>\n",
       "      <td>2</td>\n",
       "      <td>1.0</td>\n",
       "      <td>3</td>\n",
       "      <td>1</td>\n",
       "      <td>1</td>\n",
       "      <td>benign</td>\n",
       "    </tr>\n",
       "    <tr>\n",
       "      <th>1</th>\n",
       "      <td>5</td>\n",
       "      <td>4</td>\n",
       "      <td>4</td>\n",
       "      <td>5</td>\n",
       "      <td>7</td>\n",
       "      <td>10.0</td>\n",
       "      <td>3</td>\n",
       "      <td>2</td>\n",
       "      <td>1</td>\n",
       "      <td>benign</td>\n",
       "    </tr>\n",
       "    <tr>\n",
       "      <th>2</th>\n",
       "      <td>3</td>\n",
       "      <td>1</td>\n",
       "      <td>1</td>\n",
       "      <td>1</td>\n",
       "      <td>2</td>\n",
       "      <td>2.0</td>\n",
       "      <td>3</td>\n",
       "      <td>1</td>\n",
       "      <td>1</td>\n",
       "      <td>benign</td>\n",
       "    </tr>\n",
       "    <tr>\n",
       "      <th>3</th>\n",
       "      <td>6</td>\n",
       "      <td>8</td>\n",
       "      <td>8</td>\n",
       "      <td>1</td>\n",
       "      <td>3</td>\n",
       "      <td>4.0</td>\n",
       "      <td>3</td>\n",
       "      <td>7</td>\n",
       "      <td>1</td>\n",
       "      <td>benign</td>\n",
       "    </tr>\n",
       "    <tr>\n",
       "      <th>4</th>\n",
       "      <td>4</td>\n",
       "      <td>1</td>\n",
       "      <td>1</td>\n",
       "      <td>3</td>\n",
       "      <td>2</td>\n",
       "      <td>1.0</td>\n",
       "      <td>3</td>\n",
       "      <td>1</td>\n",
       "      <td>1</td>\n",
       "      <td>benign</td>\n",
       "    </tr>\n",
       "  </tbody>\n",
       "</table>\n",
       "</div>"
      ],
      "text/plain": [
       "   clump thickness  uniformity cell size  uniformity cell shape  \\\n",
       "0                5                     1                      1   \n",
       "1                5                     4                      4   \n",
       "2                3                     1                      1   \n",
       "3                6                     8                      8   \n",
       "4                4                     1                      1   \n",
       "\n",
       "   marginal adhesion  epithelial cell size  bare nuclei  bland chromatin  \\\n",
       "0                  1                     2          1.0                3   \n",
       "1                  5                     7         10.0                3   \n",
       "2                  1                     2          2.0                3   \n",
       "3                  1                     3          4.0                3   \n",
       "4                  3                     2          1.0                3   \n",
       "\n",
       "   normal nucleoli  mitoses   label  \n",
       "0                1        1  benign  \n",
       "1                2        1  benign  \n",
       "2                1        1  benign  \n",
       "3                7        1  benign  \n",
       "4                1        1  benign  "
      ]
     },
     "execution_count": 1,
     "metadata": {},
     "output_type": "execute_result"
    }
   ],
   "source": [
    "from os.path import join\n",
    "import numpy as np\n",
    "import pandas as pd\n",
    "\n",
    "path = '..\\Data'\n",
    "file = 'breast_cancer_wisconsin.csv'\n",
    "\n",
    "df = pd.read_csv(join(path, file))\n",
    "df = df.drop('id', axis=1)\n",
    "df.head()"
   ]
  },
  {
   "cell_type": "markdown",
   "id": "bca35d58",
   "metadata": {},
   "source": [
    "### 02 - Skalierung der Features (x-Daten)"
   ]
  },
  {
   "cell_type": "markdown",
   "id": "abb38223",
   "metadata": {},
   "source": [
    "#### a) Vorbereitung: X und y aus *DataFrame* separieren. y-Variable als Integer codieren"
   ]
  },
  {
   "cell_type": "code",
   "execution_count": 2,
   "id": "db708b65",
   "metadata": {},
   "outputs": [
    {
     "data": {
      "text/plain": [
       "((683, 9), (683,))"
      ]
     },
     "execution_count": 2,
     "metadata": {},
     "output_type": "execute_result"
    }
   ],
   "source": [
    "X = df[['clump thickness', 'uniformity cell size', 'uniformity cell shape',\n",
    "       'marginal adhesion', 'epithelial cell size', 'bare nuclei',\n",
    "       'bland chromatin', 'normal nucleoli', 'mitoses']]\n",
    "y = df['label'].map(lambda x: 1 if x=='malignant' else 0)\n",
    "X.shape, y.shape"
   ]
  },
  {
   "cell_type": "markdown",
   "id": "8b1de1df",
   "metadata": {},
   "source": [
    "#### b) Unterteilung in Train- Testpartitionen\n",
    "Standardisiert wird mit Mittelwert und Standardabweichung der Trainingsdaten!"
   ]
  },
  {
   "cell_type": "code",
   "execution_count": 3,
   "id": "2f4b25a7",
   "metadata": {},
   "outputs": [
    {
     "data": {
      "text/plain": [
       "((546, 9), (137, 9), (546,), (137,))"
      ]
     },
     "execution_count": 3,
     "metadata": {},
     "output_type": "execute_result"
    }
   ],
   "source": [
    "from sklearn.model_selection import train_test_split\n",
    "X_train, X_test, y_train, y_test = train_test_split(X, y, test_size=.2, random_state=11)\n",
    "X_train.shape, X_test.shape, y_train.shape, y_test.shape"
   ]
  },
  {
   "cell_type": "markdown",
   "id": "9a556d79",
   "metadata": {},
   "source": [
    "#### c) Standardisieren und den Skalierer nach dem Anlernen abspeichern (wird später wieder gebraucht)"
   ]
  },
  {
   "cell_type": "code",
   "execution_count": 4,
   "id": "2d429db4",
   "metadata": {},
   "outputs": [
    {
     "data": {
      "text/plain": [
       "('mean',\n",
       " array([-0.,  0.,  0., -0., -0., -0.,  0.,  0.,  0.]),\n",
       " 'std',\n",
       " array([1., 1., 1., 1., 1., 1., 1., 1., 1.]))"
      ]
     },
     "execution_count": 4,
     "metadata": {},
     "output_type": "execute_result"
    }
   ],
   "source": [
    "from sklearn.preprocessing import StandardScaler\n",
    "import joblib \n",
    "\n",
    "# Anlernen des Scalers \n",
    "scaler = StandardScaler()\n",
    "scaler.fit(X_train)\n",
    "\n",
    "# Skalierer serialisieren\n",
    "joblib.dump(scaler, 'scaler_wbc.pkl')\n",
    "\n",
    "# Transformation der Daten\n",
    "X_train_sd = scaler.transform(X_train)\n",
    "X_test_sd = scaler.transform(X_test)\n",
    "\n",
    "# Überprüfen (Mittelwert sollte spaltenweise=0 sein, Standardabweichung spaltenweise=1)\n",
    "'mean', X_train_sd.mean(axis=0).round(3), 'std', X_train_sd.std(axis=0).round(3)"
   ]
  },
  {
   "cell_type": "markdown",
   "id": "27412a77",
   "metadata": {},
   "source": [
    "### 03 - Neuronales Netz mit *Keras* aufbauen "
   ]
  },
  {
   "cell_type": "code",
   "execution_count": 5,
   "id": "10f59467",
   "metadata": {},
   "outputs": [
    {
     "name": "stdout",
     "output_type": "stream",
     "text": [
      "Model: \"sequential\"\n",
      "_________________________________________________________________\n",
      "Layer (type)                 Output Shape              Param #   \n",
      "=================================================================\n",
      "dense (Dense)                (None, 9)                 90        \n",
      "_________________________________________________________________\n",
      "dense_1 (Dense)              (None, 1)                 10        \n",
      "=================================================================\n",
      "Total params: 100\n",
      "Trainable params: 100\n",
      "Non-trainable params: 0\n",
      "_________________________________________________________________\n"
     ]
    }
   ],
   "source": [
    "from tensorflow.keras.models import Sequential\n",
    "from tensorflow.keras.layers import Dense\n",
    "\n",
    "model = Sequential()\n",
    "model.add(Dense(units=9, input_shape=(9,), activation='relu'))\n",
    "model.add(Dense(units=1, activation='sigmoid'))\n",
    "model.summary()"
   ]
  },
  {
   "cell_type": "markdown",
   "id": "96be9f5e",
   "metadata": {},
   "source": [
    "### 04 - Modell kompilieren (Verlustfunktion und Optimierer festlegen)"
   ]
  },
  {
   "cell_type": "code",
   "execution_count": 6,
   "id": "2a34d31d",
   "metadata": {},
   "outputs": [],
   "source": [
    "model.compile( loss='binary_crossentropy', \n",
    "               optimizer='adam', \n",
    "               metrics=['accuracy'])"
   ]
  },
  {
   "cell_type": "markdown",
   "id": "5d48f73f",
   "metadata": {},
   "source": [
    "### 05 - Anlernprozess mit Hilfe von Callbacks steuern\n",
    "- **EarlyStopping** - bricht den Anlernprozess ab, wenn keine Verbesserung mehr auf festgelegtem Parameter erfolgt (hier: loss auf den Validierungs- bzw. Testdaten)\n",
    "- **ModelCheckpoint** - speichert das Modell im Hintegrund ab. Dabei kann festgelegt werden, dass nur das beste Modell (zu bestimmendes Kriterium) gespeichert wird (*save_best_only=True*). *monitor* legt fest, welches Kriterium zur Bestimmung von \"bestes Modell\" herangezogen wird.  "
   ]
  },
  {
   "cell_type": "code",
   "execution_count": 7,
   "id": "bf730326",
   "metadata": {},
   "outputs": [],
   "source": [
    "from tensorflow.keras.callbacks import EarlyStopping, ModelCheckpoint\n",
    "\n",
    "stopping = EarlyStopping( monitor='val_loss', \n",
    "                          patience=2,\n",
    "                          restore_best_weights=True)\n",
    "\n",
    "checkpoint = ModelCheckpoint( filepath='model_cancer_cb.h5',\n",
    "                              monitor='val_loss',\n",
    "                              save_best_only=True)"
   ]
  },
  {
   "cell_type": "markdown",
   "id": "188e5c05",
   "metadata": {},
   "source": [
    "### 06 - Anlernprozess starten"
   ]
  },
  {
   "cell_type": "code",
   "execution_count": 8,
   "id": "5c10722a",
   "metadata": {},
   "outputs": [
    {
     "name": "stdout",
     "output_type": "stream",
     "text": [
      "Epoch 1/100\n",
      "18/18 [==============================] - 0s 15ms/step - loss: 0.6587 - accuracy: 0.8022 - val_loss: 0.5607 - val_accuracy: 0.8686\n",
      "Epoch 2/100\n",
      "18/18 [==============================] - 0s 4ms/step - loss: 0.5553 - accuracy: 0.8810 - val_loss: 0.4699 - val_accuracy: 0.9124\n",
      "Epoch 3/100\n",
      "18/18 [==============================] - 0s 3ms/step - loss: 0.4704 - accuracy: 0.9158 - val_loss: 0.3962 - val_accuracy: 0.9343\n",
      "Epoch 4/100\n",
      "18/18 [==============================] - 0s 3ms/step - loss: 0.3989 - accuracy: 0.9377 - val_loss: 0.3314 - val_accuracy: 0.9562\n",
      "Epoch 5/100\n",
      "18/18 [==============================] - 0s 3ms/step - loss: 0.3403 - accuracy: 0.9396 - val_loss: 0.2762 - val_accuracy: 0.9562\n",
      "Epoch 6/100\n",
      "18/18 [==============================] - 0s 3ms/step - loss: 0.2900 - accuracy: 0.9451 - val_loss: 0.2317 - val_accuracy: 0.9781\n",
      "Epoch 7/100\n",
      "18/18 [==============================] - 0s 3ms/step - loss: 0.2501 - accuracy: 0.9505 - val_loss: 0.1963 - val_accuracy: 0.9781\n",
      "Epoch 8/100\n",
      "18/18 [==============================] - 0s 3ms/step - loss: 0.2183 - accuracy: 0.9505 - val_loss: 0.1680 - val_accuracy: 0.9854\n",
      "Epoch 9/100\n",
      "18/18 [==============================] - 0s 3ms/step - loss: 0.1923 - accuracy: 0.9542 - val_loss: 0.1467 - val_accuracy: 0.9854\n",
      "Epoch 10/100\n",
      "18/18 [==============================] - 0s 3ms/step - loss: 0.1730 - accuracy: 0.9579 - val_loss: 0.1297 - val_accuracy: 0.9854\n",
      "Epoch 11/100\n",
      "18/18 [==============================] - 0s 3ms/step - loss: 0.1571 - accuracy: 0.9615 - val_loss: 0.1168 - val_accuracy: 0.9854\n",
      "Epoch 12/100\n",
      "18/18 [==============================] - 0s 3ms/step - loss: 0.1452 - accuracy: 0.9615 - val_loss: 0.1068 - val_accuracy: 0.9854\n",
      "Epoch 13/100\n",
      "18/18 [==============================] - 0s 3ms/step - loss: 0.1356 - accuracy: 0.9615 - val_loss: 0.0980 - val_accuracy: 0.9854\n",
      "Epoch 14/100\n",
      "18/18 [==============================] - 0s 3ms/step - loss: 0.1275 - accuracy: 0.9634 - val_loss: 0.0911 - val_accuracy: 0.9854\n",
      "Epoch 15/100\n",
      "18/18 [==============================] - 0s 3ms/step - loss: 0.1207 - accuracy: 0.9652 - val_loss: 0.0855 - val_accuracy: 0.9854\n",
      "Epoch 16/100\n",
      "18/18 [==============================] - 0s 3ms/step - loss: 0.1152 - accuracy: 0.9670 - val_loss: 0.0807 - val_accuracy: 0.9854\n",
      "Epoch 17/100\n",
      "18/18 [==============================] - 0s 3ms/step - loss: 0.1103 - accuracy: 0.9670 - val_loss: 0.0768 - val_accuracy: 0.9854\n",
      "Epoch 18/100\n",
      "18/18 [==============================] - 0s 3ms/step - loss: 0.1065 - accuracy: 0.9670 - val_loss: 0.0736 - val_accuracy: 0.9854\n",
      "Epoch 19/100\n",
      "18/18 [==============================] - 0s 3ms/step - loss: 0.1033 - accuracy: 0.9670 - val_loss: 0.0707 - val_accuracy: 0.9854\n",
      "Epoch 20/100\n",
      "18/18 [==============================] - 0s 4ms/step - loss: 0.1005 - accuracy: 0.9670 - val_loss: 0.0682 - val_accuracy: 0.9854\n",
      "Epoch 21/100\n",
      "18/18 [==============================] - 0s 4ms/step - loss: 0.0980 - accuracy: 0.9670 - val_loss: 0.0663 - val_accuracy: 0.9854\n",
      "Epoch 22/100\n",
      "18/18 [==============================] - 0s 3ms/step - loss: 0.0961 - accuracy: 0.9689 - val_loss: 0.0644 - val_accuracy: 0.9854\n",
      "Epoch 23/100\n",
      "18/18 [==============================] - 0s 3ms/step - loss: 0.0943 - accuracy: 0.9689 - val_loss: 0.0630 - val_accuracy: 0.9854\n",
      "Epoch 24/100\n",
      "18/18 [==============================] - 0s 4ms/step - loss: 0.0927 - accuracy: 0.9689 - val_loss: 0.0618 - val_accuracy: 0.9854\n",
      "Epoch 25/100\n",
      "18/18 [==============================] - 0s 3ms/step - loss: 0.0914 - accuracy: 0.9689 - val_loss: 0.0606 - val_accuracy: 0.9854\n",
      "Epoch 26/100\n",
      "18/18 [==============================] - 0s 3ms/step - loss: 0.0901 - accuracy: 0.9689 - val_loss: 0.0596 - val_accuracy: 0.9854\n",
      "Epoch 27/100\n",
      "18/18 [==============================] - 0s 3ms/step - loss: 0.0891 - accuracy: 0.9689 - val_loss: 0.0586 - val_accuracy: 0.9854\n",
      "Epoch 28/100\n",
      "18/18 [==============================] - 0s 4ms/step - loss: 0.0881 - accuracy: 0.9689 - val_loss: 0.0579 - val_accuracy: 0.9854\n",
      "Epoch 29/100\n",
      "18/18 [==============================] - 0s 3ms/step - loss: 0.0872 - accuracy: 0.9689 - val_loss: 0.0571 - val_accuracy: 0.9854\n",
      "Epoch 30/100\n",
      "18/18 [==============================] - 0s 3ms/step - loss: 0.0865 - accuracy: 0.9689 - val_loss: 0.0565 - val_accuracy: 0.9854\n",
      "Epoch 31/100\n",
      "18/18 [==============================] - 0s 3ms/step - loss: 0.0858 - accuracy: 0.9689 - val_loss: 0.0559 - val_accuracy: 0.9854\n",
      "Epoch 32/100\n",
      "18/18 [==============================] - 0s 3ms/step - loss: 0.0850 - accuracy: 0.9689 - val_loss: 0.0553 - val_accuracy: 0.9854\n",
      "Epoch 33/100\n",
      "18/18 [==============================] - 0s 4ms/step - loss: 0.0843 - accuracy: 0.9707 - val_loss: 0.0548 - val_accuracy: 0.9854\n",
      "Epoch 34/100\n",
      "18/18 [==============================] - 0s 4ms/step - loss: 0.0839 - accuracy: 0.9707 - val_loss: 0.0544 - val_accuracy: 0.9854\n",
      "Epoch 35/100\n",
      "18/18 [==============================] - 0s 3ms/step - loss: 0.0834 - accuracy: 0.9707 - val_loss: 0.0540 - val_accuracy: 0.9854\n",
      "Epoch 36/100\n",
      "18/18 [==============================] - 0s 4ms/step - loss: 0.0830 - accuracy: 0.9707 - val_loss: 0.0537 - val_accuracy: 0.9854\n",
      "Epoch 37/100\n",
      "18/18 [==============================] - 0s 3ms/step - loss: 0.0826 - accuracy: 0.9707 - val_loss: 0.0534 - val_accuracy: 0.9854\n",
      "Epoch 38/100\n",
      "18/18 [==============================] - 0s 3ms/step - loss: 0.0822 - accuracy: 0.9707 - val_loss: 0.0531 - val_accuracy: 0.9854\n",
      "Epoch 39/100\n",
      "18/18 [==============================] - 0s 2ms/step - loss: 0.0820 - accuracy: 0.9707 - val_loss: 0.0534 - val_accuracy: 0.9854\n",
      "Epoch 40/100\n",
      "18/18 [==============================] - 0s 3ms/step - loss: 0.0816 - accuracy: 0.9707 - val_loss: 0.0531 - val_accuracy: 0.9854\n"
     ]
    }
   ],
   "source": [
    "history = model.fit( X_train_sd, y_train, \n",
    "                     epochs=100, \n",
    "                     batch_size=32, \n",
    "                     validation_data=(X_test_sd, y_test),\n",
    "                     callbacks=[stopping, checkpoint])"
   ]
  },
  {
   "cell_type": "markdown",
   "id": "cd7ea8cb",
   "metadata": {},
   "source": [
    "### 07 - History darstellen"
   ]
  },
  {
   "cell_type": "code",
   "execution_count": 9,
   "id": "eb63eb84",
   "metadata": {},
   "outputs": [
    {
     "data": {
      "text/plain": [
       "<matplotlib.legend.Legend at 0x18ec321b248>"
      ]
     },
     "execution_count": 9,
     "metadata": {},
     "output_type": "execute_result"
    },
    {
     "data": {
      "image/png": "[encoded data removed]",
      "text/plain": [
       "<Figure size 432x288 with 1 Axes>"
      ]
     },
     "metadata": {
      "needs_background": "light"
     },
     "output_type": "display_data"
    }
   ],
   "source": [
    "import matplotlib.pyplot as plt\n",
    "\n",
    "val_loss = history.history['val_loss']\n",
    "train_acc = history.history['accuracy']\n",
    "val_acc = history.history['val_accuracy']\n",
    "train_loss = history.history['loss']\n",
    "\n",
    "epochs = range(1, len(train_acc)+1)\n",
    "plt.plot(epochs, train_loss, label='train loss')\n",
    "plt.plot(epochs, val_loss, label='test loss')\n",
    "plt.plot(epochs, train_acc, label='train accuracy')\n",
    "plt.plot(epochs, val_acc, label='test accuracy')\n",
    "plt.legend()"
   ]
  },
  {
   "cell_type": "markdown",
   "id": "048464bb",
   "metadata": {},
   "source": [
    "### 08 - Das Modell wieder laden und verwenden\n",
    "- Mit *ModelCheckpoint* wurde das Modell unter einem festgelegten Pfad/Namen abgespeichert (vgl. oben *'model_cancer_cb.h5'*).\n",
    "- Unter dieser Bezeichnung kann es jetzt mit der Funktion Keras-Funktion *load_model* wieder geladen und zur Produktion von Schätzungen herangezogen werden."
   ]
  },
  {
   "cell_type": "code",
   "execution_count": 10,
   "id": "4c6913f5",
   "metadata": {},
   "outputs": [
    {
     "name": "stdout",
     "output_type": "stream",
     "text": [
      "Model: \"sequential\"\n",
      "_________________________________________________________________\n",
      "Layer (type)                 Output Shape              Param #   \n",
      "=================================================================\n",
      "dense (Dense)                (None, 9)                 90        \n",
      "_________________________________________________________________\n",
      "dense_1 (Dense)              (None, 1)                 10        \n",
      "=================================================================\n",
      "Total params: 100\n",
      "Trainable params: 100\n",
      "Non-trainable params: 0\n",
      "_________________________________________________________________\n"
     ]
    }
   ],
   "source": [
    "from tensorflow.keras.models import load_model\n",
    "\n",
    "model = load_model('model_cancer_cb.h5')\n",
    "model.summary()"
   ]
  },
  {
   "cell_type": "markdown",
   "id": "3c566ad1",
   "metadata": {},
   "source": [
    "#### Den Skalierer deserialisieren (wird gebraucht für die Umwandlung von *x*-Rohdaten)"
   ]
  },
  {
   "cell_type": "code",
   "execution_count": 11,
   "id": "6e4b570c",
   "metadata": {},
   "outputs": [
    {
     "data": {
      "text/plain": [
       "StandardScaler(copy=True, with_mean=True, with_std=True)"
      ]
     },
     "execution_count": 11,
     "metadata": {},
     "output_type": "execute_result"
    }
   ],
   "source": [
    "import joblib \n",
    "scaler = joblib.load('scaler_wbc.pkl')\n",
    "scaler"
   ]
  },
  {
   "cell_type": "markdown",
   "id": "f122b501",
   "metadata": {},
   "source": [
    "#### Schätzungen durchführen"
   ]
  },
  {
   "cell_type": "code",
   "execution_count": 12,
   "id": "7bb04763",
   "metadata": {},
   "outputs": [
    {
     "data": {
      "text/plain": [
       "(array([[0]]), array([[0.01026928]], dtype=float32))"
      ]
     },
     "execution_count": 12,
     "metadata": {},
     "output_type": "execute_result"
    }
   ],
   "source": [
    "import numpy as np\n",
    "\n",
    "# Schätzbeispiel\n",
    "X_pred = [[4., 2., 1., 1., 2., 1., 2., 1., 1.]]\n",
    "\n",
    "# Standardisieren der x-Daten\n",
    "X_pred_sd = scaler.transform(X_pred)\n",
    "\n",
    "# predict und predict_classes-Methode (Achtung: depricated)\n",
    "y_pred_prob = model.predict(X_pred_sd)\n",
    "y_pred_class = (y_pred_prob > 0.5).astype(\"int32\")\n",
    "\n",
    "y_pred_class, y_pred_prob"
   ]
  }
 ],
 "metadata": {
  "kernelspec": {
   "display_name": "Python 3 (ipykernel)",
   "language": "python",
   "name": "python3"
  },
  "language_info": {
   "codemirror_mode": {
    "name": "ipython",
    "version": 3
   },
   "file_extension": ".py",
   "mimetype": "text/x-python",
   "name": "python",
   "nbconvert_exporter": "python",
   "pygments_lexer": "ipython3",
   "version": "3.7.6"
  }
 },
 "nbformat": 4,
 "nbformat_minor": 5
}
