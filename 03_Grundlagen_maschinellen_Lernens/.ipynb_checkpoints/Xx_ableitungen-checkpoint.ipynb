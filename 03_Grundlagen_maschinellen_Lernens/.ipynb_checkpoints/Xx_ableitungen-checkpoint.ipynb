{
 "cells": [
  {
   "cell_type": "markdown",
   "id": "e4755d52",
   "metadata": {},
   "source": [
    "## 01 - Beispieldaten erzeugen"
   ]
  },
  {
   "cell_type": "code",
   "execution_count": 21,
   "id": "713dec13",
   "metadata": {},
   "outputs": [
    {
     "data": {
      "text/plain": [
       "((100,), (100,))"
      ]
     },
     "execution_count": 21,
     "metadata": {},
     "output_type": "execute_result"
    }
   ],
   "source": [
    "from sklearn.datasets import make_regression\n",
    "\n",
    "x, y = make_regression(n_samples=100, n_features=1, \n",
    "            n_informative=1, noise=20)\n",
    "x = x.reshape(-1)\n",
    "x.shape, y.shape"
   ]
  },
  {
   "cell_type": "markdown",
   "id": "81ee5b43",
   "metadata": {},
   "source": [
    "## 02 - Visualisierung des Zusammenhangs zwischen x und y"
   ]
  },
  {
   "cell_type": "code",
   "execution_count": 22,
   "id": "0b7b75e4",
   "metadata": {},
   "outputs": [
    {
     "data": {
      "text/plain": [
       "<matplotlib.collections.PathCollection at 0x18b5bf29248>"
      ]
     },
     "execution_count": 22,
     "metadata": {},
     "output_type": "execute_result"
    },
    {
     "data": {
      "image/png": "[encoded data removed]",
      "text/plain": [
       "<Figure size 432x288 with 1 Axes>"
      ]
     },
     "metadata": {
      "needs_background": "light"
     },
     "output_type": "display_data"
    }
   ],
   "source": [
    "import matplotlib.pyplot as plt\n",
    "\n",
    "plt.scatter(x, y)"
   ]
  },
  {
   "cell_type": "markdown",
   "id": "6013ad54",
   "metadata": {},
   "source": [
    "### 03 - Verlustfunktion für verschiedene b-Koeffizienten (*Regressionsgleichung ohne Intercept*) "
   ]
  },
  {
   "cell_type": "markdown",
   "id": "204dff43",
   "metadata": {},
   "source": [
    "#### Berechnung des mittleren quadrierten Fehlers (loss) über gegebene x/y-Daten für verschiedene b-Parameter\n",
    "Grundlage, einfache lineare Funktion ohne Intercept: y_pred = x * b "
   ]
  },
  {
   "cell_type": "code",
   "execution_count": 37,
   "id": "aa6c64ca",
   "metadata": {},
   "outputs": [],
   "source": [
    "import numpy as np\n",
    "\n",
    "b_s = np.arange(-20, 80, .5)\n",
    "\n",
    "losses = []\n",
    "for b in b_s:\n",
    "    loss = np.mean( (y - b*x)**2)\n",
    "    losses.append(loss)"
   ]
  },
  {
   "cell_type": "markdown",
   "id": "b9bf43d1",
   "metadata": {},
   "source": [
    "#### Visualisierung *loss* für verschiedene b-Parameter"
   ]
  },
  {
   "cell_type": "code",
   "execution_count": 38,
   "id": "67599055",
   "metadata": {},
   "outputs": [
    {
     "data": {
      "text/plain": [
       "[<matplotlib.lines.Line2D at 0x18b5f3ecb88>]"
      ]
     },
     "execution_count": 38,
     "metadata": {},
     "output_type": "execute_result"
    },
    {
     "data": {
      "image/png": "[encoded data removed]",
      "text/plain": [
       "<Figure size 432x288 with 1 Axes>"
      ]
     },
     "metadata": {
      "needs_background": "light"
     },
     "output_type": "display_data"
    }
   ],
   "source": [
    "plt.plot(b_s, losses)"
   ]
  },
  {
   "cell_type": "markdown",
   "id": "01f51c94",
   "metadata": {},
   "source": [
    "### Gradienten für verschiedene b-Parameter berechnen"
   ]
  },
  {
   "cell_type": "code",
   "execution_count": 53,
   "id": "67152a66",
   "metadata": {},
   "outputs": [
    {
     "name": "stdout",
     "output_type": "stream",
     "text": [
      "-19.2838821964353 -71.6117803564704\n",
      "-18.5735615655964 -71.0320630838942\n",
      "-17.8690068209998 -70.4554744596537\n",
      "-17.1701868027987 -69.8820018201096\n",
      "-16.4770704773724 -69.3116325426290\n",
      "-15.7896269369177 -68.7443540454749\n",
      "-15.1078253990407 -68.1801537876953\n",
      "-14.4316352063506 -67.6190192690134\n",
      "-13.7610258260534 -67.0609380297173\n",
      "-13.0959668495479 -66.5058976505510\n",
      "-12.4364279920219 -65.9538857526045\n",
      "-11.7823790920498 -65.4048899972051\n",
      "-11.1337901111917 -64.8588980858080\n",
      "-10.4906311335929 -64.3158977598882\n",
      "-9.85287236558454 -63.7758768008316\n",
      "-9.22048413528626 -63.2388230298275\n",
      "-8.59343689220866 -62.7047243077603\n",
      "-7.97170120685764 -62.1735685351020\n",
      "-7.35524777033959 -61.6453436518048\n",
      "-6.74404739396765 -61.1200376371941\n",
      "-6.13807100886904 -60.5976385098615\n",
      "-5.53728966559346 -60.0781343275582\n",
      "-4.94167453372257 -59.5615131870889\n",
      "-4.35119690148051 -59.0477632242051\n",
      "-3.76582817534552 -58.5368726134999\n",
      "-3.18553987966250 -58.0288295683017\n",
      "-2.61030365625680 -57.5236223405695\n",
      "-2.04009126404893 -57.0212392207870\n",
      "-1.47487457867035 -56.5216685378585\n",
      "-0.914625592080312 -56.0248986590037\n",
      "-0.359316412183777 -55.5309179896535\n",
      "0.191080737549678 -55.0397149733456\n",
      "0.736593518465888 -54.5512780916210\n",
      "1.27724947710509 -54.0655958639200\n",
      "1.81307604557988 -53.5826568474789\n",
      "2.34410054195214 -53.1024496372267\n",
      "2.87035017060896 -52.6249628656822\n",
      "3.39185202263748 -52.1501852028513\n",
      "3.90863307619872 -51.6781053561245\n",
      "4.42072019690047 -51.2087120701747\n",
      "4.92814013816902 -50.7419941268553\n",
      "5.43091954162000 -50.2779403450980\n",
      "5.92908493742812 -49.8165395808119\n",
      "6.42266274469594 -49.3577807267818\n",
      "6.91167927182161 -48.9016527125673\n",
      "7.39616071686563 -48.4481445044017\n",
      "7.87613316791655 -47.9972451050923\n",
      "8.35162260345574 -47.5489435539188\n",
      "8.82265489272108 -47.1032289265342\n",
      "9.28925579606973 -46.6600903348645\n",
      "9.75145096533982 -46.2195169270091\n",
      "10.2092659442112 -45.7814978871415\n",
      "10.6627261685653 -45.3460224354099\n",
      "11.1118569668437 -44.9130798278387\n",
      "11.5566835604060 -44.4826593562294\n",
      "11.9972310638866 -44.0547503480621\n",
      "12.4335244855506 -43.6293421663978\n",
      "12.8655887276484 -43.2064242097796\n",
      "13.2934485867698 -42.7859859121354\n",
      "13.7171287541966 -42.3680167426806\n",
      "14.1366538162548 -41.9525062058200\n",
      "14.5520482546653 -41.5394438410515\n",
      "14.9633364468940 -41.1288192228688\n",
      "15.3705426665006 -40.7206219606647\n",
      "15.7736910834870 -40.3148416986350\n",
      "16.1728057646438 -39.9114681156822\n",
      "16.5679106738970 -39.5104909253194\n",
      "16.9590296726527 -39.1118998755749\n",
      "17.3461865201417 -38.7156847488961\n",
      "17.7294048737622 -38.3218353620550\n",
      "18.1087082894228 -37.9303415660523\n",
      "18.4841202218830 -37.5411932460236\n",
      "18.8556640250944 -37.1543803211436\n",
      "19.2233629525398 -36.7698927445327\n",
      "19.5872401575714 -36.3877205031625\n",
      "19.9473186937490 -36.0078536177616\n",
      "20.3036215151762 -35.6302821427221\n",
      "20.6561714768363 -35.2549961660062\n",
      "21.0049913349268 -34.8819858090531\n",
      "21.3501037471937 -34.5112412266853\n",
      "21.6915312732638 -34.1427526070162\n",
      "22.0292963749774 -33.7765101713576\n",
      "22.3634214167187 -33.4125041741271\n",
      "22.6939286657462 -33.0507249027559\n",
      "23.0208402925222 -32.6911626775970\n",
      "23.3441783710405 -32.3338078518332\n",
      "23.6639648791544 -31.9786508113859\n",
      "23.9802216989026 -31.6256819748237\n",
      "24.2929706168353 -31.2748917932710\n",
      "24.6022333243385 -30.9262707503177\n",
      "24.9080314179578 -30.5798093619278\n",
      "25.2103863997213 -30.2354981763497\n",
      "25.5093196774616 -29.8933277740257\n",
      "25.8048525651366 -29.5532887675016\n",
      "26.0970062831499 -29.2153718013374\n",
      "26.3858019586701 -28.8795675520177\n",
      "26.6712606259487 -28.5458667278620\n",
      "26.9534032266381 -28.2142600689356\n",
      "27.2322506101077 -27.8847383469610\n",
      "27.5078235337600 -27.5572923652288\n"
     ]
    }
   ],
   "source": [
    "gradients = []\n",
    "b = - 20\n",
    "lr = .01\n",
    "\n",
    "for epoch in range(100):\n",
    "    for x_, y_true in zip(x, y):\n",
    "        b_ = Symbol('b_')\n",
    "        loss = (y_true - (x_*b_))**2\n",
    "        deriv = Derivative(loss, b_)\n",
    "        gradient = deriv.doit().subs({b_: b })\n",
    "        gradients.append(gradient)\n",
    "    # Anpassung\n",
    "    b -= lr * np.mean(gradients)\n",
    "    print(b, np.mean(gradients))"
   ]
  },
  {
   "cell_type": "code",
   "execution_count": 15,
   "id": "c7c6e671",
   "metadata": {},
   "outputs": [
    {
     "name": "stdout",
     "output_type": "stream",
     "text": [
      "2*a - 8\n"
     ]
    },
    {
     "data": {
      "text/latex": [
       "$\\displaystyle -4$"
      ],
      "text/plain": [
       "-4"
      ]
     },
     "execution_count": 15,
     "metadata": {},
     "output_type": "execute_result"
    }
   ],
   "source": [
    "## Ableitung nach a\n",
    "b = None\n",
    "a = Symbol('a')\n",
    "\n",
    "x = 5\n",
    "b = 0\n",
    "y_true = 4\n",
    "function2 = (y_true - (a + x*b))**2\n",
    "\n",
    "deriv= Derivative(function2, a)\n",
    "print(deriv.doit())\n",
    "deriv.doit().subs({a:2})"
   ]
  },
  {
   "cell_type": "code",
   "execution_count": 12,
   "id": "9e04f3fd",
   "metadata": {},
   "outputs": [
    {
     "name": "stdout",
     "output_type": "stream",
     "text": [
      "[ 8. 11.  5.]\n",
      "8.0\n",
      "11.0\n",
      "5.0\n"
     ]
    }
   ],
   "source": [
    "import numpy as np\n",
    "### Matrizenrechnung\n",
    "\n",
    "b = np.array([2., 3.])\n",
    "x = np.array([[1, 2], [1, 3], [1, 1]])\n",
    "y = np.array([1, 0, 1])\n",
    "\n",
    "print(x.dot(b.T))\n",
    "for x_ in x:\n",
    "    print(b[0] * x_[0] + b[1] * x_[1])"
   ]
  },
  {
   "cell_type": "code",
   "execution_count": 35,
   "id": "623c21e5",
   "metadata": {},
   "outputs": [
    {
     "name": "stdout",
     "output_type": "stream",
     "text": [
      "(100,)\n"
     ]
    },
    {
     "data": {
      "text/plain": [
       "761.6547850173911"
      ]
     },
     "execution_count": 35,
     "metadata": {},
     "output_type": "execute_result"
    }
   ],
   "source": [
    "import numpy as np\n",
    "\n",
    "b = 2\n",
    "\n",
    "y_true = np.array([y]).reshape(-1)\n",
    "print(y_true.shape)\n",
    "y_pred = x * b\n",
    "mse = np.mean([ (y_t - y_p)**2 for y_t, y_p in zip(y_true, y_pred) ])\n",
    "mse\n"
   ]
  },
  {
   "cell_type": "code",
   "execution_count": 37,
   "id": "b159a649",
   "metadata": {},
   "outputs": [
    {
     "data": {
      "text/plain": [
       "761.6547850173911"
      ]
     },
     "execution_count": 37,
     "metadata": {},
     "output_type": "execute_result"
    }
   ],
   "source": [
    "from sklearn.metrics import mean_squared_error\n",
    "y_true.shape, y_pred.shape\n",
    "mean_squared_error(y_true, y_pred)"
   ]
  },
  {
   "cell_type": "code",
   "execution_count": 93,
   "id": "25cbfe76",
   "metadata": {},
   "outputs": [],
   "source": [
    "from sklearn.metrics import mean_squared_error\n",
    "\n",
    "def iterative_derivation(x, y, b, lr=0.1, epochs=100):\n",
    "    for e_ in range(epochs):\n",
    "        derivate = []\n",
    "        for i, x_ in enumerate(x):\n",
    "            # loss = (b * x_)**2 - y[i]\n",
    "            deriv = 2 * ((b * x_) - y[i])\n",
    "            derivate.append(deriv)\n",
    "        der = np.mean(np.array(derivate)) * lr\n",
    "        b -= der\n",
    "        mse = mean_squared_error(y, (x*b))\n",
    "        print(mse.round(1), der.round(3), b.round(3), end=',')\n",
    "    return b"
   ]
  },
  {
   "cell_type": "code",
   "execution_count": 97,
   "id": "27e56602",
   "metadata": {},
   "outputs": [
    {
     "name": "stdout",
     "output_type": "stream",
     "text": [
      "741.2 -0.551 2.551,721.8 -0.536 3.087,703.5 -0.521 3.608,686.3 -0.507 4.114,670.0 -0.493 4.607,654.6 -0.479 5.086,640.0 -0.466 5.552,626.3 -0.453 6.005,613.4 -0.44 6.445,601.1 -0.428 6.874,589.6 -0.416 7.29,578.7 -0.405 7.695,568.4 -0.394 8.089,558.7 -0.383 8.472,549.6 -0.372 8.844,540.9 -0.362 9.206,532.8 -0.352 9.559,525.1 -0.342 9.901,517.8 -0.333 10.234,510.9 -0.324 10.558,504.5 -0.315 10.872,498.4 -0.306 11.179,492.6 -0.298 11.476,487.2 -0.289 11.766,482.1 -0.281 12.047,477.2 -0.274 12.321,472.7 -0.266 12.587,468.4 -0.259 12.846,464.3 -0.252 13.098,460.5 -0.245 13.342,456.9 -0.238 13.58,453.5 -0.231 13.812,450.3 -0.225 14.037,447.3 -0.219 14.256,444.5 -0.213 14.468,441.8 -0.207 14.675,439.3 -0.201 14.876,436.9 -0.196 15.072,434.7 -0.19 15.262,432.6 -0.185 15.447,430.6 -0.18 15.627,428.7 -0.175 15.802,427.0 -0.17 15.972,425.3 -0.165 16.138,423.8 -0.161 16.298,422.3 -0.156 16.455,420.9 -0.152 16.607,419.6 -0.148 16.755,418.4 -0.144 16.899,417.3 -0.14 17.038,416.2 -0.136 17.174,415.2 -0.132 17.307,414.2 -0.129 17.435,413.3 -0.125 17.56,412.5 -0.122 17.682,411.7 -0.118 17.8,411.0 -0.115 17.915,410.3 -0.112 18.027,409.6 -0.109 18.135,409.0 -0.106 18.241,408.4 -0.103 18.344,407.9 -0.1 18.444,407.4 -0.097 18.541,406.9 -0.095 18.635,406.5 -0.092 18.727,406.1 -0.089 18.817,405.7 -0.087 18.904,405.3 -0.084 18.988,405.0 -0.082 19.07,404.7 -0.08 19.15,404.4 -0.078 19.228,404.1 -0.076 19.303,403.8 -0.073 19.377,403.6 -0.071 19.448,403.4 -0.069 19.518,403.2 -0.068 19.585,403.0 -0.066 19.651,402.8 -0.064 19.715,402.6 -0.062 19.777,402.5 -0.06 19.837,402.3 -0.059 19.896,402.2 -0.057 19.953,402.0 -0.056 20.009,401.9 -0.054 20.063,401.8 -0.053 20.115,401.7 -0.051 20.166,401.6 -0.05 20.216,401.5 -0.048 20.264,401.5 -0.047 20.311,401.4 -0.046 20.357,401.3 -0.044 20.401,401.3 -0.043 20.444,401.2 -0.042 20.486,401.2 -0.041 20.527,401.1 -0.04 20.567,401.1 -0.039 20.605,401.1 -0.038 20.643,401.0 -0.036 20.679,401.0 -0.035 20.715,401.0 -0.035 20.749,"
     ]
    }
   ],
   "source": [
    "b = 2.0\n",
    "new_b = iterative_derivation(x, y, b)"
   ]
  },
  {
   "cell_type": "code",
   "execution_count": 98,
   "id": "73bd98d3",
   "metadata": {},
   "outputs": [
    {
     "data": {
      "text/plain": [
       "<matplotlib.collections.PathCollection at 0x27d333039c8>"
      ]
     },
     "execution_count": 98,
     "metadata": {},
     "output_type": "execute_result"
    },
    {
     "data": {
      "image/png": "[encoded data removed]",
      "text/plain": [
       "<Figure size 432x288 with 1 Axes>"
      ]
     },
     "metadata": {
      "needs_background": "light"
     },
     "output_type": "display_data"
    }
   ],
   "source": [
    "y_pred = np.array(b * x)\n",
    "y_pred1 = np.array(new_b * x)\n",
    "plt.plot(x, y_pred)\n",
    "plt.plot(x, y_pred1)\n",
    "plt.scatter(x, y)"
   ]
  },
  {
   "cell_type": "code",
   "execution_count": null,
   "id": "b1998f2c",
   "metadata": {},
   "outputs": [],
   "source": []
  }
 ],
 "metadata": {
  "kernelspec": {
   "display_name": "Python 3 (ipykernel)",
   "language": "python",
   "name": "python3"
  },
  "language_info": {
   "codemirror_mode": {
    "name": "ipython",
    "version": 3
   },
   "file_extension": ".py",
   "mimetype": "text/x-python",
   "name": "python",
   "nbconvert_exporter": "python",
   "pygments_lexer": "ipython3",
   "version": "3.7.6"
  }
 },
 "nbformat": 4,
 "nbformat_minor": 5
}
