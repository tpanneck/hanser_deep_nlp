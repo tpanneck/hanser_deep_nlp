{
 "cells": [
  {
   "cell_type": "markdown",
   "id": "c32ab702",
   "metadata": {},
   "source": [
    "# 3.1.5 Lineare Regression mit Scikit-Learn (praktische Umsetzung)"
   ]
  },
  {
   "cell_type": "markdown",
   "id": "511f7d97",
   "metadata": {},
   "source": [
    "### 01 - Daten als *pandas.DataFrame* laden"
   ]
  },
  {
   "cell_type": "code",
   "execution_count": 1,
   "id": "d5fc4084",
   "metadata": {},
   "outputs": [
    {
     "data": {
      "text/html": [
       "<div>\n",
       "<style scoped>\n",
       "    .dataframe tbody tr th:only-of-type {\n",
       "        vertical-align: middle;\n",
       "    }\n",
       "\n",
       "    .dataframe tbody tr th {\n",
       "        vertical-align: top;\n",
       "    }\n",
       "\n",
       "    .dataframe thead th {\n",
       "        text-align: right;\n",
       "    }\n",
       "</style>\n",
       "<table border=\"1\" class=\"dataframe\">\n",
       "  <thead>\n",
       "    <tr style=\"text-align: right;\">\n",
       "      <th></th>\n",
       "      <th>age</th>\n",
       "      <th>bmi</th>\n",
       "      <th>children</th>\n",
       "      <th>charges</th>\n",
       "    </tr>\n",
       "  </thead>\n",
       "  <tbody>\n",
       "    <tr>\n",
       "      <th>0</th>\n",
       "      <td>19</td>\n",
       "      <td>27.900</td>\n",
       "      <td>0</td>\n",
       "      <td>16884.92400</td>\n",
       "    </tr>\n",
       "    <tr>\n",
       "      <th>1</th>\n",
       "      <td>18</td>\n",
       "      <td>33.770</td>\n",
       "      <td>1</td>\n",
       "      <td>1725.55230</td>\n",
       "    </tr>\n",
       "    <tr>\n",
       "      <th>2</th>\n",
       "      <td>28</td>\n",
       "      <td>33.000</td>\n",
       "      <td>3</td>\n",
       "      <td>4449.46200</td>\n",
       "    </tr>\n",
       "    <tr>\n",
       "      <th>3</th>\n",
       "      <td>33</td>\n",
       "      <td>22.705</td>\n",
       "      <td>0</td>\n",
       "      <td>21984.47061</td>\n",
       "    </tr>\n",
       "    <tr>\n",
       "      <th>4</th>\n",
       "      <td>32</td>\n",
       "      <td>28.880</td>\n",
       "      <td>0</td>\n",
       "      <td>3866.85520</td>\n",
       "    </tr>\n",
       "  </tbody>\n",
       "</table>\n",
       "</div>"
      ],
      "text/plain": [
       "   age     bmi  children      charges\n",
       "0   19  27.900         0  16884.92400\n",
       "1   18  33.770         1   1725.55230\n",
       "2   28  33.000         3   4449.46200\n",
       "3   33  22.705         0  21984.47061\n",
       "4   32  28.880         0   3866.85520"
      ]
     },
     "execution_count": 1,
     "metadata": {},
     "output_type": "execute_result"
    }
   ],
   "source": [
    "import pandas as pd\n",
    "from os.path import join\n",
    "\n",
    "path = r'..\\Data'\n",
    "df = pd.read_csv(join(path, 'insurance.csv'))\n",
    "df.head()"
   ]
  },
  {
   "cell_type": "markdown",
   "id": "7d380705",
   "metadata": {},
   "source": [
    "### 02 - X und y-Variablen separieren"
   ]
  },
  {
   "cell_type": "code",
   "execution_count": 2,
   "id": "8a594558",
   "metadata": {},
   "outputs": [
    {
     "data": {
      "text/plain": [
       "((1338, 3), (1338,))"
      ]
     },
     "execution_count": 2,
     "metadata": {},
     "output_type": "execute_result"
    }
   ],
   "source": [
    "X = df[['age', 'bmi', 'children']]\n",
    "y = df['charges']\n",
    "X.shape, y.shape"
   ]
  },
  {
   "cell_type": "markdown",
   "id": "4d3c747c",
   "metadata": {},
   "source": [
    "### 03 - Trainings- und Testdaten separieren"
   ]
  },
  {
   "cell_type": "code",
   "execution_count": 3,
   "id": "0c324c57",
   "metadata": {},
   "outputs": [
    {
     "data": {
      "text/plain": [
       "((1070, 3), (268, 3), (1070,), (268,))"
      ]
     },
     "execution_count": 3,
     "metadata": {},
     "output_type": "execute_result"
    }
   ],
   "source": [
    "from sklearn.model_selection import train_test_split\n",
    "\n",
    "X_train, X_test, y_train, y_test = train_test_split(X, y, test_size=.2)\n",
    "X_train.shape, X_test.shape, y_train.shape, y_test.shape"
   ]
  },
  {
   "cell_type": "markdown",
   "id": "8f6a25e0",
   "metadata": {},
   "source": [
    "### 04 - Lineares Regressionsmodell instanziieren und anlernen  "
   ]
  },
  {
   "cell_type": "code",
   "execution_count": 4,
   "id": "ef9cfb54",
   "metadata": {},
   "outputs": [
    {
     "data": {
      "text/plain": [
       "(-7272.097, array([246.752, 333.175, 748.962]))"
      ]
     },
     "execution_count": 4,
     "metadata": {},
     "output_type": "execute_result"
    }
   ],
   "source": [
    "from sklearn.linear_model import LinearRegression\n",
    "\n",
    "model = LinearRegression() # Instanziierung\n",
    "model.fit(X_train, y_train) # Anlernen des Modells anhand der Trainingsdaten\n",
    "\n",
    "# Abfrage der Parameter: Intercept und Koeffizienten (Gewichte)\n",
    "model.intercept_.round(3), model.coef_.round(3)"
   ]
  },
  {
   "cell_type": "markdown",
   "id": "18ea8956",
   "metadata": {},
   "source": [
    "### 05 - Schätzungen mit anglerntem Modell erzeugen"
   ]
  },
  {
   "cell_type": "code",
   "execution_count": 5,
   "id": "8092eae1",
   "metadata": {},
   "outputs": [
    {
     "name": "stdout",
     "output_type": "stream",
     "text": [
      "estimated costs per year (insurance): 15809.69 US$\n"
     ]
    }
   ],
   "source": [
    "##        age, bmi, numb of children\n",
    "x_pred = [[50, 30,  1]]\n",
    "\n",
    "y_pred = model.predict(x_pred)\n",
    "print('estimated costs per year (insurance):', y_pred[0].round(2), 'US$')"
   ]
  },
  {
   "cell_type": "markdown",
   "id": "f81240b8",
   "metadata": {},
   "source": [
    "### 06 - Qualität des Modells anhand der Testdaten überprüfen\n",
    "*Mittlerer absoluter Fehler* und *R-Quadrat* berechnen"
   ]
  },
  {
   "cell_type": "code",
   "execution_count": 6,
   "id": "c178bd23",
   "metadata": {},
   "outputs": [
    {
     "name": "stdout",
     "output_type": "stream",
     "text": [
      "mittlerer absoluter Fehler: 8799.75 R-Quadrat: 0.0789\n"
     ]
    }
   ],
   "source": [
    "from sklearn.metrics import mean_absolute_error, r2_score\n",
    "\n",
    "# zuerst predictions mit dem anglernten Modell über Testdaten (x) durchführen \n",
    "y_test_pred = model.predict(X_test) \n",
    "\n",
    "# dann wahre mit geschätzten y-Werten vergleichen\n",
    "mae = mean_absolute_error(y_test, y_test_pred)\n",
    "r2 = r2_score(y_test, y_test_pred)\n",
    "\n",
    "print('mittlerer absoluter Fehler:', mae.round(2), 'R-Quadrat:', r2.round(4))"
   ]
  }
 ],
 "metadata": {
  "kernelspec": {
   "display_name": "Python 3 (ipykernel)",
   "language": "python",
   "name": "python3"
  },
  "language_info": {
   "codemirror_mode": {
    "name": "ipython",
    "version": 3
   },
   "file_extension": ".py",
   "mimetype": "text/x-python",
   "name": "python",
   "nbconvert_exporter": "python",
   "pygments_lexer": "ipython3",
   "version": "3.7.6"
  }
 },
 "nbformat": 4,
 "nbformat_minor": 5
}
