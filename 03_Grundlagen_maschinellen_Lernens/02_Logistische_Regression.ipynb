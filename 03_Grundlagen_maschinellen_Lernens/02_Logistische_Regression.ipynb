{
 "cells": [
  {
   "cell_type": "markdown",
   "id": "13c57217",
   "metadata": {},
   "source": [
    "# 3.2.3 Logistische Regression (Breast Cancer Data)"
   ]
  },
  {
   "cell_type": "markdown",
   "id": "05dc6c61",
   "metadata": {},
   "source": [
    "### 01 - Daten laden"
   ]
  },
  {
   "cell_type": "code",
   "execution_count": 1,
   "id": "9f96c8fe",
   "metadata": {},
   "outputs": [
    {
     "data": {
      "text/html": [
       "<div>\n",
       "<style scoped>\n",
       "    .dataframe tbody tr th:only-of-type {\n",
       "        vertical-align: middle;\n",
       "    }\n",
       "\n",
       "    .dataframe tbody tr th {\n",
       "        vertical-align: top;\n",
       "    }\n",
       "\n",
       "    .dataframe thead th {\n",
       "        text-align: right;\n",
       "    }\n",
       "</style>\n",
       "<table border=\"1\" class=\"dataframe\">\n",
       "  <thead>\n",
       "    <tr style=\"text-align: right;\">\n",
       "      <th></th>\n",
       "      <th>clump thickness</th>\n",
       "      <th>uniformity cell size</th>\n",
       "      <th>uniformity cell shape</th>\n",
       "      <th>marginal adhesion</th>\n",
       "      <th>epithelial cell size</th>\n",
       "      <th>bare nuclei</th>\n",
       "      <th>bland chromatin</th>\n",
       "      <th>normal nucleoli</th>\n",
       "      <th>mitoses</th>\n",
       "      <th>label</th>\n",
       "    </tr>\n",
       "  </thead>\n",
       "  <tbody>\n",
       "    <tr>\n",
       "      <th>0</th>\n",
       "      <td>5</td>\n",
       "      <td>1</td>\n",
       "      <td>1</td>\n",
       "      <td>1</td>\n",
       "      <td>2</td>\n",
       "      <td>1.0</td>\n",
       "      <td>3</td>\n",
       "      <td>1</td>\n",
       "      <td>1</td>\n",
       "      <td>benign</td>\n",
       "    </tr>\n",
       "    <tr>\n",
       "      <th>1</th>\n",
       "      <td>5</td>\n",
       "      <td>4</td>\n",
       "      <td>4</td>\n",
       "      <td>5</td>\n",
       "      <td>7</td>\n",
       "      <td>10.0</td>\n",
       "      <td>3</td>\n",
       "      <td>2</td>\n",
       "      <td>1</td>\n",
       "      <td>benign</td>\n",
       "    </tr>\n",
       "    <tr>\n",
       "      <th>2</th>\n",
       "      <td>3</td>\n",
       "      <td>1</td>\n",
       "      <td>1</td>\n",
       "      <td>1</td>\n",
       "      <td>2</td>\n",
       "      <td>2.0</td>\n",
       "      <td>3</td>\n",
       "      <td>1</td>\n",
       "      <td>1</td>\n",
       "      <td>benign</td>\n",
       "    </tr>\n",
       "    <tr>\n",
       "      <th>3</th>\n",
       "      <td>6</td>\n",
       "      <td>8</td>\n",
       "      <td>8</td>\n",
       "      <td>1</td>\n",
       "      <td>3</td>\n",
       "      <td>4.0</td>\n",
       "      <td>3</td>\n",
       "      <td>7</td>\n",
       "      <td>1</td>\n",
       "      <td>benign</td>\n",
       "    </tr>\n",
       "    <tr>\n",
       "      <th>4</th>\n",
       "      <td>4</td>\n",
       "      <td>1</td>\n",
       "      <td>1</td>\n",
       "      <td>3</td>\n",
       "      <td>2</td>\n",
       "      <td>1.0</td>\n",
       "      <td>3</td>\n",
       "      <td>1</td>\n",
       "      <td>1</td>\n",
       "      <td>benign</td>\n",
       "    </tr>\n",
       "  </tbody>\n",
       "</table>\n",
       "</div>"
      ],
      "text/plain": [
       "   clump thickness  uniformity cell size  uniformity cell shape  \\\n",
       "0                5                     1                      1   \n",
       "1                5                     4                      4   \n",
       "2                3                     1                      1   \n",
       "3                6                     8                      8   \n",
       "4                4                     1                      1   \n",
       "\n",
       "   marginal adhesion  epithelial cell size  bare nuclei  bland chromatin  \\\n",
       "0                  1                     2          1.0                3   \n",
       "1                  5                     7         10.0                3   \n",
       "2                  1                     2          2.0                3   \n",
       "3                  1                     3          4.0                3   \n",
       "4                  3                     2          1.0                3   \n",
       "\n",
       "   normal nucleoli  mitoses   label  \n",
       "0                1        1  benign  \n",
       "1                2        1  benign  \n",
       "2                1        1  benign  \n",
       "3                7        1  benign  \n",
       "4                1        1  benign  "
      ]
     },
     "execution_count": 1,
     "metadata": {},
     "output_type": "execute_result"
    }
   ],
   "source": [
    "from os.path import join\n",
    "import numpy as np\n",
    "import pandas as pd\n",
    "\n",
    "path = '..\\Data'\n",
    "file = 'breast_cancer_wisconsin.csv'\n",
    "\n",
    "df = pd.read_csv(join(path, file))\n",
    "df = df.drop('id', axis=1)\n",
    "df.head()"
   ]
  },
  {
   "cell_type": "markdown",
   "id": "0c4ca95e",
   "metadata": {},
   "source": [
    "### 02 - X- und y-Variablen separieren"
   ]
  },
  {
   "cell_type": "code",
   "execution_count": 2,
   "id": "02afea0a",
   "metadata": {},
   "outputs": [
    {
     "data": {
      "text/plain": [
       "((683, 9), (683,))"
      ]
     },
     "execution_count": 2,
     "metadata": {},
     "output_type": "execute_result"
    }
   ],
   "source": [
    "X = df[['clump thickness', 'uniformity cell size', \n",
    "        'uniformity cell shape','marginal adhesion', \n",
    "        'epithelial cell size', 'bare nuclei','bland chromatin', \n",
    "        'normal nucleoli', 'mitoses']]\n",
    "y = df['label']\n",
    "\n",
    "X.shape, y.shape"
   ]
  },
  {
   "cell_type": "markdown",
   "id": "288fe11f",
   "metadata": {},
   "source": [
    "### 03 - Trainings- und Testpartitionen separieren"
   ]
  },
  {
   "cell_type": "code",
   "execution_count": 3,
   "id": "4d60bf74",
   "metadata": {},
   "outputs": [
    {
     "data": {
      "text/plain": [
       "((546, 9), (137, 9), (546,), (137,))"
      ]
     },
     "execution_count": 3,
     "metadata": {},
     "output_type": "execute_result"
    }
   ],
   "source": [
    "from sklearn.model_selection import train_test_split\n",
    "\n",
    "X_train, X_test, y_train, y_test = train_test_split(X, y, test_size=.2, random_state=11)\n",
    "X_train.shape, X_test.shape, y_train.shape, y_test.shape"
   ]
  },
  {
   "cell_type": "markdown",
   "id": "62870527",
   "metadata": {},
   "source": [
    "### 05 - Logistisches Regressionsmodell instanziieren und anlernen"
   ]
  },
  {
   "cell_type": "code",
   "execution_count": 4,
   "id": "077b185e",
   "metadata": {},
   "outputs": [
    {
     "data": {
      "text/plain": [
       "(array([-9.701]),\n",
       " array([[0.501, 0.133, 0.272, 0.324, 0.109, 0.345, 0.422, 0.157, 0.477]]))"
      ]
     },
     "execution_count": 4,
     "metadata": {},
     "output_type": "execute_result"
    }
   ],
   "source": [
    "from sklearn.linear_model import LogisticRegression\n",
    "\n",
    "model = LogisticRegression()\n",
    "model.fit(X_train, y_train)\n",
    "\n",
    "# Abfrage des Intercepts und der Koeffizienten \n",
    "model.intercept_.round(3), model.coef_.round(3)"
   ]
  },
  {
   "cell_type": "markdown",
   "id": "a40a0e4a",
   "metadata": {},
   "source": [
    "### 06 - Schätzungen durchführen"
   ]
  },
  {
   "cell_type": "code",
   "execution_count": 5,
   "id": "b84c74a0",
   "metadata": {},
   "outputs": [
    {
     "name": "stdout",
     "output_type": "stream",
     "text": [
      "predicted label: malignant \n",
      "predicted probability for benign [0] and malignant [1]: [[0.09 0.91]]\n"
     ]
    }
   ],
   "source": [
    "x_pred = [[ 5.,  4.,  4.,  5.,  7., 10.,  3.,  2.,  1.]]\n",
    "y_pred = model.predict(x_pred)\n",
    "y_pred_prob = model.predict_proba(x_pred)\n",
    "\n",
    "print('predicted label:', y_pred[0], '\\npredicted probability for benign [0] and malignant [1]:', y_pred_prob.round(3))"
   ]
  },
  {
   "cell_type": "markdown",
   "id": "351bebd2",
   "metadata": {},
   "source": [
    "### 07 - Qualität des Modells eruieren\n",
    "*Confusion Matrix* und *Accuracy* ausgeben "
   ]
  },
  {
   "cell_type": "code",
   "execution_count": 6,
   "id": "92d786b1",
   "metadata": {},
   "outputs": [
    {
     "name": "stdout",
     "output_type": "stream",
     "text": [
      "confusion matrix:\n",
      " [[349   9]\n",
      " [  8 180]] \n",
      "accuracy: 0.969\n"
     ]
    }
   ],
   "source": [
    "from sklearn.metrics import confusion_matrix, accuracy_score\n",
    "\n",
    "y_train_pred = model.predict(X_train)\n",
    "matrix = confusion_matrix(y_train, y_train_pred)\n",
    "accuracy = accuracy_score(y_train, y_train_pred)\n",
    "\n",
    "print('confusion matrix:\\n', matrix,  '\\naccuracy:', accuracy.round(3))"
   ]
  }
 ],
 "metadata": {
  "kernelspec": {
   "display_name": "Python 3 (ipykernel)",
   "language": "python",
   "name": "python3"
  },
  "language_info": {
   "codemirror_mode": {
    "name": "ipython",
    "version": 3
   },
   "file_extension": ".py",
   "mimetype": "text/x-python",
   "name": "python",
   "nbconvert_exporter": "python",
   "pygments_lexer": "ipython3",
   "version": "3.7.6"
  }
 },
 "nbformat": 4,
 "nbformat_minor": 5
}
